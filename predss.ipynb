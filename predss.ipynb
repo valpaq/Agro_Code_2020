{
 "cells": [
  {
   "cell_type": "code",
   "execution_count": 1,
   "metadata": {},
   "outputs": [],
   "source": [
    "import numpy as np\n",
    "import pandas as pd"
   ]
  },
  {
   "cell_type": "code",
   "execution_count": 2,
   "metadata": {},
   "outputs": [],
   "source": [
    "pred1=pd.read_csv('preds/baseline.csv')\n",
    "pred2=pd.read_csv('preds/catboost_290_1.csv')\n",
    "pred3=pd.read_csv('preds/catboost_290_2.csv')\n",
    "pred4=pd.read_csv('preds/fastai.csv')\n",
    "pred5=pd.read_csv('preds/fastai1.csv')\n",
    "pred6=pd.read_csv('preds/fastai2.csv')\n",
    "pred7=pd.read_csv('preds/h2o_dl.csv')\n",
    "pred8=pd.read_csv('preds/h2o_dl_5.csv')\n",
    "pred9=pd.read_csv('preds/submission-random-grid-search-catboost.csv')\n",
    "pred10=pd.read_csv('preds/submission-random-grid-search-catboost_290.csv')\n",
    "pred11=pd.read_csv('preds/submission-random-grid-search-xgb-01.csv')\n",
    "pred12=pd.read_csv('preds/submission-random-grid-search-xgb-290.csv')\n",
    "pred13=pd.read_csv('preds/torch_50.csv')\n",
    "pred14=pd.read_csv('preds/torch_51.csv')\n",
    "pred15=pd.read_csv('preds/torch_52.csv')\n",
    "pred16=pd.read_csv('preds/torch_53.csv')\n",
    "pred17=pd.read_csv('preds/xgb_51.csv')\n",
    "pred18=pd.read_csv('preds/xgb_52.csv')\n",
    "pred19=pd.read_csv('preds/torch_missf_290.csv')"
   ]
  },
  {
   "cell_type": "code",
   "execution_count": 3,
   "metadata": {},
   "outputs": [],
   "source": [
    "preds=pd.concat([pred1,pred2,pred3,pred4,pred5,pred6,pred7,pred8,pred9,pred10,pred11,pred12,pred13,pred14,pred15,pred16,pred17,pred18,pred19],axis=1)"
   ]
  },
  {
   "cell_type": "code",
   "execution_count": 5,
   "metadata": {},
   "outputs": [],
   "source": [
    "preds.columns = ['baseline','catboost1','catboost2','fastai','fastai1','fastai2','h2o_dl','h2o_dl5','catboost','catboost290','xgb1','xgb290','torch50','torch51','torch52','torch53','xgb51','xgb52','torch290']"
   ]
  },
  {
   "cell_type": "code",
   "execution_count": 6,
   "metadata": {},
   "outputs": [],
   "source": [
    "preds=preds.astype(int)"
   ]
  },
  {
   "cell_type": "code",
   "execution_count": 15,
   "metadata": {},
   "outputs": [],
   "source": [
    "preds.drop('final_preds',axis=1,inplace=True)"
   ]
  },
  {
   "cell_type": "code",
   "execution_count": 17,
   "metadata": {},
   "outputs": [],
   "source": [
    "final_preds=[]\n",
    "check_it=[]\n",
    "for i in range(len(preds)):\n",
    "    final_preds.append(preds.loc[i].value_counts()[:1].index.tolist()[0])\n",
    "    #try:\n",
    "    #    if preds.loc[i].value_counts()[:1]."
   ]
  },
  {
   "cell_type": "code",
   "execution_count": 19,
   "metadata": {},
   "outputs": [],
   "source": [
    "preds['final_preds']=pd.Series(final_preds)"
   ]
  },
  {
   "cell_type": "code",
   "execution_count": 26,
   "metadata": {},
   "outputs": [
    {
     "name": "stdout",
     "output_type": "stream",
     "text": [
      "baseline 0.8338658146964856\n",
      "catboost1 0.9243876464323749\n",
      "catboost2 0.9211927582534611\n",
      "fastai 0.7124600638977636\n",
      "fastai1 0.6751863684771033\n",
      "fastai2 0.7039403620873269\n",
      "h2o_dl 0.7710330138445154\n",
      "h2o_dl5 0.8083067092651757\n",
      "catboost 0.9211927582534611\n",
      "catboost290 0.9116080937167199\n",
      "xgb1 0.8359957401490948\n",
      "xgb290 0.8551650692225772\n",
      "torch50 0.8445154419595314\n",
      "torch51 0.8370607028753994\n",
      "torch52 0.8285410010649628\n",
      "torch53 0.8349307774227902\n",
      "xgb51 0.8498402555910544\n",
      "xgb52 0.8477103301384451\n",
      "torch290 0.8264110756123536\n"
     ]
    }
   ],
   "source": [
    "for j in (preds.drop('final_preds',axis=1)).columns:\n",
    "    c=0\n",
    "    for i in range(len(preds)):\n",
    "        if int(preds.loc[i,j])==int(preds.loc[i,'final_preds']):\n",
    "            c+=1\n",
    "    print(j,c/939)"
   ]
  },
  {
   "cell_type": "code",
   "execution_count": null,
   "metadata": {},
   "outputs": [],
   "source": []
  },
  {
   "cell_type": "code",
   "execution_count": null,
   "metadata": {},
   "outputs": [],
   "source": []
  },
  {
   "cell_type": "code",
   "execution_count": 73,
   "metadata": {},
   "outputs": [],
   "source": [
    "pd.Series(final_preds).to_csv('preds/final_preds.csv', index=False, header=['Culture'])"
   ]
  },
  {
   "cell_type": "code",
   "execution_count": null,
   "metadata": {},
   "outputs": [],
   "source": []
  }
 ],
 "metadata": {
  "kernelspec": {
   "display_name": "Python 3",
   "language": "python",
   "name": "python3"
  },
  "language_info": {
   "codemirror_mode": {
    "name": "ipython",
    "version": 3
   },
   "file_extension": ".py",
   "mimetype": "text/x-python",
   "name": "python",
   "nbconvert_exporter": "python",
   "pygments_lexer": "ipython3",
   "version": "3.7.8"
  }
 },
 "nbformat": 4,
 "nbformat_minor": 4
}
