{
 "cells": [
  {
   "cell_type": "code",
   "execution_count": 1,
   "metadata": {},
   "outputs": [],
   "source": [
    "import pandas as pd\n",
    "import numpy as np\n",
    "from sklearn.decomposition import PCA\n",
    "import matplotlib.pyplot as plt"
   ]
  },
  {
   "cell_type": "code",
   "execution_count": 2,
   "metadata": {},
   "outputs": [
    {
     "name": "stdout",
     "output_type": "stream",
     "text": [
      "(2838, 293) (939, 293)\n"
     ]
    }
   ],
   "source": [
    "train = pd.read_csv('data/train_dropped_290_without_nans.csv')\n",
    "test = pd.read_csv('data/test_dropped_290_without_nans.csv')\n",
    "y_train=pd.read_csv('data/y_train.csv')['Culture']\n",
    "print(train.shape, test.shape)"
   ]
  },
  {
   "cell_type": "code",
   "execution_count": 3,
   "metadata": {},
   "outputs": [],
   "source": [
    "train.drop(['0','1','2'],axis=1,inplace=True)\n",
    "test.drop(['0','1','2'],axis=1,inplace=True)"
   ]
  },
  {
   "cell_type": "code",
   "execution_count": 4,
   "metadata": {},
   "outputs": [
    {
     "data": {
      "text/plain": [
       "Text(0, 0.5, 'cumulative explained variance')"
      ]
     },
     "execution_count": 4,
     "metadata": {},
     "output_type": "execute_result"
    },
    {
     "data": {
      "image/png": "[encoded data removed]",
      "text/plain": [
       "<Figure size 432x288 with 1 Axes>"
      ]
     },
     "metadata": {
      "needs_background": "light"
     },
     "output_type": "display_data"
    }
   ],
   "source": [
    "pca = PCA(.9999).fit(train)\n",
    "plt.plot(np.cumsum(pca.explained_variance_ratio_))\n",
    "plt.xlabel('number of components')\n",
    "plt.ylabel('cumulative explained variance')"
   ]
  },
  {
   "cell_type": "code",
   "execution_count": 5,
   "metadata": {},
   "outputs": [
    {
     "name": "stdout",
     "output_type": "stream",
     "text": [
      "0 0.6558562124404069\n",
      "1 0.7571269508550658\n",
      "2 0.85215130513175\n",
      "3 0.8956252803914879\n",
      "4 0.9317024371630304\n",
      "5 0.9536053037172073\n",
      "6 0.9657960427376536\n",
      "7 0.973931485035136\n",
      "8 0.9802429703985472\n",
      "9 0.9843196002435566\n",
      "10 0.9877432902117959\n",
      "11 0.9904887805510919\n",
      "12 0.9922919161513929\n",
      "13 0.9935292087643313\n",
      "14 0.9946296178806462\n",
      "15 0.995488332148839\n",
      "16 0.9962617203798444\n",
      "17 0.9968067736769125\n",
      "18 0.997284437618733\n",
      "19 0.9977087257210732\n",
      "20 0.9980855433826518\n",
      "21 0.9983458766522216\n",
      "22 0.9985573129333817\n",
      "23 0.9987441644772672\n",
      "24 0.9989096880564847\n",
      "25 0.9990622957215698\n",
      "26 0.9991784500493495\n",
      "27 0.9992802679655883\n",
      "28 0.9993689369412478\n",
      "29 0.9994381750036855\n",
      "30 0.9995010573269945\n",
      "31 0.9995553342511482\n",
      "32 0.9996016112074376\n",
      "33 0.9996427799152167\n",
      "34 0.9996763178646819\n",
      "35 0.9997074057368199\n",
      "36 0.9997357709872764\n",
      "37 0.9997610887149798\n",
      "38 0.9997855184673325\n",
      "39 0.999805232242349\n",
      "40 0.9998220697991198\n",
      "41 0.9998378189720039\n",
      "42 0.9998506542429956\n",
      "43 0.9998626124074401\n",
      "44 0.9998730327977753\n",
      "45 0.9998829703135709\n",
      "46 0.9998917473542942\n",
      "47 0.9999000140915842\n"
     ]
    }
   ],
   "source": [
    "for i,j in enumerate(np.cumsum(pca.explained_variance_ratio_)):\n",
    "    print(i,j)"
   ]
  },
  {
   "cell_type": "code",
   "execution_count": 6,
   "metadata": {},
   "outputs": [],
   "source": [
    "train_pca=pca.transform(train)"
   ]
  },
  {
   "cell_type": "code",
   "execution_count": 7,
   "metadata": {},
   "outputs": [],
   "source": [
    "test_pca=pca.transform(test)"
   ]
  },
  {
   "cell_type": "code",
   "execution_count": 8,
   "metadata": {},
   "outputs": [],
   "source": [
    "train_pca=pd.DataFrame(train_pca)\n",
    "test_pca=pd.DataFrame(test_pca)"
   ]
  },
  {
   "cell_type": "code",
   "execution_count": 9,
   "metadata": {},
   "outputs": [],
   "source": [
    "train = pd.read_csv('data/train_dropped_290_without_nans.csv')\n",
    "test = pd.read_csv('data/test_dropped_290_without_nans.csv')"
   ]
  },
  {
   "cell_type": "code",
   "execution_count": 10,
   "metadata": {},
   "outputs": [],
   "source": [
    "for i in ['0','1','2']:\n",
    "    train_pca[i]=train[i]\n",
    "    test_pca[i]=test[i]"
   ]
  },
  {
   "cell_type": "code",
   "execution_count": 11,
   "metadata": {},
   "outputs": [],
   "source": [
    "train_pca.to_csv('data/train_pca_0.9999.csv',index=False)"
   ]
  },
  {
   "cell_type": "code",
   "execution_count": 12,
   "metadata": {},
   "outputs": [],
   "source": [
    "test.to_csv('data/test_pca_0.9999.csv',index=False)"
   ]
  },
  {
   "cell_type": "code",
   "execution_count": 13,
   "metadata": {},
   "outputs": [
    {
     "data": {
      "text/plain": [
       "Text(0, 0.5, 'cumulative explained variance')"
      ]
     },
     "execution_count": 13,
     "metadata": {},
     "output_type": "execute_result"
    },
    {
     "data": {
      "image/png": "[encoded data removed]",
      "text/plain": [
       "<Figure size 432x288 with 1 Axes>"
      ]
     },
     "metadata": {
      "needs_background": "light"
     },
     "output_type": "display_data"
    }
   ],
   "source": [
    "train.drop(['0','1','2'],axis=1,inplace=True)\n",
    "test.drop(['0','1','2'],axis=1,inplace=True)\n",
    "pca = PCA(.99999).fit(train)\n",
    "plt.plot(np.cumsum(pca.explained_variance_ratio_))\n",
    "plt.xlabel('number of components')\n",
    "plt.ylabel('cumulative explained variance')"
   ]
  },
  {
   "cell_type": "code",
   "execution_count": 14,
   "metadata": {},
   "outputs": [],
   "source": [
    "train_pca=pca.transform(train)\n",
    "test_pca=pca.transform(test)\n",
    "train_pca=pd.DataFrame(train_pca)\n",
    "test_pca=pd.DataFrame(test_pca)\n",
    "train = pd.read_csv('data/train_dropped_290_without_nans.csv')\n",
    "test = pd.read_csv('data/test_dropped_290_without_nans.csv')\n",
    "for i in ['0','1','2']:\n",
    "    train_pca[i]=train[i]\n",
    "    test_pca[i]=test[i]\n",
    "train_pca.to_csv('data/train_pca_0.99999.csv',index=False)\n",
    "test.to_csv('data/test_pca_0.99999.csv',index=False)"
   ]
  },
  {
   "cell_type": "code",
   "execution_count": null,
   "metadata": {},
   "outputs": [],
   "source": []
  }
 ],
 "metadata": {
  "kernelspec": {
   "display_name": "Python 3",
   "language": "python",
   "name": "python3"
  },
  "language_info": {
   "codemirror_mode": {
    "name": "ipython",
    "version": 3
   },
   "file_extension": ".py",
   "mimetype": "text/x-python",
   "name": "python",
   "nbconvert_exporter": "python",
   "pygments_lexer": "ipython3",
   "version": "3.7.8"
  }
 },
 "nbformat": 4,
 "nbformat_minor": 4
}
