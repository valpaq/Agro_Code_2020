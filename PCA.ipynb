{
 "cells": [
  {
   "cell_type": "code",
   "execution_count": 1,
   "metadata": {},
   "outputs": [],
   "source": [
    "import pandas as pd\n",
    "import numpy as np\n",
    "from sklearn.decomposition import PCA\n",
    "import matplotlib.pyplot as plt"
   ]
  },
  {
   "cell_type": "code",
   "execution_count": 2,
   "metadata": {},
   "outputs": [
    {
     "name": "stdout",
     "output_type": "stream",
     "text": [
      "(2828, 293) (939, 293)\n"
     ]
    }
   ],
   "source": [
    "train = pd.read_csv('data/train_290_without_low1.csv')\n",
    "test = pd.read_csv('data/test_dropped_290_without_nans.csv')\n",
    "y_train=train['Culture']\n",
    "train=train.drop('Culture',axis=1)\n",
    "print(train.shape, test.shape)"
   ]
  },
  {
   "cell_type": "code",
   "execution_count": 3,
   "metadata": {},
   "outputs": [],
   "source": [
    "train.drop(['0','1','2'],axis=1,inplace=True)\n",
    "test.drop(['0','1','2'],axis=1,inplace=True)"
   ]
  },
  {
   "cell_type": "code",
   "execution_count": 4,
   "metadata": {},
   "outputs": [
    {
     "data": {
      "text/plain": [
       "Text(0, 0.5, 'cumulative explained variance')"
      ]
     },
     "execution_count": 4,
     "metadata": {},
     "output_type": "execute_result"
    },
    {
     "data": {
      "image/png": "[encoded data removed]",
      "text/plain": [
       "<Figure size 432x288 with 1 Axes>"
      ]
     },
     "metadata": {
      "needs_background": "light"
     },
     "output_type": "display_data"
    }
   ],
   "source": [
    "pca = PCA(.99999999).fit(train)\n",
    "plt.plot(np.cumsum(pca.explained_variance_ratio_))\n",
    "plt.xlabel('number of components')\n",
    "plt.ylabel('cumulative explained variance')"
   ]
  },
  {
   "cell_type": "code",
   "execution_count": 5,
   "metadata": {},
   "outputs": [],
   "source": [
    "train_pca=pca.transform(train)"
   ]
  },
  {
   "cell_type": "code",
   "execution_count": 6,
   "metadata": {},
   "outputs": [],
   "source": [
    "test_pca=pca.transform(test)"
   ]
  },
  {
   "cell_type": "code",
   "execution_count": 7,
   "metadata": {},
   "outputs": [],
   "source": [
    "train_pca=pd.DataFrame(train_pca)\n",
    "test_pca=pd.DataFrame(test_pca)"
   ]
  },
  {
   "cell_type": "code",
   "execution_count": 8,
   "metadata": {},
   "outputs": [],
   "source": [
    "train = pd.read_csv('data/train_dropped_290_without_nans.csv')\n",
    "test = pd.read_csv('data/test_dropped_290_without_nans.csv')"
   ]
  },
  {
   "cell_type": "code",
   "execution_count": 13,
   "metadata": {},
   "outputs": [],
   "source": [
    "for i in ['0','1','2']:\n",
    "    train_pca[i]=train[i]\n",
    "    test_pca[i]=test[i]\n",
    "train_pca['Culture']=y_train"
   ]
  },
  {
   "cell_type": "code",
   "execution_count": 14,
   "metadata": {},
   "outputs": [],
   "source": [
    "train_pca.to_csv('data/train_pca_0.99999999.csv',index=False)"
   ]
  },
  {
   "cell_type": "code",
   "execution_count": 15,
   "metadata": {},
   "outputs": [],
   "source": [
    "test_pca.to_csv('data/test_pca_0.99999999.csv',index=False)"
   ]
  },
  {
   "cell_type": "code",
   "execution_count": 16,
   "metadata": {},
   "outputs": [
    {
     "data": {
      "text/html": [
       "<div>\n",
       "<style scoped>\n",
       "    .dataframe tbody tr th:only-of-type {\n",
       "        vertical-align: middle;\n",
       "    }\n",
       "\n",
       "    .dataframe tbody tr th {\n",
       "        vertical-align: top;\n",
       "    }\n",
       "\n",
       "    .dataframe thead th {\n",
       "        text-align: right;\n",
       "    }\n",
       "</style>\n",
       "<table border=\"1\" class=\"dataframe\">\n",
       "  <thead>\n",
       "    <tr style=\"text-align: right;\">\n",
       "      <th></th>\n",
       "      <th>0</th>\n",
       "      <th>1</th>\n",
       "      <th>2</th>\n",
       "      <th>3</th>\n",
       "      <th>4</th>\n",
       "      <th>5</th>\n",
       "      <th>6</th>\n",
       "      <th>7</th>\n",
       "      <th>8</th>\n",
       "      <th>9</th>\n",
       "      <th>...</th>\n",
       "      <th>275</th>\n",
       "      <th>276</th>\n",
       "      <th>277</th>\n",
       "      <th>278</th>\n",
       "      <th>279</th>\n",
       "      <th>280</th>\n",
       "      <th>0</th>\n",
       "      <th>1</th>\n",
       "      <th>2</th>\n",
       "      <th>Culture</th>\n",
       "    </tr>\n",
       "  </thead>\n",
       "  <tbody>\n",
       "    <tr>\n",
       "      <th>0</th>\n",
       "      <td>4.644999</td>\n",
       "      <td>-1.171835</td>\n",
       "      <td>-0.081057</td>\n",
       "      <td>-0.125770</td>\n",
       "      <td>0.254611</td>\n",
       "      <td>0.226908</td>\n",
       "      <td>-0.009404</td>\n",
       "      <td>-0.265658</td>\n",
       "      <td>-0.015255</td>\n",
       "      <td>-0.025979</td>\n",
       "      <td>...</td>\n",
       "      <td>-0.000068</td>\n",
       "      <td>0.000051</td>\n",
       "      <td>0.000034</td>\n",
       "      <td>0.000034</td>\n",
       "      <td>0.000041</td>\n",
       "      <td>-0.000012</td>\n",
       "      <td>2018.0</td>\n",
       "      <td>517.0</td>\n",
       "      <td>48.64</td>\n",
       "      <td>4</td>\n",
       "    </tr>\n",
       "    <tr>\n",
       "      <th>1</th>\n",
       "      <td>-2.485984</td>\n",
       "      <td>-0.186353</td>\n",
       "      <td>-1.274751</td>\n",
       "      <td>0.825462</td>\n",
       "      <td>0.331752</td>\n",
       "      <td>-0.499354</td>\n",
       "      <td>-0.161753</td>\n",
       "      <td>-0.192708</td>\n",
       "      <td>0.221191</td>\n",
       "      <td>0.177418</td>\n",
       "      <td>...</td>\n",
       "      <td>-0.000110</td>\n",
       "      <td>-0.000033</td>\n",
       "      <td>0.000004</td>\n",
       "      <td>0.000431</td>\n",
       "      <td>-0.000232</td>\n",
       "      <td>0.000041</td>\n",
       "      <td>2019.0</td>\n",
       "      <td>1395.0</td>\n",
       "      <td>80.41</td>\n",
       "      <td>17</td>\n",
       "    </tr>\n",
       "    <tr>\n",
       "      <th>2</th>\n",
       "      <td>-2.730865</td>\n",
       "      <td>-0.298112</td>\n",
       "      <td>0.203354</td>\n",
       "      <td>-0.638905</td>\n",
       "      <td>-0.765642</td>\n",
       "      <td>0.268721</td>\n",
       "      <td>0.748522</td>\n",
       "      <td>-0.193241</td>\n",
       "      <td>0.182282</td>\n",
       "      <td>-0.145103</td>\n",
       "      <td>...</td>\n",
       "      <td>-0.000039</td>\n",
       "      <td>-0.000108</td>\n",
       "      <td>0.000007</td>\n",
       "      <td>0.000004</td>\n",
       "      <td>-0.000147</td>\n",
       "      <td>0.000244</td>\n",
       "      <td>2017.0</td>\n",
       "      <td>44.0</td>\n",
       "      <td>43.64</td>\n",
       "      <td>2</td>\n",
       "    </tr>\n",
       "    <tr>\n",
       "      <th>3</th>\n",
       "      <td>3.204312</td>\n",
       "      <td>-0.274076</td>\n",
       "      <td>0.840615</td>\n",
       "      <td>0.594383</td>\n",
       "      <td>-1.140873</td>\n",
       "      <td>-0.472444</td>\n",
       "      <td>-0.460494</td>\n",
       "      <td>0.421908</td>\n",
       "      <td>0.721556</td>\n",
       "      <td>-0.056575</td>\n",
       "      <td>...</td>\n",
       "      <td>-0.000189</td>\n",
       "      <td>-0.000133</td>\n",
       "      <td>0.000073</td>\n",
       "      <td>0.000071</td>\n",
       "      <td>-0.000020</td>\n",
       "      <td>-0.000017</td>\n",
       "      <td>2018.0</td>\n",
       "      <td>1591.0</td>\n",
       "      <td>79.34</td>\n",
       "      <td>4</td>\n",
       "    </tr>\n",
       "    <tr>\n",
       "      <th>4</th>\n",
       "      <td>-2.360852</td>\n",
       "      <td>1.509807</td>\n",
       "      <td>-1.100292</td>\n",
       "      <td>-0.678479</td>\n",
       "      <td>0.642358</td>\n",
       "      <td>0.218669</td>\n",
       "      <td>-0.525703</td>\n",
       "      <td>-0.450308</td>\n",
       "      <td>0.220883</td>\n",
       "      <td>-0.461842</td>\n",
       "      <td>...</td>\n",
       "      <td>-0.000122</td>\n",
       "      <td>-0.000029</td>\n",
       "      <td>-0.000044</td>\n",
       "      <td>-0.000088</td>\n",
       "      <td>-0.000077</td>\n",
       "      <td>-0.000006</td>\n",
       "      <td>2017.0</td>\n",
       "      <td>681.0</td>\n",
       "      <td>144.76</td>\n",
       "      <td>4</td>\n",
       "    </tr>\n",
       "    <tr>\n",
       "      <th>...</th>\n",
       "      <td>...</td>\n",
       "      <td>...</td>\n",
       "      <td>...</td>\n",
       "      <td>...</td>\n",
       "      <td>...</td>\n",
       "      <td>...</td>\n",
       "      <td>...</td>\n",
       "      <td>...</td>\n",
       "      <td>...</td>\n",
       "      <td>...</td>\n",
       "      <td>...</td>\n",
       "      <td>...</td>\n",
       "      <td>...</td>\n",
       "      <td>...</td>\n",
       "      <td>...</td>\n",
       "      <td>...</td>\n",
       "      <td>...</td>\n",
       "      <td>...</td>\n",
       "      <td>...</td>\n",
       "      <td>...</td>\n",
       "      <td>...</td>\n",
       "    </tr>\n",
       "    <tr>\n",
       "      <th>2823</th>\n",
       "      <td>3.370614</td>\n",
       "      <td>-0.443714</td>\n",
       "      <td>0.743663</td>\n",
       "      <td>0.624816</td>\n",
       "      <td>0.236538</td>\n",
       "      <td>0.262859</td>\n",
       "      <td>0.499478</td>\n",
       "      <td>-0.501979</td>\n",
       "      <td>0.144991</td>\n",
       "      <td>0.049731</td>\n",
       "      <td>...</td>\n",
       "      <td>-0.000149</td>\n",
       "      <td>-0.000164</td>\n",
       "      <td>0.000147</td>\n",
       "      <td>0.000329</td>\n",
       "      <td>-0.000162</td>\n",
       "      <td>0.000122</td>\n",
       "      <td>2018.0</td>\n",
       "      <td>22.0</td>\n",
       "      <td>86.55</td>\n",
       "      <td>4</td>\n",
       "    </tr>\n",
       "    <tr>\n",
       "      <th>2824</th>\n",
       "      <td>2.034094</td>\n",
       "      <td>0.137510</td>\n",
       "      <td>-1.211978</td>\n",
       "      <td>-0.005544</td>\n",
       "      <td>-0.689247</td>\n",
       "      <td>0.510110</td>\n",
       "      <td>-0.142857</td>\n",
       "      <td>-0.368863</td>\n",
       "      <td>-0.026139</td>\n",
       "      <td>-0.132320</td>\n",
       "      <td>...</td>\n",
       "      <td>0.000018</td>\n",
       "      <td>0.000023</td>\n",
       "      <td>0.000140</td>\n",
       "      <td>0.000097</td>\n",
       "      <td>0.000033</td>\n",
       "      <td>0.000005</td>\n",
       "      <td>2017.0</td>\n",
       "      <td>231.0</td>\n",
       "      <td>94.43</td>\n",
       "      <td>4</td>\n",
       "    </tr>\n",
       "    <tr>\n",
       "      <th>2825</th>\n",
       "      <td>1.537344</td>\n",
       "      <td>0.073370</td>\n",
       "      <td>-0.965067</td>\n",
       "      <td>-0.083822</td>\n",
       "      <td>-0.955435</td>\n",
       "      <td>0.014964</td>\n",
       "      <td>-0.471531</td>\n",
       "      <td>-0.440293</td>\n",
       "      <td>-0.150382</td>\n",
       "      <td>-0.043515</td>\n",
       "      <td>...</td>\n",
       "      <td>0.000290</td>\n",
       "      <td>-0.000178</td>\n",
       "      <td>0.000158</td>\n",
       "      <td>-0.000029</td>\n",
       "      <td>-0.000436</td>\n",
       "      <td>-0.000426</td>\n",
       "      <td>2018.0</td>\n",
       "      <td>242.0</td>\n",
       "      <td>52.45</td>\n",
       "      <td>4</td>\n",
       "    </tr>\n",
       "    <tr>\n",
       "      <th>2826</th>\n",
       "      <td>-1.134091</td>\n",
       "      <td>1.653277</td>\n",
       "      <td>0.014823</td>\n",
       "      <td>-1.263081</td>\n",
       "      <td>-0.546080</td>\n",
       "      <td>0.447197</td>\n",
       "      <td>0.111064</td>\n",
       "      <td>0.299207</td>\n",
       "      <td>-0.104738</td>\n",
       "      <td>0.193487</td>\n",
       "      <td>...</td>\n",
       "      <td>0.000039</td>\n",
       "      <td>-0.000091</td>\n",
       "      <td>0.000052</td>\n",
       "      <td>-0.000082</td>\n",
       "      <td>0.000002</td>\n",
       "      <td>0.000106</td>\n",
       "      <td>2017.0</td>\n",
       "      <td>342.0</td>\n",
       "      <td>75.41</td>\n",
       "      <td>5</td>\n",
       "    </tr>\n",
       "    <tr>\n",
       "      <th>2827</th>\n",
       "      <td>-0.684781</td>\n",
       "      <td>-1.131790</td>\n",
       "      <td>0.703278</td>\n",
       "      <td>-0.921092</td>\n",
       "      <td>0.177697</td>\n",
       "      <td>0.027416</td>\n",
       "      <td>-0.114739</td>\n",
       "      <td>-0.023743</td>\n",
       "      <td>-0.105573</td>\n",
       "      <td>-0.106395</td>\n",
       "      <td>...</td>\n",
       "      <td>0.000213</td>\n",
       "      <td>0.000006</td>\n",
       "      <td>-0.000254</td>\n",
       "      <td>-0.000112</td>\n",
       "      <td>-0.000017</td>\n",
       "      <td>-0.000038</td>\n",
       "      <td>2018.0</td>\n",
       "      <td>1414.0</td>\n",
       "      <td>89.56</td>\n",
       "      <td>7</td>\n",
       "    </tr>\n",
       "  </tbody>\n",
       "</table>\n",
       "<p>2828 rows × 285 columns</p>\n",
       "</div>"
      ],
      "text/plain": [
       "             0         1         2         3         4         5         6  \\\n",
       "0     4.644999 -1.171835 -0.081057 -0.125770  0.254611  0.226908 -0.009404   \n",
       "1    -2.485984 -0.186353 -1.274751  0.825462  0.331752 -0.499354 -0.161753   \n",
       "2    -2.730865 -0.298112  0.203354 -0.638905 -0.765642  0.268721  0.748522   \n",
       "3     3.204312 -0.274076  0.840615  0.594383 -1.140873 -0.472444 -0.460494   \n",
       "4    -2.360852  1.509807 -1.100292 -0.678479  0.642358  0.218669 -0.525703   \n",
       "...        ...       ...       ...       ...       ...       ...       ...   \n",
       "2823  3.370614 -0.443714  0.743663  0.624816  0.236538  0.262859  0.499478   \n",
       "2824  2.034094  0.137510 -1.211978 -0.005544 -0.689247  0.510110 -0.142857   \n",
       "2825  1.537344  0.073370 -0.965067 -0.083822 -0.955435  0.014964 -0.471531   \n",
       "2826 -1.134091  1.653277  0.014823 -1.263081 -0.546080  0.447197  0.111064   \n",
       "2827 -0.684781 -1.131790  0.703278 -0.921092  0.177697  0.027416 -0.114739   \n",
       "\n",
       "             7         8         9  ...       275       276       277  \\\n",
       "0    -0.265658 -0.015255 -0.025979  ... -0.000068  0.000051  0.000034   \n",
       "1    -0.192708  0.221191  0.177418  ... -0.000110 -0.000033  0.000004   \n",
       "2    -0.193241  0.182282 -0.145103  ... -0.000039 -0.000108  0.000007   \n",
       "3     0.421908  0.721556 -0.056575  ... -0.000189 -0.000133  0.000073   \n",
       "4    -0.450308  0.220883 -0.461842  ... -0.000122 -0.000029 -0.000044   \n",
       "...        ...       ...       ...  ...       ...       ...       ...   \n",
       "2823 -0.501979  0.144991  0.049731  ... -0.000149 -0.000164  0.000147   \n",
       "2824 -0.368863 -0.026139 -0.132320  ...  0.000018  0.000023  0.000140   \n",
       "2825 -0.440293 -0.150382 -0.043515  ...  0.000290 -0.000178  0.000158   \n",
       "2826  0.299207 -0.104738  0.193487  ...  0.000039 -0.000091  0.000052   \n",
       "2827 -0.023743 -0.105573 -0.106395  ...  0.000213  0.000006 -0.000254   \n",
       "\n",
       "           278       279       280       0       1       2  Culture  \n",
       "0     0.000034  0.000041 -0.000012  2018.0   517.0   48.64        4  \n",
       "1     0.000431 -0.000232  0.000041  2019.0  1395.0   80.41       17  \n",
       "2     0.000004 -0.000147  0.000244  2017.0    44.0   43.64        2  \n",
       "3     0.000071 -0.000020 -0.000017  2018.0  1591.0   79.34        4  \n",
       "4    -0.000088 -0.000077 -0.000006  2017.0   681.0  144.76        4  \n",
       "...        ...       ...       ...     ...     ...     ...      ...  \n",
       "2823  0.000329 -0.000162  0.000122  2018.0    22.0   86.55        4  \n",
       "2824  0.000097  0.000033  0.000005  2017.0   231.0   94.43        4  \n",
       "2825 -0.000029 -0.000436 -0.000426  2018.0   242.0   52.45        4  \n",
       "2826 -0.000082  0.000002  0.000106  2017.0   342.0   75.41        5  \n",
       "2827 -0.000112 -0.000017 -0.000038  2018.0  1414.0   89.56        7  \n",
       "\n",
       "[2828 rows x 285 columns]"
      ]
     },
     "execution_count": 16,
     "metadata": {},
     "output_type": "execute_result"
    }
   ],
   "source": [
    "train_pca"
   ]
  },
  {
   "cell_type": "code",
   "execution_count": 10,
   "metadata": {},
   "outputs": [
    {
     "data": {
      "text/plain": [
       "Text(0, 0.5, 'cumulative explained variance')"
      ]
     },
     "execution_count": 10,
     "metadata": {},
     "output_type": "execute_result"
    },
    {
     "data": {
      "image/png": "[encoded data removed]",
      "text/plain": [
       "<Figure size 432x288 with 1 Axes>"
      ]
     },
     "metadata": {
      "needs_background": "light"
     },
     "output_type": "display_data"
    }
   ],
   "source": [
    "train = pd.read_csv('data/train_290_without_low1.csv')\n",
    "test = pd.read_csv('data/test_dropped_290_without_nans.csv')\n",
    "xtrain=train.drop(['0','1','2','Culture'],axis=1)\n",
    "xtest=test.drop(['0','1','2'],axis=1)\n",
    "pca = PCA(.9999999).fit(xtrain)\n",
    "plt.plot(np.cumsum(pca.explained_variance_ratio_))\n",
    "plt.xlabel('number of components')\n",
    "plt.ylabel('cumulative explained variance')"
   ]
  },
  {
   "cell_type": "code",
   "execution_count": 13,
   "metadata": {},
   "outputs": [],
   "source": [
    "train_pca=pca.transform(xtrain)\n",
    "test_pca=pca.transform(xtest)\n",
    "train_pca=pd.DataFrame(train_pca)\n",
    "test_pca=pd.DataFrame(test_pca)\n",
    "for i in ['0','1','2']:\n",
    "    train_pca[i]=train[i]\n",
    "    test_pca[i]=test[i]\n",
    "train_pca['Culture']=train['Culture']\n",
    "train_pca.to_csv('data/train_pca_0.9999999.csv',index=False)\n",
    "test_pca.to_csv('data/test_pca_0.9999999.csv',index=False)"
   ]
  },
  {
   "cell_type": "code",
   "execution_count": 14,
   "metadata": {},
   "outputs": [
    {
     "data": {
      "text/plain": [
       "((2828, 258), (939, 257))"
      ]
     },
     "execution_count": 14,
     "metadata": {},
     "output_type": "execute_result"
    }
   ],
   "source": [
    "train_pca.shape,test_pca.shape"
   ]
  },
  {
   "cell_type": "code",
   "execution_count": 15,
   "metadata": {},
   "outputs": [
    {
     "data": {
      "text/plain": [
       "Text(0, 0.5, 'cumulative explained variance')"
      ]
     },
     "execution_count": 15,
     "metadata": {},
     "output_type": "execute_result"
    },
    {
     "data": {
      "image/png": "[encoded data removed]",
      "text/plain": [
       "<Figure size 432x288 with 1 Axes>"
      ]
     },
     "metadata": {
      "needs_background": "light"
     },
     "output_type": "display_data"
    }
   ],
   "source": [
    "train = pd.read_csv('data/train_290_without_low1.csv')\n",
    "test = pd.read_csv('data/test_dropped_290_without_nans.csv')\n",
    "xtrain=train.drop(['0','1','2','Culture'],axis=1)\n",
    "xtest=test.drop(['0','1','2'],axis=1)\n",
    "pca = PCA(.999999).fit(xtrain)\n",
    "plt.plot(np.cumsum(pca.explained_variance_ratio_))\n",
    "plt.xlabel('number of components')\n",
    "plt.ylabel('cumulative explained variance')"
   ]
  },
  {
   "cell_type": "code",
   "execution_count": 16,
   "metadata": {},
   "outputs": [],
   "source": [
    "train_pca=pca.transform(xtrain)\n",
    "test_pca=pca.transform(xtest)\n",
    "train_pca=pd.DataFrame(train_pca)\n",
    "test_pca=pd.DataFrame(test_pca)\n",
    "for i in ['0','1','2']:\n",
    "    train_pca[i]=train[i]\n",
    "    test_pca[i]=test[i]\n",
    "train_pca['Culture']=train['Culture']\n",
    "train_pca.to_csv('data/train_pca_0.999999.csv',index=False)\n",
    "test_pca.to_csv('data/test_pca_0.999999.csv',index=False)"
   ]
  },
  {
   "cell_type": "code",
   "execution_count": 18,
   "metadata": {},
   "outputs": [
    {
     "data": {
      "text/plain": [
       "(2828, 185)"
      ]
     },
     "execution_count": 18,
     "metadata": {},
     "output_type": "execute_result"
    }
   ],
   "source": [
    "train_pca.shape"
   ]
  },
  {
   "cell_type": "code",
   "execution_count": null,
   "metadata": {},
   "outputs": [],
   "source": []
  }
 ],
 "metadata": {
  "kernelspec": {
   "display_name": "Python 3",
   "language": "python",
   "name": "python3"
  },
  "language_info": {
   "codemirror_mode": {
    "name": "ipython",
    "version": 3
   },
   "file_extension": ".py",
   "mimetype": "text/x-python",
   "name": "python",
   "nbconvert_exporter": "python",
   "pygments_lexer": "ipython3",
   "version": "3.7.8"
  }
 },
 "nbformat": 4,
 "nbformat_minor": 4
}
