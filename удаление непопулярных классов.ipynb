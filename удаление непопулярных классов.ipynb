{
 "cells": [
  {
   "cell_type": "code",
   "execution_count": 6,
   "metadata": {},
   "outputs": [],
   "source": [
    "import numpy as np\n",
    "import pandas as pd"
   ]
  },
  {
   "cell_type": "code",
   "execution_count": 7,
   "metadata": {},
   "outputs": [],
   "source": [
    "df = pd.read_csv('data/train_dropped_290_without_nans.csv')\n",
    "test = pd.read_csv('data/test_dropped_290_without_nans.csv')\n",
    "\n",
    "y_train=pd.read_csv('data/y_train.csv')['Culture']"
   ]
  },
  {
   "cell_type": "code",
   "execution_count": 8,
   "metadata": {},
   "outputs": [],
   "source": [
    "df['Culture']=y_train"
   ]
  },
  {
   "cell_type": "code",
   "execution_count": 9,
   "metadata": {},
   "outputs": [
    {
     "data": {
      "text/plain": [
       "4     1301\n",
       "3      338\n",
       "7      246\n",
       "9      186\n",
       "5      132\n",
       "14      87\n",
       "8       85\n",
       "12      78\n",
       "10      60\n",
       "16      58\n",
       "2       49\n",
       "11      45\n",
       "1       36\n",
       "13      33\n",
       "21      25\n",
       "17      21\n",
       "6       14\n",
       "22       8\n",
       "15       7\n",
       "20       7\n",
       "23       6\n",
       "24       6\n",
       "28       2\n",
       "18       2\n",
       "25       2\n",
       "19       2\n",
       "26       1\n",
       "27       1\n",
       "Name: Culture, dtype: int64"
      ]
     },
     "execution_count": 9,
     "metadata": {},
     "output_type": "execute_result"
    }
   ],
   "source": [
    "df['Culture'].value_counts()"
   ]
  },
  {
   "cell_type": "code",
   "execution_count": 14,
   "metadata": {},
   "outputs": [
    {
     "data": {
      "text/plain": [
       "Int64Index([430, 527, 1075, 1408, 1855, 2073, 2086, 2164, 2327, 2562], dtype='int64')"
      ]
     },
     "execution_count": 14,
     "metadata": {},
     "output_type": "execute_result"
    }
   ],
   "source": [
    "to_drop1=[27,26,19,25,18,28]\n",
    "to_drop2=[27,26,19,25,18,28,24,23,20,15,22]\n",
    "df1_index=df.query('Culture in @to_drop1').index\n",
    "df1_index"
   ]
  },
  {
   "cell_type": "code",
   "execution_count": 15,
   "metadata": {},
   "outputs": [
    {
     "data": {
      "text/plain": [
       "Int64Index([  88,  242,  430,  437,  470,  474,  479,  520,  527,  777,  859,\n",
       "             889,  939,  968, 1022, 1075, 1112, 1185, 1202, 1235, 1238, 1273,\n",
       "            1349, 1408, 1479, 1536, 1592, 1609, 1700, 1800, 1855, 1886, 1908,\n",
       "            1969, 2073, 2086, 2164, 2215, 2327, 2562, 2592, 2602, 2663, 2758],\n",
       "           dtype='int64')"
      ]
     },
     "execution_count": 15,
     "metadata": {},
     "output_type": "execute_result"
    }
   ],
   "source": [
    "df2_index=df.query('Culture in @to_drop2').index\n",
    "df2_index"
   ]
  },
  {
   "cell_type": "code",
   "execution_count": 16,
   "metadata": {},
   "outputs": [],
   "source": [
    "df1=df.drop(df1_index,axis=0)\n",
    "df2=df.drop(df2_index,axis=0)"
   ]
  },
  {
   "cell_type": "code",
   "execution_count": 17,
   "metadata": {},
   "outputs": [],
   "source": [
    "df1.to_csv('data/train_290_without_low1.csv',index=False)\n",
    "df2.to_csv('data/train_290_without_low2.csv',index=False)\n"
   ]
  },
  {
   "cell_type": "code",
   "execution_count": null,
   "metadata": {},
   "outputs": [],
   "source": []
  }
 ],
 "metadata": {
  "kernelspec": {
   "display_name": "Python 3",
   "language": "python",
   "name": "python3"
  },
  "language_info": {
   "codemirror_mode": {
    "name": "ipython",
    "version": 3
   },
   "file_extension": ".py",
   "mimetype": "text/x-python",
   "name": "python",
   "nbconvert_exporter": "python",
   "pygments_lexer": "ipython3",
   "version": "3.7.6"
  }
 },
 "nbformat": 4,
 "nbformat_minor": 4
}
