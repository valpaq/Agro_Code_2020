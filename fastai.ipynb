{
 "cells": [
  {
   "cell_type": "code",
   "execution_count": 16,
   "metadata": {},
   "outputs": [],
   "source": [
    "from fastai import *\n",
    "from fastai.tabular import *\n",
    "from fastai.tabular.all import *\n",
    "from fastai.collab import *\n",
    "import numpy as np\n",
    "import pandas as pd\n",
    "from pathlib import Path"
   ]
  },
  {
   "cell_type": "code",
   "execution_count": 17,
   "metadata": {},
   "outputs": [],
   "source": [
    "path = Path('data/')\n",
    "\n",
    "df = pd.read_csv(path/'train_dropped_290_without_nans.csv')\n",
    "test = pd.read_csv(path/'test_dropped_290_without_nans.csv')\n",
    "\n",
    "y_train=pd.read_csv(path/'y_train.csv')['Culture']\n",
    "df['Culture']=y_train-1"
   ]
  },
  {
   "cell_type": "code",
   "execution_count": 18,
   "metadata": {},
   "outputs": [],
   "source": [
    "CAT_NAMES = ['0','1','2']\n",
    "CONT_NAMES = list((df.drop(['0','1','2','Culture'],axis=1)).columns)\n",
    "TARGET='Culture'\n",
    "\n",
    "df[TARGET] = df[TARGET].astype('category')\n",
    "for i in CAT_NAMES:\n",
    "    df[i]=df[i].astype('category')\n",
    "    test[i]=test[i].astype('category')"
   ]
  },
  {
   "cell_type": "code",
   "execution_count": 19,
   "metadata": {},
   "outputs": [],
   "source": [
    "procs = [Categorify, Normalize]\n",
    "splits = RandomSplitter(valid_pct=0.2)(range_of(df))\n",
    "\n",
    "dls = TabularDataLoaders.from_df(df, \n",
    "                                 y_names=TARGET, \n",
    "                                 cat_names=CAT_NAMES,\n",
    "                                 cont_names=CONT_NAMES,\n",
    "                                 procs=procs,\n",
    "                                 splits=splits)"
   ]
  },
  {
   "cell_type": "code",
   "execution_count": 20,
   "metadata": {},
   "outputs": [],
   "source": [
    "class_count_df = df.groupby(TARGET).count()\n",
    "classes=pd.Series(list(class_count_df['0']))\n",
    "new_weights=[]\n",
    "for i in classes:\n",
    "    new_weights.append((classes.sum()) / (2.0 * i))\n",
    "class_weights=torch.FloatTensor(new_weights)"
   ]
  },
  {
   "cell_type": "code",
   "execution_count": 27,
   "metadata": {},
   "outputs": [],
   "source": [
    "metrics = F1Score(average='weighted')\n",
    "loss_func = CrossEntropyLossFlat(weight=class_weights)\n",
    "learn = tabular_learner(dls,layers=[800,676], loss_func=loss_func,metrics=[metrics])"
   ]
  },
  {
   "cell_type": "code",
   "execution_count": 28,
   "metadata": {
    "scrolled": true
   },
   "outputs": [
    {
     "data": {
      "text/html": [],
      "text/plain": [
       "<IPython.core.display.HTML object>"
      ]
     },
     "metadata": {},
     "output_type": "display_data"
    },
    {
     "data": {
      "text/plain": [
       "SuggestedLRs(lr_min=0.001096478197723627, lr_steep=0.001737800776027143)"
      ]
     },
     "execution_count": 28,
     "metadata": {},
     "output_type": "execute_result"
    },
    {
     "data": {
      "image/png": "[encoded data removed]",
      "text/plain": [
       "<Figure size 432x288 with 1 Axes>"
      ]
     },
     "metadata": {
      "needs_background": "light"
     },
     "output_type": "display_data"
    }
   ],
   "source": [
    "learn.lr_find()"
   ]
  },
  {
   "cell_type": "code",
   "execution_count": 29,
   "metadata": {},
   "outputs": [
    {
     "data": {
      "text/html": [
       "<table border=\"1\" class=\"dataframe\">\n",
       "  <thead>\n",
       "    <tr style=\"text-align: left;\">\n",
       "      <th>epoch</th>\n",
       "      <th>train_loss</th>\n",
       "      <th>valid_loss</th>\n",
       "      <th>f1_score</th>\n",
       "      <th>time</th>\n",
       "    </tr>\n",
       "  </thead>\n",
       "  <tbody>\n",
       "    <tr>\n",
       "      <td>0</td>\n",
       "      <td>2.740091</td>\n",
       "      <td>2.355708</td>\n",
       "      <td>0.319102</td>\n",
       "      <td>00:01</td>\n",
       "    </tr>\n",
       "    <tr>\n",
       "      <td>1</td>\n",
       "      <td>1.775867</td>\n",
       "      <td>2.039393</td>\n",
       "      <td>0.612665</td>\n",
       "      <td>00:01</td>\n",
       "    </tr>\n",
       "    <tr>\n",
       "      <td>2</td>\n",
       "      <td>1.067715</td>\n",
       "      <td>2.118575</td>\n",
       "      <td>0.655638</td>\n",
       "      <td>00:01</td>\n",
       "    </tr>\n",
       "    <tr>\n",
       "      <td>3</td>\n",
       "      <td>0.602043</td>\n",
       "      <td>2.396342</td>\n",
       "      <td>0.659933</td>\n",
       "      <td>00:01</td>\n",
       "    </tr>\n",
       "    <tr>\n",
       "      <td>4</td>\n",
       "      <td>0.345702</td>\n",
       "      <td>2.753065</td>\n",
       "      <td>0.649469</td>\n",
       "      <td>00:01</td>\n",
       "    </tr>\n",
       "    <tr>\n",
       "      <td>5</td>\n",
       "      <td>0.205832</td>\n",
       "      <td>2.625307</td>\n",
       "      <td>0.663203</td>\n",
       "      <td>00:01</td>\n",
       "    </tr>\n",
       "    <tr>\n",
       "      <td>6</td>\n",
       "      <td>0.135874</td>\n",
       "      <td>2.772436</td>\n",
       "      <td>0.674119</td>\n",
       "      <td>00:01</td>\n",
       "    </tr>\n",
       "  </tbody>\n",
       "</table>"
      ],
      "text/plain": [
       "<IPython.core.display.HTML object>"
      ]
     },
     "metadata": {},
     "output_type": "display_data"
    }
   ],
   "source": [
    "learn.fit(n_epoch=7,lr=0.0004,wd=0.1)"
   ]
  },
  {
   "cell_type": "code",
   "execution_count": 30,
   "metadata": {
    "scrolled": true
   },
   "outputs": [
    {
     "data": {
      "text/html": [],
      "text/plain": [
       "<IPython.core.display.HTML object>"
      ]
     },
     "metadata": {},
     "output_type": "display_data"
    },
    {
     "data": {
      "text/html": [
       "<table border=\"1\" class=\"dataframe\">\n",
       "  <thead>\n",
       "    <tr style=\"text-align: right;\">\n",
       "      <th></th>\n",
       "      <th>0</th>\n",
       "      <th>1</th>\n",
       "      <th>2</th>\n",
       "      <th>3</th>\n",
       "      <th>4</th>\n",
       "      <th>5</th>\n",
       "      <th>6</th>\n",
       "      <th>7</th>\n",
       "      <th>8</th>\n",
       "      <th>9</th>\n",
       "      <th>10</th>\n",
       "      <th>11</th>\n",
       "      <th>12</th>\n",
       "      <th>13</th>\n",
       "      <th>14</th>\n",
       "      <th>15</th>\n",
       "      <th>16</th>\n",
       "      <th>17</th>\n",
       "      <th>18</th>\n",
       "      <th>19</th>\n",
       "      <th>20</th>\n",
       "      <th>21</th>\n",
       "      <th>22</th>\n",
       "      <th>23</th>\n",
       "      <th>24</th>\n",
       "      <th>25</th>\n",
       "      <th>26</th>\n",
       "      <th>27</th>\n",
       "      <th>28</th>\n",
       "      <th>29</th>\n",
       "      <th>30</th>\n",
       "      <th>31</th>\n",
       "      <th>32</th>\n",
       "      <th>33</th>\n",
       "      <th>34</th>\n",
       "      <th>35</th>\n",
       "      <th>36</th>\n",
       "      <th>37</th>\n",
       "      <th>38</th>\n",
       "      <th>39</th>\n",
       "      <th>40</th>\n",
       "      <th>41</th>\n",
       "      <th>42</th>\n",
       "      <th>43</th>\n",
       "      <th>44</th>\n",
       "      <th>45</th>\n",
       "      <th>46</th>\n",
       "      <th>47</th>\n",
       "      <th>48</th>\n",
       "      <th>49</th>\n",
       "      <th>50</th>\n",
       "      <th>51</th>\n",
       "      <th>52</th>\n",
       "      <th>53</th>\n",
       "      <th>54</th>\n",
       "      <th>55</th>\n",
       "      <th>56</th>\n",
       "      <th>57</th>\n",
       "      <th>58</th>\n",
       "      <th>59</th>\n",
       "      <th>60</th>\n",
       "      <th>61</th>\n",
       "      <th>62</th>\n",
       "      <th>63</th>\n",
       "      <th>64</th>\n",
       "      <th>65</th>\n",
       "      <th>66</th>\n",
       "      <th>67</th>\n",
       "      <th>68</th>\n",
       "      <th>69</th>\n",
       "      <th>70</th>\n",
       "      <th>71</th>\n",
       "      <th>72</th>\n",
       "      <th>73</th>\n",
       "      <th>74</th>\n",
       "      <th>75</th>\n",
       "      <th>76</th>\n",
       "      <th>77</th>\n",
       "      <th>78</th>\n",
       "      <th>79</th>\n",
       "      <th>80</th>\n",
       "      <th>81</th>\n",
       "      <th>82</th>\n",
       "      <th>83</th>\n",
       "      <th>84</th>\n",
       "      <th>85</th>\n",
       "      <th>86</th>\n",
       "      <th>87</th>\n",
       "      <th>88</th>\n",
       "      <th>89</th>\n",
       "      <th>90</th>\n",
       "      <th>91</th>\n",
       "      <th>92</th>\n",
       "      <th>93</th>\n",
       "      <th>94</th>\n",
       "      <th>95</th>\n",
       "      <th>96</th>\n",
       "      <th>97</th>\n",
       "      <th>98</th>\n",
       "      <th>99</th>\n",
       "      <th>100</th>\n",
       "      <th>101</th>\n",
       "      <th>102</th>\n",
       "      <th>103</th>\n",
       "      <th>104</th>\n",
       "      <th>105</th>\n",
       "      <th>106</th>\n",
       "      <th>107</th>\n",
       "      <th>108</th>\n",
       "      <th>109</th>\n",
       "      <th>110</th>\n",
       "      <th>111</th>\n",
       "      <th>112</th>\n",
       "      <th>113</th>\n",
       "      <th>114</th>\n",
       "      <th>115</th>\n",
       "      <th>116</th>\n",
       "      <th>117</th>\n",
       "      <th>118</th>\n",
       "      <th>119</th>\n",
       "      <th>120</th>\n",
       "      <th>121</th>\n",
       "      <th>122</th>\n",
       "      <th>123</th>\n",
       "      <th>124</th>\n",
       "      <th>125</th>\n",
       "      <th>126</th>\n",
       "      <th>127</th>\n",
       "      <th>128</th>\n",
       "      <th>129</th>\n",
       "      <th>130</th>\n",
       "      <th>131</th>\n",
       "      <th>132</th>\n",
       "      <th>133</th>\n",
       "      <th>134</th>\n",
       "      <th>135</th>\n",
       "      <th>136</th>\n",
       "      <th>137</th>\n",
       "      <th>138</th>\n",
       "      <th>139</th>\n",
       "      <th>140</th>\n",
       "      <th>141</th>\n",
       "      <th>142</th>\n",
       "      <th>143</th>\n",
       "      <th>144</th>\n",
       "      <th>145</th>\n",
       "      <th>146</th>\n",
       "      <th>147</th>\n",
       "      <th>148</th>\n",
       "      <th>149</th>\n",
       "      <th>150</th>\n",
       "      <th>151</th>\n",
       "      <th>152</th>\n",
       "      <th>153</th>\n",
       "      <th>154</th>\n",
       "      <th>155</th>\n",
       "      <th>156</th>\n",
       "      <th>157</th>\n",
       "      <th>158</th>\n",
       "      <th>159</th>\n",
       "      <th>160</th>\n",
       "      <th>161</th>\n",
       "      <th>162</th>\n",
       "      <th>163</th>\n",
       "      <th>164</th>\n",
       "      <th>165</th>\n",
       "      <th>166</th>\n",
       "      <th>167</th>\n",
       "      <th>168</th>\n",
       "      <th>169</th>\n",
       "      <th>170</th>\n",
       "      <th>171</th>\n",
       "      <th>172</th>\n",
       "      <th>173</th>\n",
       "      <th>174</th>\n",
       "      <th>175</th>\n",
       "      <th>176</th>\n",
       "      <th>177</th>\n",
       "      <th>178</th>\n",
       "      <th>179</th>\n",
       "      <th>180</th>\n",
       "      <th>181</th>\n",
       "      <th>182</th>\n",
       "      <th>183</th>\n",
       "      <th>184</th>\n",
       "      <th>185</th>\n",
       "      <th>186</th>\n",
       "      <th>187</th>\n",
       "      <th>188</th>\n",
       "      <th>189</th>\n",
       "      <th>190</th>\n",
       "      <th>191</th>\n",
       "      <th>192</th>\n",
       "      <th>193</th>\n",
       "      <th>194</th>\n",
       "      <th>195</th>\n",
       "      <th>196</th>\n",
       "      <th>197</th>\n",
       "      <th>198</th>\n",
       "      <th>199</th>\n",
       "      <th>200</th>\n",
       "      <th>201</th>\n",
       "      <th>202</th>\n",
       "      <th>203</th>\n",
       "      <th>204</th>\n",
       "      <th>205</th>\n",
       "      <th>206</th>\n",
       "      <th>207</th>\n",
       "      <th>208</th>\n",
       "      <th>209</th>\n",
       "      <th>210</th>\n",
       "      <th>211</th>\n",
       "      <th>212</th>\n",
       "      <th>213</th>\n",
       "      <th>214</th>\n",
       "      <th>215</th>\n",
       "      <th>216</th>\n",
       "      <th>217</th>\n",
       "      <th>218</th>\n",
       "      <th>219</th>\n",
       "      <th>220</th>\n",
       "      <th>221</th>\n",
       "      <th>222</th>\n",
       "      <th>223</th>\n",
       "      <th>224</th>\n",
       "      <th>225</th>\n",
       "      <th>226</th>\n",
       "      <th>227</th>\n",
       "      <th>228</th>\n",
       "      <th>229</th>\n",
       "      <th>230</th>\n",
       "      <th>231</th>\n",
       "      <th>232</th>\n",
       "      <th>233</th>\n",
       "      <th>234</th>\n",
       "      <th>235</th>\n",
       "      <th>236</th>\n",
       "      <th>237</th>\n",
       "      <th>238</th>\n",
       "      <th>239</th>\n",
       "      <th>240</th>\n",
       "      <th>241</th>\n",
       "      <th>242</th>\n",
       "      <th>243</th>\n",
       "      <th>244</th>\n",
       "      <th>245</th>\n",
       "      <th>246</th>\n",
       "      <th>247</th>\n",
       "      <th>248</th>\n",
       "      <th>249</th>\n",
       "      <th>250</th>\n",
       "      <th>251</th>\n",
       "      <th>252</th>\n",
       "      <th>253</th>\n",
       "      <th>254</th>\n",
       "      <th>255</th>\n",
       "      <th>256</th>\n",
       "      <th>257</th>\n",
       "      <th>258</th>\n",
       "      <th>259</th>\n",
       "      <th>260</th>\n",
       "      <th>261</th>\n",
       "      <th>262</th>\n",
       "      <th>263</th>\n",
       "      <th>264</th>\n",
       "      <th>265</th>\n",
       "      <th>266</th>\n",
       "      <th>267</th>\n",
       "      <th>268</th>\n",
       "      <th>269</th>\n",
       "      <th>270</th>\n",
       "      <th>271</th>\n",
       "      <th>272</th>\n",
       "      <th>273</th>\n",
       "      <th>274</th>\n",
       "      <th>275</th>\n",
       "      <th>276</th>\n",
       "      <th>277</th>\n",
       "      <th>278</th>\n",
       "      <th>279</th>\n",
       "      <th>280</th>\n",
       "      <th>281</th>\n",
       "      <th>282</th>\n",
       "      <th>283</th>\n",
       "      <th>284</th>\n",
       "      <th>285</th>\n",
       "      <th>286</th>\n",
       "      <th>287</th>\n",
       "      <th>288</th>\n",
       "      <th>289</th>\n",
       "      <th>290</th>\n",
       "      <th>291</th>\n",
       "      <th>292</th>\n",
       "      <th>Culture</th>\n",
       "      <th>Culture_pred</th>\n",
       "    </tr>\n",
       "  </thead>\n",
       "  <tbody>\n",
       "    <tr>\n",
       "      <th>0</th>\n",
       "      <td>5.0</td>\n",
       "      <td>1288.0</td>\n",
       "      <td>213.0</td>\n",
       "      <td>1.082977</td>\n",
       "      <td>1.078592</td>\n",
       "      <td>1.073177</td>\n",
       "      <td>1.065250</td>\n",
       "      <td>1.055709</td>\n",
       "      <td>1.044722</td>\n",
       "      <td>1.032954</td>\n",
       "      <td>1.024028</td>\n",
       "      <td>1.028643</td>\n",
       "      <td>1.037639</td>\n",
       "      <td>1.046428</td>\n",
       "      <td>1.054503</td>\n",
       "      <td>1.061906</td>\n",
       "      <td>1.067305</td>\n",
       "      <td>1.079665</td>\n",
       "      <td>1.095066</td>\n",
       "      <td>1.108647</td>\n",
       "      <td>1.119706</td>\n",
       "      <td>1.129910</td>\n",
       "      <td>1.137180</td>\n",
       "      <td>1.143411</td>\n",
       "      <td>1.147397</td>\n",
       "      <td>1.151040</td>\n",
       "      <td>1.152051</td>\n",
       "      <td>1.154086</td>\n",
       "      <td>1.153362</td>\n",
       "      <td>1.149037</td>\n",
       "      <td>1.142194</td>\n",
       "      <td>1.132296</td>\n",
       "      <td>1.119646</td>\n",
       "      <td>1.107522</td>\n",
       "      <td>1.093390</td>\n",
       "      <td>1.080370</td>\n",
       "      <td>1.067555</td>\n",
       "      <td>1.053544</td>\n",
       "      <td>1.038944</td>\n",
       "      <td>1.022629</td>\n",
       "      <td>1.003965</td>\n",
       "      <td>0.996893</td>\n",
       "      <td>0.988094</td>\n",
       "      <td>0.976539</td>\n",
       "      <td>0.963603</td>\n",
       "      <td>0.949916</td>\n",
       "      <td>0.935828</td>\n",
       "      <td>0.924315</td>\n",
       "      <td>0.914692</td>\n",
       "      <td>0.906233</td>\n",
       "      <td>0.899130</td>\n",
       "      <td>0.895259</td>\n",
       "      <td>0.893394</td>\n",
       "      <td>0.894041</td>\n",
       "      <td>0.896235</td>\n",
       "      <td>0.897425</td>\n",
       "      <td>0.897912</td>\n",
       "      <td>0.897031</td>\n",
       "      <td>0.894547</td>\n",
       "      <td>0.890029</td>\n",
       "      <td>0.884415</td>\n",
       "      <td>0.877361</td>\n",
       "      <td>0.868729</td>\n",
       "      <td>0.860028</td>\n",
       "      <td>0.850636</td>\n",
       "      <td>0.840905</td>\n",
       "      <td>0.831868</td>\n",
       "      <td>0.822504</td>\n",
       "      <td>0.815684</td>\n",
       "      <td>0.809226</td>\n",
       "      <td>0.802224</td>\n",
       "      <td>0.815336</td>\n",
       "      <td>0.840100</td>\n",
       "      <td>0.868820</td>\n",
       "      <td>0.893070</td>\n",
       "      <td>0.911536</td>\n",
       "      <td>0.928408</td>\n",
       "      <td>0.944376</td>\n",
       "      <td>0.960258</td>\n",
       "      <td>0.975432</td>\n",
       "      <td>0.990426</td>\n",
       "      <td>1.006017</td>\n",
       "      <td>1.021572</td>\n",
       "      <td>1.037457</td>\n",
       "      <td>1.054173</td>\n",
       "      <td>1.071410</td>\n",
       "      <td>1.088252</td>\n",
       "      <td>1.106371</td>\n",
       "      <td>1.124058</td>\n",
       "      <td>1.141108</td>\n",
       "      <td>1.157228</td>\n",
       "      <td>1.173315</td>\n",
       "      <td>1.188982</td>\n",
       "      <td>1.202870</td>\n",
       "      <td>1.213740</td>\n",
       "      <td>1.221602</td>\n",
       "      <td>1.227933</td>\n",
       "      <td>1.232939</td>\n",
       "      <td>1.236824</td>\n",
       "      <td>1.240091</td>\n",
       "      <td>1.243110</td>\n",
       "      <td>1.245059</td>\n",
       "      <td>1.245792</td>\n",
       "      <td>1.244091</td>\n",
       "      <td>1.239349</td>\n",
       "      <td>1.231454</td>\n",
       "      <td>1.221622</td>\n",
       "      <td>1.210730</td>\n",
       "      <td>1.198289</td>\n",
       "      <td>1.188603</td>\n",
       "      <td>1.179408</td>\n",
       "      <td>1.170758</td>\n",
       "      <td>1.162403</td>\n",
       "      <td>1.154085</td>\n",
       "      <td>1.146056</td>\n",
       "      <td>1.138014</td>\n",
       "      <td>1.129704</td>\n",
       "      <td>1.121121</td>\n",
       "      <td>1.112899</td>\n",
       "      <td>1.106342</td>\n",
       "      <td>1.100475</td>\n",
       "      <td>1.094389</td>\n",
       "      <td>1.087699</td>\n",
       "      <td>1.080116</td>\n",
       "      <td>1.071670</td>\n",
       "      <td>1.062361</td>\n",
       "      <td>1.052806</td>\n",
       "      <td>1.042956</td>\n",
       "      <td>1.033128</td>\n",
       "      <td>1.022467</td>\n",
       "      <td>1.011202</td>\n",
       "      <td>1.000219</td>\n",
       "      <td>0.988489</td>\n",
       "      <td>0.977555</td>\n",
       "      <td>0.967416</td>\n",
       "      <td>0.958813</td>\n",
       "      <td>0.951865</td>\n",
       "      <td>0.946754</td>\n",
       "      <td>0.942412</td>\n",
       "      <td>0.939533</td>\n",
       "      <td>0.936933</td>\n",
       "      <td>0.933946</td>\n",
       "      <td>0.928901</td>\n",
       "      <td>0.919857</td>\n",
       "      <td>0.906239</td>\n",
       "      <td>0.887499</td>\n",
       "      <td>0.863792</td>\n",
       "      <td>0.834647</td>\n",
       "      <td>0.798690</td>\n",
       "      <td>0.631105</td>\n",
       "      <td>0.460328</td>\n",
       "      <td>0.285344</td>\n",
       "      <td>0.108386</td>\n",
       "      <td>-0.072018</td>\n",
       "      <td>-0.256779</td>\n",
       "      <td>-0.445434</td>\n",
       "      <td>-0.539916</td>\n",
       "      <td>-0.634665</td>\n",
       "      <td>-0.729983</td>\n",
       "      <td>-0.825137</td>\n",
       "      <td>-0.918594</td>\n",
       "      <td>-1.011425</td>\n",
       "      <td>-1.101676</td>\n",
       "      <td>-1.188156</td>\n",
       "      <td>-1.274531</td>\n",
       "      <td>-1.355664</td>\n",
       "      <td>-1.428464</td>\n",
       "      <td>-1.492690</td>\n",
       "      <td>-1.549230</td>\n",
       "      <td>-1.599702</td>\n",
       "      <td>-1.641039</td>\n",
       "      <td>-1.636779</td>\n",
       "      <td>-1.609977</td>\n",
       "      <td>-1.579331</td>\n",
       "      <td>-1.559201</td>\n",
       "      <td>-1.542980</td>\n",
       "      <td>-1.535555</td>\n",
       "      <td>-1.528966</td>\n",
       "      <td>-1.522525</td>\n",
       "      <td>-1.514597</td>\n",
       "      <td>-1.505129</td>\n",
       "      <td>-1.495393</td>\n",
       "      <td>-1.490217</td>\n",
       "      <td>-1.484808</td>\n",
       "      <td>-1.480370</td>\n",
       "      <td>-1.474687</td>\n",
       "      <td>-1.468236</td>\n",
       "      <td>-1.458771</td>\n",
       "      <td>-1.445367</td>\n",
       "      <td>-1.430842</td>\n",
       "      <td>-1.414378</td>\n",
       "      <td>-1.396565</td>\n",
       "      <td>-1.378481</td>\n",
       "      <td>-1.365014</td>\n",
       "      <td>-1.354768</td>\n",
       "      <td>-1.346110</td>\n",
       "      <td>-1.333858</td>\n",
       "      <td>-1.313350</td>\n",
       "      <td>-1.286801</td>\n",
       "      <td>-1.255998</td>\n",
       "      <td>-1.221676</td>\n",
       "      <td>-1.185082</td>\n",
       "      <td>-1.146303</td>\n",
       "      <td>-1.107991</td>\n",
       "      <td>-1.070310</td>\n",
       "      <td>-1.034112</td>\n",
       "      <td>-1.000440</td>\n",
       "      <td>-0.970015</td>\n",
       "      <td>-0.944391</td>\n",
       "      <td>-0.925196</td>\n",
       "      <td>-0.913345</td>\n",
       "      <td>-0.910356</td>\n",
       "      <td>-0.922062</td>\n",
       "      <td>-0.949944</td>\n",
       "      <td>-0.991485</td>\n",
       "      <td>-1.042945</td>\n",
       "      <td>-1.100757</td>\n",
       "      <td>-1.160986</td>\n",
       "      <td>-1.219967</td>\n",
       "      <td>-1.273908</td>\n",
       "      <td>-1.317548</td>\n",
       "      <td>-1.346909</td>\n",
       "      <td>-1.358218</td>\n",
       "      <td>-1.358104</td>\n",
       "      <td>-1.357777</td>\n",
       "      <td>-1.356106</td>\n",
       "      <td>-1.354950</td>\n",
       "      <td>-1.354706</td>\n",
       "      <td>-1.354201</td>\n",
       "      <td>-1.353610</td>\n",
       "      <td>-1.352576</td>\n",
       "      <td>-1.351460</td>\n",
       "      <td>-1.349885</td>\n",
       "      <td>-1.347678</td>\n",
       "      <td>-1.344639</td>\n",
       "      <td>-1.341548</td>\n",
       "      <td>-1.340418</td>\n",
       "      <td>-1.338500</td>\n",
       "      <td>-1.336701</td>\n",
       "      <td>-1.334575</td>\n",
       "      <td>-1.332029</td>\n",
       "      <td>-1.329335</td>\n",
       "      <td>-1.326907</td>\n",
       "      <td>-1.326930</td>\n",
       "      <td>-1.328783</td>\n",
       "      <td>-1.334106</td>\n",
       "      <td>-1.341837</td>\n",
       "      <td>-1.349811</td>\n",
       "      <td>-1.356467</td>\n",
       "      <td>-1.362577</td>\n",
       "      <td>-1.366951</td>\n",
       "      <td>-1.373214</td>\n",
       "      <td>-1.380329</td>\n",
       "      <td>-1.384673</td>\n",
       "      <td>-1.386799</td>\n",
       "      <td>-1.385162</td>\n",
       "      <td>-1.380988</td>\n",
       "      <td>-1.372784</td>\n",
       "      <td>-1.361314</td>\n",
       "      <td>-1.349028</td>\n",
       "      <td>-1.332474</td>\n",
       "      <td>-1.255406</td>\n",
       "      <td>-1.177804</td>\n",
       "      <td>-1.097557</td>\n",
       "      <td>-1.016702</td>\n",
       "      <td>-0.932917</td>\n",
       "      <td>-0.847115</td>\n",
       "      <td>-0.761112</td>\n",
       "      <td>-0.673499</td>\n",
       "      <td>-0.586334</td>\n",
       "      <td>-0.499748</td>\n",
       "      <td>-0.412045</td>\n",
       "      <td>-0.325172</td>\n",
       "      <td>-0.237561</td>\n",
       "      <td>-0.149558</td>\n",
       "      <td>-0.062286</td>\n",
       "      <td>0.025485</td>\n",
       "      <td>0.110811</td>\n",
       "      <td>0.195986</td>\n",
       "      <td>0.291986</td>\n",
       "      <td>0.406483</td>\n",
       "      <td>0.535089</td>\n",
       "      <td>0.670964</td>\n",
       "      <td>0.805488</td>\n",
       "      <td>0.934107</td>\n",
       "      <td>1.050125</td>\n",
       "      <td>1.122751</td>\n",
       "      <td>1.193147</td>\n",
       "      <td>1.261408</td>\n",
       "      <td>1.331971</td>\n",
       "      <td>1.400985</td>\n",
       "      <td>1.469984</td>\n",
       "      <td>1.536653</td>\n",
       "      <td>3.0</td>\n",
       "      <td>3.0</td>\n",
       "    </tr>\n",
       "    <tr>\n",
       "      <th>1</th>\n",
       "      <td>4.0</td>\n",
       "      <td>645.0</td>\n",
       "      <td>525.0</td>\n",
       "      <td>0.472660</td>\n",
       "      <td>0.465050</td>\n",
       "      <td>0.456722</td>\n",
       "      <td>0.448351</td>\n",
       "      <td>0.438200</td>\n",
       "      <td>0.428483</td>\n",
       "      <td>0.418782</td>\n",
       "      <td>0.412646</td>\n",
       "      <td>0.416572</td>\n",
       "      <td>0.424766</td>\n",
       "      <td>0.431005</td>\n",
       "      <td>0.437095</td>\n",
       "      <td>0.443199</td>\n",
       "      <td>0.447875</td>\n",
       "      <td>0.458048</td>\n",
       "      <td>0.470116</td>\n",
       "      <td>0.481028</td>\n",
       "      <td>0.490605</td>\n",
       "      <td>0.499232</td>\n",
       "      <td>0.506854</td>\n",
       "      <td>0.509929</td>\n",
       "      <td>0.510680</td>\n",
       "      <td>0.512195</td>\n",
       "      <td>0.511482</td>\n",
       "      <td>0.511776</td>\n",
       "      <td>0.510043</td>\n",
       "      <td>0.505707</td>\n",
       "      <td>0.499945</td>\n",
       "      <td>0.490746</td>\n",
       "      <td>0.480364</td>\n",
       "      <td>0.470507</td>\n",
       "      <td>0.459864</td>\n",
       "      <td>0.451514</td>\n",
       "      <td>0.443589</td>\n",
       "      <td>0.435866</td>\n",
       "      <td>0.429149</td>\n",
       "      <td>0.421570</td>\n",
       "      <td>0.414172</td>\n",
       "      <td>0.416453</td>\n",
       "      <td>0.418800</td>\n",
       "      <td>0.417762</td>\n",
       "      <td>0.416708</td>\n",
       "      <td>0.414772</td>\n",
       "      <td>0.412521</td>\n",
       "      <td>0.411861</td>\n",
       "      <td>0.411133</td>\n",
       "      <td>0.410097</td>\n",
       "      <td>0.407399</td>\n",
       "      <td>0.403983</td>\n",
       "      <td>0.399824</td>\n",
       "      <td>0.393985</td>\n",
       "      <td>0.387327</td>\n",
       "      <td>0.379822</td>\n",
       "      <td>0.371139</td>\n",
       "      <td>0.362069</td>\n",
       "      <td>0.351559</td>\n",
       "      <td>0.340125</td>\n",
       "      <td>0.327303</td>\n",
       "      <td>0.313339</td>\n",
       "      <td>0.298404</td>\n",
       "      <td>0.282997</td>\n",
       "      <td>0.266962</td>\n",
       "      <td>0.251341</td>\n",
       "      <td>0.234451</td>\n",
       "      <td>0.218023</td>\n",
       "      <td>0.203020</td>\n",
       "      <td>0.187580</td>\n",
       "      <td>0.171003</td>\n",
       "      <td>0.153619</td>\n",
       "      <td>0.135989</td>\n",
       "      <td>0.117024</td>\n",
       "      <td>0.097622</td>\n",
       "      <td>0.073959</td>\n",
       "      <td>0.043525</td>\n",
       "      <td>0.008347</td>\n",
       "      <td>-0.030543</td>\n",
       "      <td>-0.071901</td>\n",
       "      <td>-0.114620</td>\n",
       "      <td>-0.158281</td>\n",
       "      <td>-0.201359</td>\n",
       "      <td>-0.243524</td>\n",
       "      <td>-0.283128</td>\n",
       "      <td>-0.321795</td>\n",
       "      <td>-0.355955</td>\n",
       "      <td>-0.389718</td>\n",
       "      <td>-0.418242</td>\n",
       "      <td>-0.437425</td>\n",
       "      <td>-0.445888</td>\n",
       "      <td>-0.448337</td>\n",
       "      <td>-0.447431</td>\n",
       "      <td>-0.445072</td>\n",
       "      <td>-0.444074</td>\n",
       "      <td>-0.448207</td>\n",
       "      <td>-0.460431</td>\n",
       "      <td>-0.483519</td>\n",
       "      <td>-0.515101</td>\n",
       "      <td>-0.547205</td>\n",
       "      <td>-0.581085</td>\n",
       "      <td>-0.614997</td>\n",
       "      <td>-0.649217</td>\n",
       "      <td>-0.682193</td>\n",
       "      <td>-0.713491</td>\n",
       "      <td>-0.741893</td>\n",
       "      <td>-0.767747</td>\n",
       "      <td>-0.790904</td>\n",
       "      <td>-0.812461</td>\n",
       "      <td>-0.829733</td>\n",
       "      <td>-0.844280</td>\n",
       "      <td>-0.856865</td>\n",
       "      <td>-0.867574</td>\n",
       "      <td>-0.876420</td>\n",
       "      <td>-0.883977</td>\n",
       "      <td>-0.891187</td>\n",
       "      <td>-0.898152</td>\n",
       "      <td>-0.905458</td>\n",
       "      <td>-0.913365</td>\n",
       "      <td>-0.920961</td>\n",
       "      <td>-0.929513</td>\n",
       "      <td>-0.938234</td>\n",
       "      <td>-0.947842</td>\n",
       "      <td>-0.957815</td>\n",
       "      <td>-0.967521</td>\n",
       "      <td>-0.975398</td>\n",
       "      <td>-0.981829</td>\n",
       "      <td>-0.987233</td>\n",
       "      <td>-0.990508</td>\n",
       "      <td>-0.992786</td>\n",
       "      <td>-0.993293</td>\n",
       "      <td>-0.993220</td>\n",
       "      <td>-0.992170</td>\n",
       "      <td>-0.990553</td>\n",
       "      <td>-0.988978</td>\n",
       "      <td>-0.987520</td>\n",
       "      <td>-0.986775</td>\n",
       "      <td>-0.986850</td>\n",
       "      <td>-0.988059</td>\n",
       "      <td>-0.990600</td>\n",
       "      <td>-0.996107</td>\n",
       "      <td>-1.005107</td>\n",
       "      <td>-1.017185</td>\n",
       "      <td>-1.032443</td>\n",
       "      <td>-1.050873</td>\n",
       "      <td>-1.070246</td>\n",
       "      <td>-1.088886</td>\n",
       "      <td>-1.106917</td>\n",
       "      <td>-1.123904</td>\n",
       "      <td>-1.137331</td>\n",
       "      <td>-1.146500</td>\n",
       "      <td>-1.150854</td>\n",
       "      <td>-1.149466</td>\n",
       "      <td>-1.125187</td>\n",
       "      <td>-1.066617</td>\n",
       "      <td>-0.979259</td>\n",
       "      <td>-0.870076</td>\n",
       "      <td>-0.745382</td>\n",
       "      <td>-0.613422</td>\n",
       "      <td>-0.483426</td>\n",
       "      <td>-0.363762</td>\n",
       "      <td>-0.261748</td>\n",
       "      <td>-0.170205</td>\n",
       "      <td>-0.077887</td>\n",
       "      <td>0.012984</td>\n",
       "      <td>0.101281</td>\n",
       "      <td>0.186312</td>\n",
       "      <td>0.267635</td>\n",
       "      <td>0.348814</td>\n",
       "      <td>0.426465</td>\n",
       "      <td>0.501329</td>\n",
       "      <td>0.569426</td>\n",
       "      <td>0.629136</td>\n",
       "      <td>0.677132</td>\n",
       "      <td>0.713764</td>\n",
       "      <td>0.740664</td>\n",
       "      <td>0.757178</td>\n",
       "      <td>0.768800</td>\n",
       "      <td>0.775758</td>\n",
       "      <td>0.780589</td>\n",
       "      <td>0.783021</td>\n",
       "      <td>0.783580</td>\n",
       "      <td>0.784512</td>\n",
       "      <td>0.784714</td>\n",
       "      <td>0.785584</td>\n",
       "      <td>0.787467</td>\n",
       "      <td>0.791140</td>\n",
       "      <td>0.796678</td>\n",
       "      <td>0.802564</td>\n",
       "      <td>0.808284</td>\n",
       "      <td>0.813851</td>\n",
       "      <td>0.819416</td>\n",
       "      <td>0.824296</td>\n",
       "      <td>0.829752</td>\n",
       "      <td>0.834646</td>\n",
       "      <td>0.839565</td>\n",
       "      <td>0.844413</td>\n",
       "      <td>0.847813</td>\n",
       "      <td>0.850436</td>\n",
       "      <td>0.853791</td>\n",
       "      <td>0.858297</td>\n",
       "      <td>0.862570</td>\n",
       "      <td>0.866737</td>\n",
       "      <td>0.870905</td>\n",
       "      <td>0.875355</td>\n",
       "      <td>0.881094</td>\n",
       "      <td>0.888647</td>\n",
       "      <td>0.898288</td>\n",
       "      <td>0.908118</td>\n",
       "      <td>0.918713</td>\n",
       "      <td>0.930793</td>\n",
       "      <td>0.943273</td>\n",
       "      <td>0.957575</td>\n",
       "      <td>0.971842</td>\n",
       "      <td>0.985428</td>\n",
       "      <td>0.998361</td>\n",
       "      <td>1.009997</td>\n",
       "      <td>1.020062</td>\n",
       "      <td>1.028074</td>\n",
       "      <td>1.011316</td>\n",
       "      <td>0.965001</td>\n",
       "      <td>0.917882</td>\n",
       "      <td>0.880358</td>\n",
       "      <td>0.841446</td>\n",
       "      <td>0.801869</td>\n",
       "      <td>0.761743</td>\n",
       "      <td>0.722786</td>\n",
       "      <td>0.683585</td>\n",
       "      <td>0.643140</td>\n",
       "      <td>0.602495</td>\n",
       "      <td>0.556987</td>\n",
       "      <td>0.504785</td>\n",
       "      <td>0.449478</td>\n",
       "      <td>0.392219</td>\n",
       "      <td>0.338068</td>\n",
       "      <td>0.289912</td>\n",
       "      <td>0.252476</td>\n",
       "      <td>0.227735</td>\n",
       "      <td>0.216899</td>\n",
       "      <td>0.214369</td>\n",
       "      <td>0.211377</td>\n",
       "      <td>0.205524</td>\n",
       "      <td>0.198245</td>\n",
       "      <td>0.190071</td>\n",
       "      <td>0.181998</td>\n",
       "      <td>0.172607</td>\n",
       "      <td>0.161851</td>\n",
       "      <td>0.150122</td>\n",
       "      <td>0.136651</td>\n",
       "      <td>0.122614</td>\n",
       "      <td>0.105525</td>\n",
       "      <td>0.098834</td>\n",
       "      <td>0.110065</td>\n",
       "      <td>0.135200</td>\n",
       "      <td>0.165390</td>\n",
       "      <td>0.194831</td>\n",
       "      <td>0.213733</td>\n",
       "      <td>0.215013</td>\n",
       "      <td>0.201178</td>\n",
       "      <td>0.182229</td>\n",
       "      <td>0.159932</td>\n",
       "      <td>0.133702</td>\n",
       "      <td>0.105521</td>\n",
       "      <td>0.076440</td>\n",
       "      <td>0.045886</td>\n",
       "      <td>0.015591</td>\n",
       "      <td>-0.013212</td>\n",
       "      <td>-0.041781</td>\n",
       "      <td>-0.069158</td>\n",
       "      <td>-0.096528</td>\n",
       "      <td>-0.124219</td>\n",
       "      <td>-0.153372</td>\n",
       "      <td>-0.182245</td>\n",
       "      <td>-0.212901</td>\n",
       "      <td>-0.242540</td>\n",
       "      <td>-0.270846</td>\n",
       "      <td>-0.298001</td>\n",
       "      <td>-0.323617</td>\n",
       "      <td>-0.348387</td>\n",
       "      <td>-0.370744</td>\n",
       "      <td>-0.392144</td>\n",
       "      <td>-0.411747</td>\n",
       "      <td>-0.427331</td>\n",
       "      <td>-0.439916</td>\n",
       "      <td>-0.449105</td>\n",
       "      <td>-0.452813</td>\n",
       "      <td>-0.452630</td>\n",
       "      <td>-0.448755</td>\n",
       "      <td>-0.437497</td>\n",
       "      <td>-0.419100</td>\n",
       "      <td>-0.392780</td>\n",
       "      <td>-0.360831</td>\n",
       "      <td>-0.323725</td>\n",
       "      <td>2.0</td>\n",
       "      <td>2.0</td>\n",
       "    </tr>\n",
       "    <tr>\n",
       "      <th>2</th>\n",
       "      <td>2.0</td>\n",
       "      <td>547.0</td>\n",
       "      <td>1374.0</td>\n",
       "      <td>-1.003379</td>\n",
       "      <td>-1.000132</td>\n",
       "      <td>-0.995634</td>\n",
       "      <td>-0.989653</td>\n",
       "      <td>-0.984736</td>\n",
       "      <td>-0.979180</td>\n",
       "      <td>-0.972330</td>\n",
       "      <td>-0.964379</td>\n",
       "      <td>-0.955622</td>\n",
       "      <td>-0.946358</td>\n",
       "      <td>-0.945435</td>\n",
       "      <td>-0.945321</td>\n",
       "      <td>-0.943559</td>\n",
       "      <td>-0.940252</td>\n",
       "      <td>-0.935098</td>\n",
       "      <td>-0.927812</td>\n",
       "      <td>-0.918478</td>\n",
       "      <td>-0.907723</td>\n",
       "      <td>-0.897547</td>\n",
       "      <td>-0.885704</td>\n",
       "      <td>-0.886169</td>\n",
       "      <td>-0.888540</td>\n",
       "      <td>-0.889269</td>\n",
       "      <td>-0.892318</td>\n",
       "      <td>-0.893914</td>\n",
       "      <td>-0.896428</td>\n",
       "      <td>-0.901971</td>\n",
       "      <td>-0.906543</td>\n",
       "      <td>-0.916913</td>\n",
       "      <td>-0.925482</td>\n",
       "      <td>-0.934070</td>\n",
       "      <td>-0.942233</td>\n",
       "      <td>-0.947985</td>\n",
       "      <td>-0.952262</td>\n",
       "      <td>-0.954141</td>\n",
       "      <td>-0.955324</td>\n",
       "      <td>-0.954754</td>\n",
       "      <td>-0.952093</td>\n",
       "      <td>-0.950636</td>\n",
       "      <td>-0.948492</td>\n",
       "      <td>-0.953255</td>\n",
       "      <td>-0.958342</td>\n",
       "      <td>-0.963672</td>\n",
       "      <td>-0.969008</td>\n",
       "      <td>-0.974123</td>\n",
       "      <td>-0.978886</td>\n",
       "      <td>-0.983893</td>\n",
       "      <td>-0.994551</td>\n",
       "      <td>-1.006641</td>\n",
       "      <td>-1.018798</td>\n",
       "      <td>-1.033005</td>\n",
       "      <td>-1.049057</td>\n",
       "      <td>-1.065362</td>\n",
       "      <td>-1.080578</td>\n",
       "      <td>-1.094626</td>\n",
       "      <td>-1.107893</td>\n",
       "      <td>-1.120313</td>\n",
       "      <td>-1.132018</td>\n",
       "      <td>-1.143679</td>\n",
       "      <td>-1.154370</td>\n",
       "      <td>-1.165505</td>\n",
       "      <td>-1.175646</td>\n",
       "      <td>-1.184334</td>\n",
       "      <td>-1.195467</td>\n",
       "      <td>-1.205477</td>\n",
       "      <td>-1.213823</td>\n",
       "      <td>-1.226026</td>\n",
       "      <td>-1.237827</td>\n",
       "      <td>-1.248899</td>\n",
       "      <td>-1.259754</td>\n",
       "      <td>-1.250685</td>\n",
       "      <td>-1.240800</td>\n",
       "      <td>-1.229867</td>\n",
       "      <td>-1.220032</td>\n",
       "      <td>-1.211484</td>\n",
       "      <td>-1.205018</td>\n",
       "      <td>-1.199799</td>\n",
       "      <td>-1.195374</td>\n",
       "      <td>-1.189820</td>\n",
       "      <td>-1.181732</td>\n",
       "      <td>-1.170550</td>\n",
       "      <td>-1.122672</td>\n",
       "      <td>-1.056456</td>\n",
       "      <td>-1.002125</td>\n",
       "      <td>-0.955611</td>\n",
       "      <td>-0.910113</td>\n",
       "      <td>-0.864829</td>\n",
       "      <td>-0.819205</td>\n",
       "      <td>-0.776554</td>\n",
       "      <td>-0.735468</td>\n",
       "      <td>-0.694256</td>\n",
       "      <td>-0.652236</td>\n",
       "      <td>-0.611255</td>\n",
       "      <td>-0.569443</td>\n",
       "      <td>-0.527941</td>\n",
       "      <td>-0.487491</td>\n",
       "      <td>-0.446795</td>\n",
       "      <td>-0.406990</td>\n",
       "      <td>-0.367019</td>\n",
       "      <td>-0.326796</td>\n",
       "      <td>-0.286516</td>\n",
       "      <td>-0.245240</td>\n",
       "      <td>-0.203179</td>\n",
       "      <td>-0.158475</td>\n",
       "      <td>-0.110269</td>\n",
       "      <td>-0.062057</td>\n",
       "      <td>-0.012704</td>\n",
       "      <td>0.033793</td>\n",
       "      <td>0.075583</td>\n",
       "      <td>0.110028</td>\n",
       "      <td>0.137984</td>\n",
       "      <td>0.161976</td>\n",
       "      <td>0.182948</td>\n",
       "      <td>0.201653</td>\n",
       "      <td>0.218725</td>\n",
       "      <td>0.235657</td>\n",
       "      <td>0.253879</td>\n",
       "      <td>0.274814</td>\n",
       "      <td>0.297003</td>\n",
       "      <td>0.319356</td>\n",
       "      <td>0.341665</td>\n",
       "      <td>0.363832</td>\n",
       "      <td>0.386627</td>\n",
       "      <td>0.409197</td>\n",
       "      <td>0.432551</td>\n",
       "      <td>0.456763</td>\n",
       "      <td>0.481991</td>\n",
       "      <td>0.508113</td>\n",
       "      <td>0.534695</td>\n",
       "      <td>0.562123</td>\n",
       "      <td>0.589808</td>\n",
       "      <td>0.618075</td>\n",
       "      <td>0.647230</td>\n",
       "      <td>0.677053</td>\n",
       "      <td>0.706937</td>\n",
       "      <td>0.736692</td>\n",
       "      <td>0.768248</td>\n",
       "      <td>0.770902</td>\n",
       "      <td>0.754329</td>\n",
       "      <td>0.748439</td>\n",
       "      <td>0.742125</td>\n",
       "      <td>0.735469</td>\n",
       "      <td>0.728165</td>\n",
       "      <td>0.721449</td>\n",
       "      <td>0.715054</td>\n",
       "      <td>0.709358</td>\n",
       "      <td>0.704271</td>\n",
       "      <td>0.700115</td>\n",
       "      <td>0.697662</td>\n",
       "      <td>0.698264</td>\n",
       "      <td>0.702885</td>\n",
       "      <td>0.709523</td>\n",
       "      <td>0.720075</td>\n",
       "      <td>0.703367</td>\n",
       "      <td>0.687090</td>\n",
       "      <td>0.669909</td>\n",
       "      <td>0.652279</td>\n",
       "      <td>0.639594</td>\n",
       "      <td>0.633734</td>\n",
       "      <td>0.630403</td>\n",
       "      <td>0.625637</td>\n",
       "      <td>0.618577</td>\n",
       "      <td>0.610609</td>\n",
       "      <td>0.599999</td>\n",
       "      <td>0.588498</td>\n",
       "      <td>0.583948</td>\n",
       "      <td>0.578724</td>\n",
       "      <td>0.571611</td>\n",
       "      <td>0.562743</td>\n",
       "      <td>0.553244</td>\n",
       "      <td>0.543433</td>\n",
       "      <td>0.534972</td>\n",
       "      <td>0.530059</td>\n",
       "      <td>0.516342</td>\n",
       "      <td>0.487589</td>\n",
       "      <td>0.445138</td>\n",
       "      <td>0.393396</td>\n",
       "      <td>0.333747</td>\n",
       "      <td>0.267606</td>\n",
       "      <td>0.197365</td>\n",
       "      <td>0.123954</td>\n",
       "      <td>0.050399</td>\n",
       "      <td>-0.021843</td>\n",
       "      <td>-0.091437</td>\n",
       "      <td>-0.155421</td>\n",
       "      <td>-0.211940</td>\n",
       "      <td>-0.260591</td>\n",
       "      <td>-0.298803</td>\n",
       "      <td>-0.325885</td>\n",
       "      <td>-0.340226</td>\n",
       "      <td>-0.343280</td>\n",
       "      <td>-0.336928</td>\n",
       "      <td>-0.325099</td>\n",
       "      <td>-0.310462</td>\n",
       "      <td>-0.297589</td>\n",
       "      <td>-0.290969</td>\n",
       "      <td>-0.293760</td>\n",
       "      <td>-0.305023</td>\n",
       "      <td>-0.320054</td>\n",
       "      <td>-0.338855</td>\n",
       "      <td>-0.360833</td>\n",
       "      <td>-0.385256</td>\n",
       "      <td>-0.410742</td>\n",
       "      <td>-0.436639</td>\n",
       "      <td>-0.462891</td>\n",
       "      <td>-0.488286</td>\n",
       "      <td>-0.512516</td>\n",
       "      <td>-0.534617</td>\n",
       "      <td>-0.554223</td>\n",
       "      <td>-0.570541</td>\n",
       "      <td>-0.582422</td>\n",
       "      <td>-0.590879</td>\n",
       "      <td>-0.594284</td>\n",
       "      <td>-0.592696</td>\n",
       "      <td>-0.586363</td>\n",
       "      <td>-0.577670</td>\n",
       "      <td>-0.566504</td>\n",
       "      <td>-0.553078</td>\n",
       "      <td>-0.537533</td>\n",
       "      <td>-0.521451</td>\n",
       "      <td>-0.504317</td>\n",
       "      <td>-0.486736</td>\n",
       "      <td>-0.469162</td>\n",
       "      <td>-0.452085</td>\n",
       "      <td>-0.436094</td>\n",
       "      <td>-0.421736</td>\n",
       "      <td>-0.410043</td>\n",
       "      <td>-0.399797</td>\n",
       "      <td>-0.390614</td>\n",
       "      <td>-0.382215</td>\n",
       "      <td>-0.375138</td>\n",
       "      <td>-0.368609</td>\n",
       "      <td>-0.361944</td>\n",
       "      <td>-0.355865</td>\n",
       "      <td>-0.349924</td>\n",
       "      <td>-0.343613</td>\n",
       "      <td>-0.336852</td>\n",
       "      <td>-0.330020</td>\n",
       "      <td>-0.321960</td>\n",
       "      <td>-0.313047</td>\n",
       "      <td>-0.304455</td>\n",
       "      <td>-0.294506</td>\n",
       "      <td>-0.283307</td>\n",
       "      <td>-0.270568</td>\n",
       "      <td>-0.255925</td>\n",
       "      <td>-0.238516</td>\n",
       "      <td>-0.218288</td>\n",
       "      <td>-0.196179</td>\n",
       "      <td>-0.174831</td>\n",
       "      <td>-0.153089</td>\n",
       "      <td>-0.130633</td>\n",
       "      <td>-0.107688</td>\n",
       "      <td>-0.084341</td>\n",
       "      <td>-0.059354</td>\n",
       "      <td>-0.035875</td>\n",
       "      <td>-0.012646</td>\n",
       "      <td>0.008846</td>\n",
       "      <td>0.028800</td>\n",
       "      <td>0.047333</td>\n",
       "      <td>0.064708</td>\n",
       "      <td>0.081008</td>\n",
       "      <td>0.095565</td>\n",
       "      <td>0.109054</td>\n",
       "      <td>0.119730</td>\n",
       "      <td>0.128956</td>\n",
       "      <td>0.133848</td>\n",
       "      <td>0.136177</td>\n",
       "      <td>0.135546</td>\n",
       "      <td>0.130790</td>\n",
       "      <td>0.123486</td>\n",
       "      <td>0.114322</td>\n",
       "      <td>0.104718</td>\n",
       "      <td>0.093186</td>\n",
       "      <td>0.082237</td>\n",
       "      <td>0.069347</td>\n",
       "      <td>0.055200</td>\n",
       "      <td>0.041476</td>\n",
       "      <td>0.026716</td>\n",
       "      <td>0.011544</td>\n",
       "      <td>-0.002990</td>\n",
       "      <td>-0.016810</td>\n",
       "      <td>-0.030393</td>\n",
       "      <td>-0.043498</td>\n",
       "      <td>-0.054279</td>\n",
       "      <td>-0.065108</td>\n",
       "      <td>-0.073763</td>\n",
       "      <td>-0.080694</td>\n",
       "      <td>-0.086527</td>\n",
       "      <td>-0.092207</td>\n",
       "      <td>-0.098303</td>\n",
       "      <td>3.0</td>\n",
       "      <td>3.0</td>\n",
       "    </tr>\n",
       "    <tr>\n",
       "      <th>3</th>\n",
       "      <td>5.0</td>\n",
       "      <td>842.0</td>\n",
       "      <td>233.0</td>\n",
       "      <td>-1.050763</td>\n",
       "      <td>-1.050033</td>\n",
       "      <td>-1.046569</td>\n",
       "      <td>-1.041062</td>\n",
       "      <td>-1.036116</td>\n",
       "      <td>-1.029504</td>\n",
       "      <td>-1.020593</td>\n",
       "      <td>-1.010139</td>\n",
       "      <td>-0.998666</td>\n",
       "      <td>-0.986266</td>\n",
       "      <td>-0.982792</td>\n",
       "      <td>-0.978603</td>\n",
       "      <td>-0.973621</td>\n",
       "      <td>-0.966507</td>\n",
       "      <td>-0.957560</td>\n",
       "      <td>-0.946438</td>\n",
       "      <td>-0.934181</td>\n",
       "      <td>-0.920952</td>\n",
       "      <td>-0.909281</td>\n",
       "      <td>-0.896899</td>\n",
       "      <td>-0.897864</td>\n",
       "      <td>-0.900728</td>\n",
       "      <td>-0.901452</td>\n",
       "      <td>-0.904487</td>\n",
       "      <td>-0.906555</td>\n",
       "      <td>-0.909527</td>\n",
       "      <td>-0.915525</td>\n",
       "      <td>-0.920526</td>\n",
       "      <td>-0.931341</td>\n",
       "      <td>-0.939837</td>\n",
       "      <td>-0.949316</td>\n",
       "      <td>-0.957870</td>\n",
       "      <td>-0.964001</td>\n",
       "      <td>-0.968645</td>\n",
       "      <td>-0.971789</td>\n",
       "      <td>-0.973286</td>\n",
       "      <td>-0.972996</td>\n",
       "      <td>-0.971031</td>\n",
       "      <td>-0.969954</td>\n",
       "      <td>-0.968632</td>\n",
       "      <td>-0.974265</td>\n",
       "      <td>-0.980217</td>\n",
       "      <td>-0.986415</td>\n",
       "      <td>-0.993058</td>\n",
       "      <td>-0.999501</td>\n",
       "      <td>-1.006045</td>\n",
       "      <td>-1.013732</td>\n",
       "      <td>-1.028494</td>\n",
       "      <td>-1.045638</td>\n",
       "      <td>-1.064240</td>\n",
       "      <td>-1.084953</td>\n",
       "      <td>-1.108982</td>\n",
       "      <td>-1.132400</td>\n",
       "      <td>-1.155178</td>\n",
       "      <td>-1.176292</td>\n",
       "      <td>-1.196094</td>\n",
       "      <td>-1.214031</td>\n",
       "      <td>-1.229765</td>\n",
       "      <td>-1.244021</td>\n",
       "      <td>-1.255822</td>\n",
       "      <td>-1.266234</td>\n",
       "      <td>-1.273304</td>\n",
       "      <td>-1.277090</td>\n",
       "      <td>-1.280297</td>\n",
       "      <td>-1.279687</td>\n",
       "      <td>-1.274821</td>\n",
       "      <td>-1.270397</td>\n",
       "      <td>-1.264240</td>\n",
       "      <td>-1.255154</td>\n",
       "      <td>-1.245048</td>\n",
       "      <td>-1.233810</td>\n",
       "      <td>-1.221787</td>\n",
       "      <td>-1.209653</td>\n",
       "      <td>-1.199067</td>\n",
       "      <td>-1.188051</td>\n",
       "      <td>-1.177424</td>\n",
       "      <td>-1.167659</td>\n",
       "      <td>-1.159150</td>\n",
       "      <td>-1.151646</td>\n",
       "      <td>-1.145813</td>\n",
       "      <td>-1.141475</td>\n",
       "      <td>-1.137386</td>\n",
       "      <td>-1.042578</td>\n",
       "      <td>-0.946595</td>\n",
       "      <td>-0.855872</td>\n",
       "      <td>-0.764845</td>\n",
       "      <td>-0.674398</td>\n",
       "      <td>-0.584917</td>\n",
       "      <td>-0.499729</td>\n",
       "      <td>-0.419585</td>\n",
       "      <td>-0.343910</td>\n",
       "      <td>-0.374540</td>\n",
       "      <td>-0.407114</td>\n",
       "      <td>-0.439603</td>\n",
       "      <td>-0.472858</td>\n",
       "      <td>-0.507531</td>\n",
       "      <td>-0.542296</td>\n",
       "      <td>-0.578400</td>\n",
       "      <td>-0.614100</td>\n",
       "      <td>-0.650564</td>\n",
       "      <td>-0.685786</td>\n",
       "      <td>-0.720219</td>\n",
       "      <td>-0.754411</td>\n",
       "      <td>-0.790889</td>\n",
       "      <td>-0.826750</td>\n",
       "      <td>-0.861258</td>\n",
       "      <td>-0.890432</td>\n",
       "      <td>-0.913658</td>\n",
       "      <td>-0.929619</td>\n",
       "      <td>-0.938074</td>\n",
       "      <td>-0.937064</td>\n",
       "      <td>-0.925225</td>\n",
       "      <td>-0.907899</td>\n",
       "      <td>-0.891514</td>\n",
       "      <td>-0.875776</td>\n",
       "      <td>-0.860895</td>\n",
       "      <td>-0.847100</td>\n",
       "      <td>-0.833932</td>\n",
       "      <td>-0.822177</td>\n",
       "      <td>-0.810869</td>\n",
       "      <td>-0.800646</td>\n",
       "      <td>-0.792386</td>\n",
       "      <td>-0.784536</td>\n",
       "      <td>-0.777470</td>\n",
       "      <td>-0.771508</td>\n",
       "      <td>-0.765295</td>\n",
       "      <td>-0.759623</td>\n",
       "      <td>-0.753333</td>\n",
       "      <td>-0.743001</td>\n",
       "      <td>-0.725326</td>\n",
       "      <td>-0.703520</td>\n",
       "      <td>-0.680984</td>\n",
       "      <td>-0.659381</td>\n",
       "      <td>-0.642726</td>\n",
       "      <td>-0.634229</td>\n",
       "      <td>-0.636512</td>\n",
       "      <td>-0.653287</td>\n",
       "      <td>-0.678213</td>\n",
       "      <td>-0.703208</td>\n",
       "      <td>-0.729262</td>\n",
       "      <td>-0.756430</td>\n",
       "      <td>-0.785644</td>\n",
       "      <td>-0.815687</td>\n",
       "      <td>-0.846234</td>\n",
       "      <td>-0.877900</td>\n",
       "      <td>-0.909901</td>\n",
       "      <td>-0.941723</td>\n",
       "      <td>-0.972843</td>\n",
       "      <td>-1.003853</td>\n",
       "      <td>-1.034927</td>\n",
       "      <td>-1.063704</td>\n",
       "      <td>-1.091435</td>\n",
       "      <td>-1.115601</td>\n",
       "      <td>-1.138576</td>\n",
       "      <td>-1.156861</td>\n",
       "      <td>-1.169551</td>\n",
       "      <td>-1.168613</td>\n",
       "      <td>-1.149724</td>\n",
       "      <td>-1.117740</td>\n",
       "      <td>-1.076985</td>\n",
       "      <td>-1.033205</td>\n",
       "      <td>-0.991290</td>\n",
       "      <td>-0.942747</td>\n",
       "      <td>-0.888514</td>\n",
       "      <td>-0.827594</td>\n",
       "      <td>-0.760212</td>\n",
       "      <td>-0.691764</td>\n",
       "      <td>-0.619484</td>\n",
       "      <td>-0.548563</td>\n",
       "      <td>-0.477572</td>\n",
       "      <td>-0.407706</td>\n",
       "      <td>-0.341109</td>\n",
       "      <td>-0.275933</td>\n",
       "      <td>-0.215753</td>\n",
       "      <td>-0.156456</td>\n",
       "      <td>-0.097589</td>\n",
       "      <td>-0.038219</td>\n",
       "      <td>0.020666</td>\n",
       "      <td>0.079345</td>\n",
       "      <td>0.135728</td>\n",
       "      <td>0.191292</td>\n",
       "      <td>0.245129</td>\n",
       "      <td>0.297350</td>\n",
       "      <td>0.347816</td>\n",
       "      <td>0.396615</td>\n",
       "      <td>0.444826</td>\n",
       "      <td>0.491362</td>\n",
       "      <td>0.536904</td>\n",
       "      <td>0.581594</td>\n",
       "      <td>0.624650</td>\n",
       "      <td>0.667579</td>\n",
       "      <td>0.709590</td>\n",
       "      <td>0.752063</td>\n",
       "      <td>0.794059</td>\n",
       "      <td>0.836197</td>\n",
       "      <td>0.877325</td>\n",
       "      <td>0.920041</td>\n",
       "      <td>0.965403</td>\n",
       "      <td>1.014403</td>\n",
       "      <td>1.065808</td>\n",
       "      <td>1.119491</td>\n",
       "      <td>1.174832</td>\n",
       "      <td>1.232473</td>\n",
       "      <td>1.291093</td>\n",
       "      <td>1.349960</td>\n",
       "      <td>1.407548</td>\n",
       "      <td>1.463374</td>\n",
       "      <td>1.518591</td>\n",
       "      <td>1.571458</td>\n",
       "      <td>1.622206</td>\n",
       "      <td>1.627118</td>\n",
       "      <td>1.633395</td>\n",
       "      <td>1.640084</td>\n",
       "      <td>1.648075</td>\n",
       "      <td>1.656684</td>\n",
       "      <td>1.666306</td>\n",
       "      <td>1.677199</td>\n",
       "      <td>1.689127</td>\n",
       "      <td>1.701688</td>\n",
       "      <td>1.713966</td>\n",
       "      <td>1.726579</td>\n",
       "      <td>1.738841</td>\n",
       "      <td>1.751984</td>\n",
       "      <td>1.767116</td>\n",
       "      <td>1.790560</td>\n",
       "      <td>1.824225</td>\n",
       "      <td>1.866614</td>\n",
       "      <td>1.915484</td>\n",
       "      <td>1.968930</td>\n",
       "      <td>2.023775</td>\n",
       "      <td>2.078152</td>\n",
       "      <td>2.129957</td>\n",
       "      <td>2.178109</td>\n",
       "      <td>2.228354</td>\n",
       "      <td>2.274830</td>\n",
       "      <td>2.317710</td>\n",
       "      <td>2.356294</td>\n",
       "      <td>2.389345</td>\n",
       "      <td>2.417916</td>\n",
       "      <td>2.441353</td>\n",
       "      <td>2.460116</td>\n",
       "      <td>2.475607</td>\n",
       "      <td>2.332346</td>\n",
       "      <td>2.183427</td>\n",
       "      <td>2.024300</td>\n",
       "      <td>1.856227</td>\n",
       "      <td>1.677831</td>\n",
       "      <td>1.489449</td>\n",
       "      <td>1.290037</td>\n",
       "      <td>1.246337</td>\n",
       "      <td>1.198534</td>\n",
       "      <td>1.144618</td>\n",
       "      <td>1.085804</td>\n",
       "      <td>1.024403</td>\n",
       "      <td>0.958126</td>\n",
       "      <td>0.887342</td>\n",
       "      <td>0.813840</td>\n",
       "      <td>0.736199</td>\n",
       "      <td>0.655518</td>\n",
       "      <td>0.573503</td>\n",
       "      <td>0.488481</td>\n",
       "      <td>0.402842</td>\n",
       "      <td>0.310786</td>\n",
       "      <td>0.212695</td>\n",
       "      <td>0.109363</td>\n",
       "      <td>0.004747</td>\n",
       "      <td>-0.099343</td>\n",
       "      <td>-0.201395</td>\n",
       "      <td>-0.297814</td>\n",
       "      <td>-0.386697</td>\n",
       "      <td>-0.465194</td>\n",
       "      <td>-0.530023</td>\n",
       "      <td>-0.572309</td>\n",
       "      <td>-0.597840</td>\n",
       "      <td>-0.622345</td>\n",
       "      <td>-0.652485</td>\n",
       "      <td>-0.683881</td>\n",
       "      <td>-0.715131</td>\n",
       "      <td>-0.747781</td>\n",
       "      <td>-0.778638</td>\n",
       "      <td>-0.808754</td>\n",
       "      <td>-0.838562</td>\n",
       "      <td>-0.865758</td>\n",
       "      <td>-0.902353</td>\n",
       "      <td>-0.950448</td>\n",
       "      <td>-0.999954</td>\n",
       "      <td>-1.043034</td>\n",
       "      <td>-1.070035</td>\n",
       "      <td>-1.072814</td>\n",
       "      <td>-1.043174</td>\n",
       "      <td>15.0</td>\n",
       "      <td>9.0</td>\n",
       "    </tr>\n",
       "    <tr>\n",
       "      <th>4</th>\n",
       "      <td>4.0</td>\n",
       "      <td>301.0</td>\n",
       "      <td>152.0</td>\n",
       "      <td>1.253562</td>\n",
       "      <td>1.253958</td>\n",
       "      <td>1.252638</td>\n",
       "      <td>1.248987</td>\n",
       "      <td>1.243626</td>\n",
       "      <td>1.236525</td>\n",
       "      <td>1.228372</td>\n",
       "      <td>1.223105</td>\n",
       "      <td>1.232037</td>\n",
       "      <td>1.245730</td>\n",
       "      <td>1.259551</td>\n",
       "      <td>1.272043</td>\n",
       "      <td>1.281556</td>\n",
       "      <td>1.288044</td>\n",
       "      <td>1.299893</td>\n",
       "      <td>1.313186</td>\n",
       "      <td>1.323087</td>\n",
       "      <td>1.328426</td>\n",
       "      <td>1.332313</td>\n",
       "      <td>1.333335</td>\n",
       "      <td>1.333456</td>\n",
       "      <td>1.331685</td>\n",
       "      <td>1.328903</td>\n",
       "      <td>1.323876</td>\n",
       "      <td>1.319890</td>\n",
       "      <td>1.312979</td>\n",
       "      <td>1.303455</td>\n",
       "      <td>1.291667</td>\n",
       "      <td>1.277054</td>\n",
       "      <td>1.260327</td>\n",
       "      <td>1.245693</td>\n",
       "      <td>1.228908</td>\n",
       "      <td>1.214620</td>\n",
       "      <td>1.201898</td>\n",
       "      <td>1.188690</td>\n",
       "      <td>1.176194</td>\n",
       "      <td>1.162633</td>\n",
       "      <td>1.148708</td>\n",
       "      <td>1.150539</td>\n",
       "      <td>1.152348</td>\n",
       "      <td>1.153113</td>\n",
       "      <td>1.153788</td>\n",
       "      <td>1.154163</td>\n",
       "      <td>1.154058</td>\n",
       "      <td>1.155831</td>\n",
       "      <td>1.158234</td>\n",
       "      <td>1.160537</td>\n",
       "      <td>1.162191</td>\n",
       "      <td>1.163757</td>\n",
       "      <td>1.164251</td>\n",
       "      <td>1.163719</td>\n",
       "      <td>1.161812</td>\n",
       "      <td>1.158735</td>\n",
       "      <td>1.152832</td>\n",
       "      <td>1.145243</td>\n",
       "      <td>1.134803</td>\n",
       "      <td>1.121567</td>\n",
       "      <td>1.106526</td>\n",
       "      <td>1.089499</td>\n",
       "      <td>1.070719</td>\n",
       "      <td>1.051460</td>\n",
       "      <td>1.030962</td>\n",
       "      <td>1.011032</td>\n",
       "      <td>0.991148</td>\n",
       "      <td>0.971375</td>\n",
       "      <td>0.954274</td>\n",
       "      <td>0.938755</td>\n",
       "      <td>0.922648</td>\n",
       "      <td>0.906037</td>\n",
       "      <td>0.889120</td>\n",
       "      <td>0.871485</td>\n",
       "      <td>0.853717</td>\n",
       "      <td>0.853090</td>\n",
       "      <td>0.851538</td>\n",
       "      <td>0.849341</td>\n",
       "      <td>0.846864</td>\n",
       "      <td>0.844301</td>\n",
       "      <td>0.841268</td>\n",
       "      <td>0.837205</td>\n",
       "      <td>0.832258</td>\n",
       "      <td>0.826770</td>\n",
       "      <td>0.821269</td>\n",
       "      <td>0.815729</td>\n",
       "      <td>0.809339</td>\n",
       "      <td>0.802927</td>\n",
       "      <td>0.795719</td>\n",
       "      <td>0.787999</td>\n",
       "      <td>0.779620</td>\n",
       "      <td>0.771249</td>\n",
       "      <td>0.762583</td>\n",
       "      <td>0.753113</td>\n",
       "      <td>0.741965</td>\n",
       "      <td>0.730248</td>\n",
       "      <td>0.718322</td>\n",
       "      <td>0.707429</td>\n",
       "      <td>0.696639</td>\n",
       "      <td>0.688060</td>\n",
       "      <td>0.680993</td>\n",
       "      <td>0.676011</td>\n",
       "      <td>0.672350</td>\n",
       "      <td>0.677748</td>\n",
       "      <td>0.693953</td>\n",
       "      <td>0.714647</td>\n",
       "      <td>0.732513</td>\n",
       "      <td>0.747827</td>\n",
       "      <td>0.762641</td>\n",
       "      <td>0.781180</td>\n",
       "      <td>0.800861</td>\n",
       "      <td>0.822488</td>\n",
       "      <td>0.844084</td>\n",
       "      <td>0.866557</td>\n",
       "      <td>0.890145</td>\n",
       "      <td>0.913244</td>\n",
       "      <td>0.936793</td>\n",
       "      <td>0.959935</td>\n",
       "      <td>0.983773</td>\n",
       "      <td>1.008405</td>\n",
       "      <td>1.034585</td>\n",
       "      <td>1.061114</td>\n",
       "      <td>1.088915</td>\n",
       "      <td>1.116978</td>\n",
       "      <td>1.146265</td>\n",
       "      <td>1.176066</td>\n",
       "      <td>1.194474</td>\n",
       "      <td>1.192901</td>\n",
       "      <td>1.175886</td>\n",
       "      <td>1.147700</td>\n",
       "      <td>1.113392</td>\n",
       "      <td>1.078776</td>\n",
       "      <td>1.049040</td>\n",
       "      <td>1.029170</td>\n",
       "      <td>1.017623</td>\n",
       "      <td>1.008055</td>\n",
       "      <td>1.000587</td>\n",
       "      <td>0.994976</td>\n",
       "      <td>0.991021</td>\n",
       "      <td>0.990349</td>\n",
       "      <td>0.992276</td>\n",
       "      <td>0.996655</td>\n",
       "      <td>1.001901</td>\n",
       "      <td>1.007116</td>\n",
       "      <td>1.011865</td>\n",
       "      <td>1.015722</td>\n",
       "      <td>1.020465</td>\n",
       "      <td>1.025414</td>\n",
       "      <td>1.029872</td>\n",
       "      <td>1.035262</td>\n",
       "      <td>1.040865</td>\n",
       "      <td>1.046468</td>\n",
       "      <td>1.051254</td>\n",
       "      <td>1.052174</td>\n",
       "      <td>1.045651</td>\n",
       "      <td>1.035092</td>\n",
       "      <td>1.019513</td>\n",
       "      <td>0.996412</td>\n",
       "      <td>0.966240</td>\n",
       "      <td>0.929295</td>\n",
       "      <td>0.887447</td>\n",
       "      <td>0.837252</td>\n",
       "      <td>0.776081</td>\n",
       "      <td>0.700613</td>\n",
       "      <td>0.612269</td>\n",
       "      <td>0.514198</td>\n",
       "      <td>0.408383</td>\n",
       "      <td>0.299847</td>\n",
       "      <td>0.197926</td>\n",
       "      <td>0.047690</td>\n",
       "      <td>-0.097917</td>\n",
       "      <td>-0.240508</td>\n",
       "      <td>-0.377180</td>\n",
       "      <td>-0.507980</td>\n",
       "      <td>-0.635251</td>\n",
       "      <td>-0.759187</td>\n",
       "      <td>-0.743674</td>\n",
       "      <td>-0.729500</td>\n",
       "      <td>-0.715080</td>\n",
       "      <td>-0.700176</td>\n",
       "      <td>-0.685258</td>\n",
       "      <td>-0.669943</td>\n",
       "      <td>-0.658647</td>\n",
       "      <td>-0.647284</td>\n",
       "      <td>-0.636885</td>\n",
       "      <td>-0.627280</td>\n",
       "      <td>-0.618743</td>\n",
       "      <td>-0.606813</td>\n",
       "      <td>-0.587591</td>\n",
       "      <td>-0.564226</td>\n",
       "      <td>-0.538272</td>\n",
       "      <td>-0.510750</td>\n",
       "      <td>-0.483647</td>\n",
       "      <td>-0.461009</td>\n",
       "      <td>-0.443648</td>\n",
       "      <td>-0.431317</td>\n",
       "      <td>-0.422826</td>\n",
       "      <td>-0.415150</td>\n",
       "      <td>-0.410116</td>\n",
       "      <td>-0.405875</td>\n",
       "      <td>-0.403318</td>\n",
       "      <td>-0.402238</td>\n",
       "      <td>-0.402111</td>\n",
       "      <td>-0.403741</td>\n",
       "      <td>-0.405845</td>\n",
       "      <td>-0.408393</td>\n",
       "      <td>-0.410690</td>\n",
       "      <td>-0.413126</td>\n",
       "      <td>-0.414491</td>\n",
       "      <td>-0.415921</td>\n",
       "      <td>-0.416384</td>\n",
       "      <td>-0.415056</td>\n",
       "      <td>-0.413014</td>\n",
       "      <td>-0.409671</td>\n",
       "      <td>-0.405112</td>\n",
       "      <td>-0.399236</td>\n",
       "      <td>-0.389671</td>\n",
       "      <td>-0.373148</td>\n",
       "      <td>-0.352561</td>\n",
       "      <td>-0.327627</td>\n",
       "      <td>-0.299634</td>\n",
       "      <td>-0.271394</td>\n",
       "      <td>-0.243933</td>\n",
       "      <td>-0.218482</td>\n",
       "      <td>-0.197282</td>\n",
       "      <td>-0.180905</td>\n",
       "      <td>-0.181171</td>\n",
       "      <td>-0.204646</td>\n",
       "      <td>-0.243511</td>\n",
       "      <td>-0.289059</td>\n",
       "      <td>-0.333990</td>\n",
       "      <td>-0.369185</td>\n",
       "      <td>-0.385731</td>\n",
       "      <td>-0.384627</td>\n",
       "      <td>-0.373408</td>\n",
       "      <td>-0.354054</td>\n",
       "      <td>-0.325694</td>\n",
       "      <td>-0.291221</td>\n",
       "      <td>-0.250511</td>\n",
       "      <td>-0.205793</td>\n",
       "      <td>-0.156721</td>\n",
       "      <td>-0.105810</td>\n",
       "      <td>-0.053375</td>\n",
       "      <td>-0.002282</td>\n",
       "      <td>0.047244</td>\n",
       "      <td>0.093194</td>\n",
       "      <td>0.134327</td>\n",
       "      <td>0.167873</td>\n",
       "      <td>0.193265</td>\n",
       "      <td>0.208031</td>\n",
       "      <td>0.207400</td>\n",
       "      <td>0.185003</td>\n",
       "      <td>0.136055</td>\n",
       "      <td>0.067503</td>\n",
       "      <td>-0.015545</td>\n",
       "      <td>-0.108100</td>\n",
       "      <td>-0.203626</td>\n",
       "      <td>-0.296312</td>\n",
       "      <td>-0.380704</td>\n",
       "      <td>-0.450266</td>\n",
       "      <td>-0.497511</td>\n",
       "      <td>-0.516768</td>\n",
       "      <td>-0.519363</td>\n",
       "      <td>-0.521066</td>\n",
       "      <td>-0.521748</td>\n",
       "      <td>-0.522051</td>\n",
       "      <td>-0.521735</td>\n",
       "      <td>-0.520402</td>\n",
       "      <td>-0.520075</td>\n",
       "      <td>-0.519713</td>\n",
       "      <td>-0.518571</td>\n",
       "      <td>-0.518724</td>\n",
       "      <td>-0.519212</td>\n",
       "      <td>-0.520206</td>\n",
       "      <td>-0.519586</td>\n",
       "      <td>-0.519221</td>\n",
       "      <td>-0.518387</td>\n",
       "      <td>-0.517743</td>\n",
       "      <td>-0.518269</td>\n",
       "      <td>-0.518432</td>\n",
       "      <td>-0.520594</td>\n",
       "      <td>-0.524068</td>\n",
       "      <td>-0.527176</td>\n",
       "      <td>-0.530056</td>\n",
       "      <td>-0.533213</td>\n",
       "      <td>-0.535402</td>\n",
       "      <td>-0.537348</td>\n",
       "      <td>-0.539972</td>\n",
       "      <td>-0.541294</td>\n",
       "      <td>-0.542476</td>\n",
       "      <td>-0.543281</td>\n",
       "      <td>-0.545129</td>\n",
       "      <td>-0.546555</td>\n",
       "      <td>3.0</td>\n",
       "      <td>3.0</td>\n",
       "    </tr>\n",
       "    <tr>\n",
       "      <th>5</th>\n",
       "      <td>5.0</td>\n",
       "      <td>1049.0</td>\n",
       "      <td>747.0</td>\n",
       "      <td>-0.538533</td>\n",
       "      <td>-0.575738</td>\n",
       "      <td>-0.612433</td>\n",
       "      <td>-0.648360</td>\n",
       "      <td>-0.685496</td>\n",
       "      <td>-0.721385</td>\n",
       "      <td>-0.756566</td>\n",
       "      <td>-0.789834</td>\n",
       "      <td>-0.820815</td>\n",
       "      <td>-0.851339</td>\n",
       "      <td>-0.890358</td>\n",
       "      <td>-0.929886</td>\n",
       "      <td>-0.960045</td>\n",
       "      <td>-0.973801</td>\n",
       "      <td>-0.974162</td>\n",
       "      <td>-0.963594</td>\n",
       "      <td>-0.944977</td>\n",
       "      <td>-0.922422</td>\n",
       "      <td>-0.901459</td>\n",
       "      <td>-0.882297</td>\n",
       "      <td>-0.878859</td>\n",
       "      <td>-0.875864</td>\n",
       "      <td>-0.870752</td>\n",
       "      <td>-0.867493</td>\n",
       "      <td>-0.862795</td>\n",
       "      <td>-0.859071</td>\n",
       "      <td>-0.858405</td>\n",
       "      <td>-0.856398</td>\n",
       "      <td>-0.860645</td>\n",
       "      <td>-0.862798</td>\n",
       "      <td>-0.865937</td>\n",
       "      <td>-0.868787</td>\n",
       "      <td>-0.869319</td>\n",
       "      <td>-0.869409</td>\n",
       "      <td>-0.868223</td>\n",
       "      <td>-0.866894</td>\n",
       "      <td>-0.864459</td>\n",
       "      <td>-0.861008</td>\n",
       "      <td>-0.859437</td>\n",
       "      <td>-0.859875</td>\n",
       "      <td>-0.867874</td>\n",
       "      <td>-0.876642</td>\n",
       "      <td>-0.885630</td>\n",
       "      <td>-0.893741</td>\n",
       "      <td>-0.900216</td>\n",
       "      <td>-0.905422</td>\n",
       "      <td>-0.910853</td>\n",
       "      <td>-0.921305</td>\n",
       "      <td>-0.933129</td>\n",
       "      <td>-0.945009</td>\n",
       "      <td>-0.958471</td>\n",
       "      <td>-0.974605</td>\n",
       "      <td>-0.990116</td>\n",
       "      <td>-1.004606</td>\n",
       "      <td>-1.018465</td>\n",
       "      <td>-1.031177</td>\n",
       "      <td>-1.043133</td>\n",
       "      <td>-1.054463</td>\n",
       "      <td>-1.065789</td>\n",
       "      <td>-1.076225</td>\n",
       "      <td>-1.087109</td>\n",
       "      <td>-1.097066</td>\n",
       "      <td>-1.106057</td>\n",
       "      <td>-1.116955</td>\n",
       "      <td>-1.127218</td>\n",
       "      <td>-1.135782</td>\n",
       "      <td>-1.147592</td>\n",
       "      <td>-1.159484</td>\n",
       "      <td>-1.170708</td>\n",
       "      <td>-1.181767</td>\n",
       "      <td>-1.192069</td>\n",
       "      <td>-1.201448</td>\n",
       "      <td>-1.209213</td>\n",
       "      <td>-1.216974</td>\n",
       "      <td>-1.224068</td>\n",
       "      <td>-1.230456</td>\n",
       "      <td>-1.236224</td>\n",
       "      <td>-1.241826</td>\n",
       "      <td>-1.247504</td>\n",
       "      <td>-1.253147</td>\n",
       "      <td>-1.258617</td>\n",
       "      <td>-1.262666</td>\n",
       "      <td>-1.269663</td>\n",
       "      <td>-1.274728</td>\n",
       "      <td>-1.273002</td>\n",
       "      <td>-1.248645</td>\n",
       "      <td>-1.205984</td>\n",
       "      <td>-1.150470</td>\n",
       "      <td>-1.091383</td>\n",
       "      <td>-1.033947</td>\n",
       "      <td>-0.981541</td>\n",
       "      <td>-0.940495</td>\n",
       "      <td>-0.918352</td>\n",
       "      <td>-0.908002</td>\n",
       "      <td>-0.898419</td>\n",
       "      <td>-0.891405</td>\n",
       "      <td>-0.884582</td>\n",
       "      <td>-0.880046</td>\n",
       "      <td>-0.875530</td>\n",
       "      <td>-0.871499</td>\n",
       "      <td>-0.866782</td>\n",
       "      <td>-0.860604</td>\n",
       "      <td>-0.852318</td>\n",
       "      <td>-0.841625</td>\n",
       "      <td>-0.828963</td>\n",
       "      <td>-0.814220</td>\n",
       "      <td>-0.795672</td>\n",
       "      <td>-0.774468</td>\n",
       "      <td>-0.750964</td>\n",
       "      <td>-0.725719</td>\n",
       "      <td>-0.699154</td>\n",
       "      <td>-0.670998</td>\n",
       "      <td>-0.641767</td>\n",
       "      <td>-0.612310</td>\n",
       "      <td>-0.581436</td>\n",
       "      <td>-0.550171</td>\n",
       "      <td>-0.518194</td>\n",
       "      <td>-0.485364</td>\n",
       "      <td>-0.451687</td>\n",
       "      <td>-0.417783</td>\n",
       "      <td>-0.383824</td>\n",
       "      <td>-0.301845</td>\n",
       "      <td>-0.219665</td>\n",
       "      <td>-0.137932</td>\n",
       "      <td>-0.055692</td>\n",
       "      <td>0.027258</td>\n",
       "      <td>0.111237</td>\n",
       "      <td>0.195751</td>\n",
       "      <td>0.281151</td>\n",
       "      <td>0.367523</td>\n",
       "      <td>0.455523</td>\n",
       "      <td>0.544662</td>\n",
       "      <td>0.636193</td>\n",
       "      <td>0.730049</td>\n",
       "      <td>0.826630</td>\n",
       "      <td>0.925486</td>\n",
       "      <td>1.028899</td>\n",
       "      <td>1.034780</td>\n",
       "      <td>1.043239</td>\n",
       "      <td>1.054952</td>\n",
       "      <td>1.067737</td>\n",
       "      <td>1.080732</td>\n",
       "      <td>1.094918</td>\n",
       "      <td>1.110265</td>\n",
       "      <td>1.126123</td>\n",
       "      <td>1.141782</td>\n",
       "      <td>1.157704</td>\n",
       "      <td>1.173632</td>\n",
       "      <td>1.188858</td>\n",
       "      <td>1.206403</td>\n",
       "      <td>1.226024</td>\n",
       "      <td>1.243120</td>\n",
       "      <td>1.261596</td>\n",
       "      <td>1.264470</td>\n",
       "      <td>1.247522</td>\n",
       "      <td>1.228937</td>\n",
       "      <td>1.215721</td>\n",
       "      <td>1.207565</td>\n",
       "      <td>1.207231</td>\n",
       "      <td>1.208792</td>\n",
       "      <td>1.206700</td>\n",
       "      <td>1.201460</td>\n",
       "      <td>1.191611</td>\n",
       "      <td>1.177385</td>\n",
       "      <td>1.158850</td>\n",
       "      <td>1.147891</td>\n",
       "      <td>1.133471</td>\n",
       "      <td>1.115988</td>\n",
       "      <td>1.095003</td>\n",
       "      <td>1.072536</td>\n",
       "      <td>1.049496</td>\n",
       "      <td>1.028092</td>\n",
       "      <td>1.013313</td>\n",
       "      <td>0.999141</td>\n",
       "      <td>0.985718</td>\n",
       "      <td>0.970697</td>\n",
       "      <td>0.957184</td>\n",
       "      <td>0.945259</td>\n",
       "      <td>0.933759</td>\n",
       "      <td>0.924259</td>\n",
       "      <td>0.915709</td>\n",
       "      <td>0.907421</td>\n",
       "      <td>0.898670</td>\n",
       "      <td>0.890392</td>\n",
       "      <td>0.883232</td>\n",
       "      <td>0.877197</td>\n",
       "      <td>0.872260</td>\n",
       "      <td>0.868364</td>\n",
       "      <td>0.865151</td>\n",
       "      <td>0.862891</td>\n",
       "      <td>0.862848</td>\n",
       "      <td>0.864264</td>\n",
       "      <td>0.867641</td>\n",
       "      <td>0.872387</td>\n",
       "      <td>0.878482</td>\n",
       "      <td>0.885207</td>\n",
       "      <td>0.896413</td>\n",
       "      <td>0.913473</td>\n",
       "      <td>0.933147</td>\n",
       "      <td>0.956505</td>\n",
       "      <td>0.981440</td>\n",
       "      <td>1.008716</td>\n",
       "      <td>1.037993</td>\n",
       "      <td>1.068875</td>\n",
       "      <td>1.099715</td>\n",
       "      <td>1.129981</td>\n",
       "      <td>1.158765</td>\n",
       "      <td>1.186964</td>\n",
       "      <td>1.213392</td>\n",
       "      <td>1.239569</td>\n",
       "      <td>1.265958</td>\n",
       "      <td>1.292412</td>\n",
       "      <td>1.318478</td>\n",
       "      <td>1.344038</td>\n",
       "      <td>1.369372</td>\n",
       "      <td>1.393940</td>\n",
       "      <td>1.418842</td>\n",
       "      <td>1.443959</td>\n",
       "      <td>1.467381</td>\n",
       "      <td>1.489634</td>\n",
       "      <td>1.509812</td>\n",
       "      <td>1.528720</td>\n",
       "      <td>1.546472</td>\n",
       "      <td>1.565023</td>\n",
       "      <td>1.549721</td>\n",
       "      <td>1.533144</td>\n",
       "      <td>1.517229</td>\n",
       "      <td>1.501182</td>\n",
       "      <td>1.486480</td>\n",
       "      <td>1.475760</td>\n",
       "      <td>1.465571</td>\n",
       "      <td>1.455674</td>\n",
       "      <td>1.444316</td>\n",
       "      <td>1.433446</td>\n",
       "      <td>1.415525</td>\n",
       "      <td>1.388590</td>\n",
       "      <td>1.350861</td>\n",
       "      <td>1.298733</td>\n",
       "      <td>1.230747</td>\n",
       "      <td>1.148362</td>\n",
       "      <td>1.054980</td>\n",
       "      <td>0.955101</td>\n",
       "      <td>0.853286</td>\n",
       "      <td>0.749999</td>\n",
       "      <td>0.634568</td>\n",
       "      <td>0.505778</td>\n",
       "      <td>0.385023</td>\n",
       "      <td>0.293601</td>\n",
       "      <td>0.267980</td>\n",
       "      <td>0.303369</td>\n",
       "      <td>0.365534</td>\n",
       "      <td>0.414176</td>\n",
       "      <td>0.441757</td>\n",
       "      <td>0.468785</td>\n",
       "      <td>0.493680</td>\n",
       "      <td>0.517532</td>\n",
       "      <td>0.538727</td>\n",
       "      <td>0.559572</td>\n",
       "      <td>0.579045</td>\n",
       "      <td>0.597084</td>\n",
       "      <td>0.615473</td>\n",
       "      <td>0.632840</td>\n",
       "      <td>0.650398</td>\n",
       "      <td>0.666369</td>\n",
       "      <td>0.682215</td>\n",
       "      <td>0.697026</td>\n",
       "      <td>0.710432</td>\n",
       "      <td>0.724723</td>\n",
       "      <td>0.737821</td>\n",
       "      <td>0.751039</td>\n",
       "      <td>0.757386</td>\n",
       "      <td>0.750843</td>\n",
       "      <td>0.734032</td>\n",
       "      <td>0.707454</td>\n",
       "      <td>0.671515</td>\n",
       "      <td>0.628668</td>\n",
       "      <td>0.580820</td>\n",
       "      <td>0.527487</td>\n",
       "      <td>0.471967</td>\n",
       "      <td>0.414880</td>\n",
       "      <td>0.355707</td>\n",
       "      <td>0.296897</td>\n",
       "      <td>0.240572</td>\n",
       "      <td>0.187256</td>\n",
       "      <td>0.137000</td>\n",
       "      <td>0.091249</td>\n",
       "      <td>0.053258</td>\n",
       "      <td>0.021099</td>\n",
       "      <td>-0.002666</td>\n",
       "      <td>-0.023162</td>\n",
       "      <td>16.0</td>\n",
       "      <td>10.0</td>\n",
       "    </tr>\n",
       "    <tr>\n",
       "      <th>6</th>\n",
       "      <td>4.0</td>\n",
       "      <td>440.0</td>\n",
       "      <td>178.0</td>\n",
       "      <td>2.347204</td>\n",
       "      <td>2.367458</td>\n",
       "      <td>2.384153</td>\n",
       "      <td>2.395677</td>\n",
       "      <td>2.403954</td>\n",
       "      <td>2.407757</td>\n",
       "      <td>2.407978</td>\n",
       "      <td>2.410017</td>\n",
       "      <td>2.432056</td>\n",
       "      <td>2.459598</td>\n",
       "      <td>2.490875</td>\n",
       "      <td>2.518919</td>\n",
       "      <td>2.541275</td>\n",
       "      <td>2.557050</td>\n",
       "      <td>2.579750</td>\n",
       "      <td>2.603279</td>\n",
       "      <td>2.619054</td>\n",
       "      <td>2.626804</td>\n",
       "      <td>2.631803</td>\n",
       "      <td>2.630493</td>\n",
       "      <td>2.635992</td>\n",
       "      <td>2.637298</td>\n",
       "      <td>2.637293</td>\n",
       "      <td>2.633245</td>\n",
       "      <td>2.630279</td>\n",
       "      <td>2.622904</td>\n",
       "      <td>2.612382</td>\n",
       "      <td>2.597381</td>\n",
       "      <td>2.581796</td>\n",
       "      <td>2.560423</td>\n",
       "      <td>2.542115</td>\n",
       "      <td>2.520126</td>\n",
       "      <td>2.500124</td>\n",
       "      <td>2.480725</td>\n",
       "      <td>2.458877</td>\n",
       "      <td>2.436774</td>\n",
       "      <td>2.412179</td>\n",
       "      <td>2.384658</td>\n",
       "      <td>2.382850</td>\n",
       "      <td>2.380449</td>\n",
       "      <td>2.380636</td>\n",
       "      <td>2.379725</td>\n",
       "      <td>2.379199</td>\n",
       "      <td>2.377482</td>\n",
       "      <td>2.379308</td>\n",
       "      <td>2.381735</td>\n",
       "      <td>2.384398</td>\n",
       "      <td>2.389511</td>\n",
       "      <td>2.395980</td>\n",
       "      <td>2.401551</td>\n",
       "      <td>2.405503</td>\n",
       "      <td>2.410249</td>\n",
       "      <td>2.411471</td>\n",
       "      <td>2.405922</td>\n",
       "      <td>2.394559</td>\n",
       "      <td>2.376509</td>\n",
       "      <td>2.353223</td>\n",
       "      <td>2.324463</td>\n",
       "      <td>2.292227</td>\n",
       "      <td>2.256154</td>\n",
       "      <td>2.219651</td>\n",
       "      <td>2.181052</td>\n",
       "      <td>2.142650</td>\n",
       "      <td>2.107018</td>\n",
       "      <td>2.071495</td>\n",
       "      <td>2.041014</td>\n",
       "      <td>2.016215</td>\n",
       "      <td>1.992141</td>\n",
       "      <td>1.969431</td>\n",
       "      <td>1.948851</td>\n",
       "      <td>1.929683</td>\n",
       "      <td>1.912693</td>\n",
       "      <td>1.895448</td>\n",
       "      <td>1.880990</td>\n",
       "      <td>1.868687</td>\n",
       "      <td>1.859223</td>\n",
       "      <td>1.852209</td>\n",
       "      <td>1.848296</td>\n",
       "      <td>1.847536</td>\n",
       "      <td>1.850240</td>\n",
       "      <td>1.855347</td>\n",
       "      <td>1.863027</td>\n",
       "      <td>1.874616</td>\n",
       "      <td>1.887130</td>\n",
       "      <td>1.905130</td>\n",
       "      <td>1.923454</td>\n",
       "      <td>1.941690</td>\n",
       "      <td>1.959215</td>\n",
       "      <td>1.977879</td>\n",
       "      <td>1.996529</td>\n",
       "      <td>2.012171</td>\n",
       "      <td>2.022623</td>\n",
       "      <td>2.028889</td>\n",
       "      <td>2.030903</td>\n",
       "      <td>2.029866</td>\n",
       "      <td>2.025947</td>\n",
       "      <td>2.019272</td>\n",
       "      <td>2.011098</td>\n",
       "      <td>1.998408</td>\n",
       "      <td>1.981343</td>\n",
       "      <td>1.960440</td>\n",
       "      <td>1.936343</td>\n",
       "      <td>1.909206</td>\n",
       "      <td>1.880739</td>\n",
       "      <td>1.851093</td>\n",
       "      <td>1.820769</td>\n",
       "      <td>1.793842</td>\n",
       "      <td>1.768693</td>\n",
       "      <td>1.744605</td>\n",
       "      <td>1.721277</td>\n",
       "      <td>1.698606</td>\n",
       "      <td>1.677240</td>\n",
       "      <td>1.656072</td>\n",
       "      <td>1.635424</td>\n",
       "      <td>1.614986</td>\n",
       "      <td>1.595792</td>\n",
       "      <td>1.578482</td>\n",
       "      <td>1.562927</td>\n",
       "      <td>1.548472</td>\n",
       "      <td>1.534683</td>\n",
       "      <td>1.522053</td>\n",
       "      <td>1.510320</td>\n",
       "      <td>1.498908</td>\n",
       "      <td>1.487171</td>\n",
       "      <td>1.475224</td>\n",
       "      <td>1.461812</td>\n",
       "      <td>1.446362</td>\n",
       "      <td>1.429477</td>\n",
       "      <td>1.411709</td>\n",
       "      <td>1.392305</td>\n",
       "      <td>1.372435</td>\n",
       "      <td>1.352197</td>\n",
       "      <td>1.333222</td>\n",
       "      <td>1.314719</td>\n",
       "      <td>1.296792</td>\n",
       "      <td>1.279637</td>\n",
       "      <td>1.240048</td>\n",
       "      <td>1.202582</td>\n",
       "      <td>1.166417</td>\n",
       "      <td>1.133394</td>\n",
       "      <td>1.104019</td>\n",
       "      <td>1.076544</td>\n",
       "      <td>1.049192</td>\n",
       "      <td>1.019987</td>\n",
       "      <td>0.987163</td>\n",
       "      <td>0.947412</td>\n",
       "      <td>0.899381</td>\n",
       "      <td>0.840454</td>\n",
       "      <td>0.767321</td>\n",
       "      <td>0.655572</td>\n",
       "      <td>0.521615</td>\n",
       "      <td>0.395515</td>\n",
       "      <td>0.268715</td>\n",
       "      <td>0.138901</td>\n",
       "      <td>0.005667</td>\n",
       "      <td>-0.130361</td>\n",
       "      <td>-0.268754</td>\n",
       "      <td>-0.406763</td>\n",
       "      <td>-0.544244</td>\n",
       "      <td>-0.681311</td>\n",
       "      <td>-0.818274</td>\n",
       "      <td>-0.956595</td>\n",
       "      <td>-1.091803</td>\n",
       "      <td>-1.220986</td>\n",
       "      <td>-1.336679</td>\n",
       "      <td>-1.434806</td>\n",
       "      <td>-1.517333</td>\n",
       "      <td>-1.580004</td>\n",
       "      <td>-1.627058</td>\n",
       "      <td>-1.658380</td>\n",
       "      <td>-1.673155</td>\n",
       "      <td>-1.636486</td>\n",
       "      <td>-1.603316</td>\n",
       "      <td>-1.582368</td>\n",
       "      <td>-1.564187</td>\n",
       "      <td>-1.548553</td>\n",
       "      <td>-1.533244</td>\n",
       "      <td>-1.518151</td>\n",
       "      <td>-1.502366</td>\n",
       "      <td>-1.492343</td>\n",
       "      <td>-1.481652</td>\n",
       "      <td>-1.470998</td>\n",
       "      <td>-1.458727</td>\n",
       "      <td>-1.445841</td>\n",
       "      <td>-1.431597</td>\n",
       "      <td>-1.415514</td>\n",
       "      <td>-1.397870</td>\n",
       "      <td>-1.377387</td>\n",
       "      <td>-1.354200</td>\n",
       "      <td>-1.328450</td>\n",
       "      <td>-1.304022</td>\n",
       "      <td>-1.278606</td>\n",
       "      <td>-1.244570</td>\n",
       "      <td>-1.202379</td>\n",
       "      <td>-1.161404</td>\n",
       "      <td>-1.125929</td>\n",
       "      <td>-1.092459</td>\n",
       "      <td>-1.061714</td>\n",
       "      <td>-1.032321</td>\n",
       "      <td>-1.003511</td>\n",
       "      <td>-0.976935</td>\n",
       "      <td>-0.950520</td>\n",
       "      <td>-0.924188</td>\n",
       "      <td>-0.896644</td>\n",
       "      <td>-0.868116</td>\n",
       "      <td>-0.838221</td>\n",
       "      <td>-0.807082</td>\n",
       "      <td>-0.773485</td>\n",
       "      <td>-0.737846</td>\n",
       "      <td>-0.699384</td>\n",
       "      <td>-0.654360</td>\n",
       "      <td>-0.602705</td>\n",
       "      <td>-0.547135</td>\n",
       "      <td>-0.491684</td>\n",
       "      <td>-0.432626</td>\n",
       "      <td>-0.365772</td>\n",
       "      <td>-0.295332</td>\n",
       "      <td>-0.226704</td>\n",
       "      <td>-0.165460</td>\n",
       "      <td>-0.116496</td>\n",
       "      <td>-0.085659</td>\n",
       "      <td>-0.162977</td>\n",
       "      <td>-0.241477</td>\n",
       "      <td>-0.320998</td>\n",
       "      <td>-0.402398</td>\n",
       "      <td>-0.486545</td>\n",
       "      <td>-0.572298</td>\n",
       "      <td>-0.660166</td>\n",
       "      <td>-0.750280</td>\n",
       "      <td>-0.842899</td>\n",
       "      <td>-0.840060</td>\n",
       "      <td>-0.828129</td>\n",
       "      <td>-0.820792</td>\n",
       "      <td>-0.813968</td>\n",
       "      <td>-0.807679</td>\n",
       "      <td>-0.800890</td>\n",
       "      <td>-0.794918</td>\n",
       "      <td>-0.787374</td>\n",
       "      <td>-0.779377</td>\n",
       "      <td>-0.769989</td>\n",
       "      <td>-0.760101</td>\n",
       "      <td>-0.750866</td>\n",
       "      <td>-0.742056</td>\n",
       "      <td>-0.733408</td>\n",
       "      <td>-0.722620</td>\n",
       "      <td>-0.710305</td>\n",
       "      <td>-0.696165</td>\n",
       "      <td>-0.680474</td>\n",
       "      <td>-0.664716</td>\n",
       "      <td>-0.650970</td>\n",
       "      <td>-0.635056</td>\n",
       "      <td>-0.618662</td>\n",
       "      <td>-0.600257</td>\n",
       "      <td>-0.578046</td>\n",
       "      <td>-0.548935</td>\n",
       "      <td>-0.513905</td>\n",
       "      <td>-0.475035</td>\n",
       "      <td>-0.432392</td>\n",
       "      <td>-0.386314</td>\n",
       "      <td>-0.336161</td>\n",
       "      <td>-0.281698</td>\n",
       "      <td>-0.222751</td>\n",
       "      <td>-0.158379</td>\n",
       "      <td>-0.089443</td>\n",
       "      <td>-0.016590</td>\n",
       "      <td>0.059942</td>\n",
       "      <td>0.138054</td>\n",
       "      <td>0.223076</td>\n",
       "      <td>0.315826</td>\n",
       "      <td>0.414072</td>\n",
       "      <td>0.516474</td>\n",
       "      <td>0.620859</td>\n",
       "      <td>0.725500</td>\n",
       "      <td>0.826633</td>\n",
       "      <td>0.969301</td>\n",
       "      <td>1.109218</td>\n",
       "      <td>1.248222</td>\n",
       "      <td>1.384753</td>\n",
       "      <td>1.521842</td>\n",
       "      <td>1.656472</td>\n",
       "      <td>1.787830</td>\n",
       "      <td>1.915063</td>\n",
       "      <td>2.039378</td>\n",
       "      <td>2.162791</td>\n",
       "      <td>2.281488</td>\n",
       "      <td>2.398742</td>\n",
       "      <td>2.229097</td>\n",
       "      <td>2.061616</td>\n",
       "      <td>1.896826</td>\n",
       "      <td>1.734437</td>\n",
       "      <td>3.0</td>\n",
       "      <td>3.0</td>\n",
       "    </tr>\n",
       "    <tr>\n",
       "      <th>7</th>\n",
       "      <td>5.0</td>\n",
       "      <td>1151.0</td>\n",
       "      <td>704.0</td>\n",
       "      <td>2.242958</td>\n",
       "      <td>2.261478</td>\n",
       "      <td>2.277047</td>\n",
       "      <td>2.288577</td>\n",
       "      <td>2.296913</td>\n",
       "      <td>2.301411</td>\n",
       "      <td>2.302935</td>\n",
       "      <td>2.306705</td>\n",
       "      <td>2.329887</td>\n",
       "      <td>2.358878</td>\n",
       "      <td>2.391737</td>\n",
       "      <td>2.421484</td>\n",
       "      <td>2.446239</td>\n",
       "      <td>2.464184</td>\n",
       "      <td>2.489413</td>\n",
       "      <td>2.515050</td>\n",
       "      <td>2.532688</td>\n",
       "      <td>2.543022</td>\n",
       "      <td>2.550646</td>\n",
       "      <td>2.551154</td>\n",
       "      <td>2.558026</td>\n",
       "      <td>2.560755</td>\n",
       "      <td>2.561762</td>\n",
       "      <td>2.558285</td>\n",
       "      <td>2.555399</td>\n",
       "      <td>2.547704</td>\n",
       "      <td>2.536383</td>\n",
       "      <td>2.519752</td>\n",
       "      <td>2.501963</td>\n",
       "      <td>2.477642</td>\n",
       "      <td>2.454925</td>\n",
       "      <td>2.428674</td>\n",
       "      <td>2.403087</td>\n",
       "      <td>2.377745</td>\n",
       "      <td>2.348809</td>\n",
       "      <td>2.319789</td>\n",
       "      <td>2.286768</td>\n",
       "      <td>2.251639</td>\n",
       "      <td>2.239537</td>\n",
       "      <td>2.227384</td>\n",
       "      <td>2.216579</td>\n",
       "      <td>2.204719</td>\n",
       "      <td>2.192344</td>\n",
       "      <td>2.177067</td>\n",
       "      <td>2.160703</td>\n",
       "      <td>2.142200</td>\n",
       "      <td>2.122078</td>\n",
       "      <td>2.103226</td>\n",
       "      <td>2.085346</td>\n",
       "      <td>2.067705</td>\n",
       "      <td>2.051353</td>\n",
       "      <td>2.037987</td>\n",
       "      <td>2.026119</td>\n",
       "      <td>2.014159</td>\n",
       "      <td>2.000907</td>\n",
       "      <td>1.986954</td>\n",
       "      <td>1.972379</td>\n",
       "      <td>1.956420</td>\n",
       "      <td>1.941259</td>\n",
       "      <td>1.925750</td>\n",
       "      <td>1.911992</td>\n",
       "      <td>1.898980</td>\n",
       "      <td>1.887459</td>\n",
       "      <td>1.880054</td>\n",
       "      <td>1.874499</td>\n",
       "      <td>1.873719</td>\n",
       "      <td>1.880860</td>\n",
       "      <td>1.892310</td>\n",
       "      <td>1.907772</td>\n",
       "      <td>1.926123</td>\n",
       "      <td>1.946557</td>\n",
       "      <td>1.967963</td>\n",
       "      <td>1.986852</td>\n",
       "      <td>2.007214</td>\n",
       "      <td>2.026645</td>\n",
       "      <td>2.046346</td>\n",
       "      <td>2.066046</td>\n",
       "      <td>2.084818</td>\n",
       "      <td>2.103300</td>\n",
       "      <td>2.120688</td>\n",
       "      <td>2.136405</td>\n",
       "      <td>2.149741</td>\n",
       "      <td>2.162677</td>\n",
       "      <td>2.170251</td>\n",
       "      <td>2.178145</td>\n",
       "      <td>2.182557</td>\n",
       "      <td>2.185921</td>\n",
       "      <td>2.187496</td>\n",
       "      <td>2.190356</td>\n",
       "      <td>2.192759</td>\n",
       "      <td>2.191724</td>\n",
       "      <td>2.185016</td>\n",
       "      <td>2.174705</td>\n",
       "      <td>2.160743</td>\n",
       "      <td>2.144475</td>\n",
       "      <td>2.126592</td>\n",
       "      <td>2.107186</td>\n",
       "      <td>2.088076</td>\n",
       "      <td>2.066569</td>\n",
       "      <td>2.042414</td>\n",
       "      <td>2.015682</td>\n",
       "      <td>1.986128</td>\n",
       "      <td>1.953018</td>\n",
       "      <td>1.918123</td>\n",
       "      <td>1.882957</td>\n",
       "      <td>1.846706</td>\n",
       "      <td>1.814366</td>\n",
       "      <td>1.783436</td>\n",
       "      <td>1.754076</td>\n",
       "      <td>1.725123</td>\n",
       "      <td>1.697758</td>\n",
       "      <td>1.671769</td>\n",
       "      <td>1.646046</td>\n",
       "      <td>1.620904</td>\n",
       "      <td>1.597260</td>\n",
       "      <td>1.574066</td>\n",
       "      <td>1.553181</td>\n",
       "      <td>1.533643</td>\n",
       "      <td>1.514385</td>\n",
       "      <td>1.496185</td>\n",
       "      <td>1.478710</td>\n",
       "      <td>1.461266</td>\n",
       "      <td>1.444492</td>\n",
       "      <td>1.427736</td>\n",
       "      <td>1.412304</td>\n",
       "      <td>1.396997</td>\n",
       "      <td>1.380863</td>\n",
       "      <td>1.364108</td>\n",
       "      <td>1.347699</td>\n",
       "      <td>1.330500</td>\n",
       "      <td>1.313266</td>\n",
       "      <td>1.296505</td>\n",
       "      <td>1.281008</td>\n",
       "      <td>1.265996</td>\n",
       "      <td>1.252014</td>\n",
       "      <td>1.238840</td>\n",
       "      <td>1.228220</td>\n",
       "      <td>1.220292</td>\n",
       "      <td>1.213897</td>\n",
       "      <td>1.207755</td>\n",
       "      <td>1.200922</td>\n",
       "      <td>1.149599</td>\n",
       "      <td>1.096803</td>\n",
       "      <td>1.047214</td>\n",
       "      <td>1.002657</td>\n",
       "      <td>0.960174</td>\n",
       "      <td>0.918793</td>\n",
       "      <td>0.875791</td>\n",
       "      <td>0.828784</td>\n",
       "      <td>0.776359</td>\n",
       "      <td>0.716666</td>\n",
       "      <td>0.643160</td>\n",
       "      <td>0.555144</td>\n",
       "      <td>0.382737</td>\n",
       "      <td>0.205414</td>\n",
       "      <td>0.022734</td>\n",
       "      <td>-0.163476</td>\n",
       "      <td>-0.351220</td>\n",
       "      <td>-0.539991</td>\n",
       "      <td>-0.729458</td>\n",
       "      <td>-0.920742</td>\n",
       "      <td>-1.114301</td>\n",
       "      <td>-1.304287</td>\n",
       "      <td>-1.488106</td>\n",
       "      <td>-1.661332</td>\n",
       "      <td>-1.826486</td>\n",
       "      <td>-1.848059</td>\n",
       "      <td>-1.859899</td>\n",
       "      <td>-1.867061</td>\n",
       "      <td>-1.868727</td>\n",
       "      <td>-1.865494</td>\n",
       "      <td>-1.866032</td>\n",
       "      <td>-1.870842</td>\n",
       "      <td>-1.885246</td>\n",
       "      <td>-1.892360</td>\n",
       "      <td>-1.883604</td>\n",
       "      <td>-1.861206</td>\n",
       "      <td>-1.827434</td>\n",
       "      <td>-1.786098</td>\n",
       "      <td>-1.745799</td>\n",
       "      <td>-1.702607</td>\n",
       "      <td>-1.660001</td>\n",
       "      <td>-1.619354</td>\n",
       "      <td>-1.584285</td>\n",
       "      <td>-1.556396</td>\n",
       "      <td>-1.532438</td>\n",
       "      <td>-1.511057</td>\n",
       "      <td>-1.489820</td>\n",
       "      <td>-1.469741</td>\n",
       "      <td>-1.451382</td>\n",
       "      <td>-1.437826</td>\n",
       "      <td>-1.429049</td>\n",
       "      <td>-1.421913</td>\n",
       "      <td>-1.415916</td>\n",
       "      <td>-1.410001</td>\n",
       "      <td>-1.406412</td>\n",
       "      <td>-1.404249</td>\n",
       "      <td>-1.403894</td>\n",
       "      <td>-1.404242</td>\n",
       "      <td>-1.403050</td>\n",
       "      <td>-1.403217</td>\n",
       "      <td>-1.402543</td>\n",
       "      <td>-1.400993</td>\n",
       "      <td>-1.398640</td>\n",
       "      <td>-1.394672</td>\n",
       "      <td>-1.389546</td>\n",
       "      <td>-1.382825</td>\n",
       "      <td>-1.375702</td>\n",
       "      <td>-1.366998</td>\n",
       "      <td>-1.357694</td>\n",
       "      <td>-1.347808</td>\n",
       "      <td>-1.337395</td>\n",
       "      <td>-1.326335</td>\n",
       "      <td>-1.315783</td>\n",
       "      <td>-1.304642</td>\n",
       "      <td>-1.293648</td>\n",
       "      <td>-1.283135</td>\n",
       "      <td>-1.272549</td>\n",
       "      <td>-1.261849</td>\n",
       "      <td>-1.252372</td>\n",
       "      <td>-1.243345</td>\n",
       "      <td>-1.234492</td>\n",
       "      <td>-1.226850</td>\n",
       "      <td>-1.221132</td>\n",
       "      <td>-1.217715</td>\n",
       "      <td>-1.216203</td>\n",
       "      <td>-1.217361</td>\n",
       "      <td>-1.219244</td>\n",
       "      <td>-1.222884</td>\n",
       "      <td>-1.227388</td>\n",
       "      <td>-1.233227</td>\n",
       "      <td>-1.239058</td>\n",
       "      <td>-1.245651</td>\n",
       "      <td>-1.254831</td>\n",
       "      <td>-1.264185</td>\n",
       "      <td>-1.273367</td>\n",
       "      <td>-1.282537</td>\n",
       "      <td>-1.290333</td>\n",
       "      <td>-1.298267</td>\n",
       "      <td>-1.306107</td>\n",
       "      <td>-1.313970</td>\n",
       "      <td>-1.323226</td>\n",
       "      <td>-1.333397</td>\n",
       "      <td>-1.343285</td>\n",
       "      <td>-1.351291</td>\n",
       "      <td>-1.358731</td>\n",
       "      <td>-1.364885</td>\n",
       "      <td>-1.370869</td>\n",
       "      <td>-1.378002</td>\n",
       "      <td>-1.388451</td>\n",
       "      <td>-1.397057</td>\n",
       "      <td>-1.404390</td>\n",
       "      <td>-1.410619</td>\n",
       "      <td>-1.416197</td>\n",
       "      <td>-1.421399</td>\n",
       "      <td>-1.426162</td>\n",
       "      <td>-1.433066</td>\n",
       "      <td>-1.440412</td>\n",
       "      <td>-1.449738</td>\n",
       "      <td>-1.458050</td>\n",
       "      <td>-1.466658</td>\n",
       "      <td>-1.474857</td>\n",
       "      <td>-1.480738</td>\n",
       "      <td>-1.485790</td>\n",
       "      <td>-1.489772</td>\n",
       "      <td>-1.492073</td>\n",
       "      <td>-1.495572</td>\n",
       "      <td>-1.499277</td>\n",
       "      <td>-1.502435</td>\n",
       "      <td>-1.505502</td>\n",
       "      <td>-1.508513</td>\n",
       "      <td>-1.509175</td>\n",
       "      <td>-1.506088</td>\n",
       "      <td>-1.502087</td>\n",
       "      <td>-1.494971</td>\n",
       "      <td>-1.488755</td>\n",
       "      <td>-1.481212</td>\n",
       "      <td>-1.471872</td>\n",
       "      <td>-1.457909</td>\n",
       "      <td>-1.436876</td>\n",
       "      <td>-1.411221</td>\n",
       "      <td>-1.380693</td>\n",
       "      <td>-1.346770</td>\n",
       "      <td>-1.311520</td>\n",
       "      <td>-1.275967</td>\n",
       "      <td>-1.240373</td>\n",
       "      <td>-1.206949</td>\n",
       "      <td>-1.175911</td>\n",
       "      <td>-1.148446</td>\n",
       "      <td>-1.121770</td>\n",
       "      <td>3.0</td>\n",
       "      <td>3.0</td>\n",
       "    </tr>\n",
       "    <tr>\n",
       "      <th>8</th>\n",
       "      <td>5.0</td>\n",
       "      <td>827.0</td>\n",
       "      <td>1225.0</td>\n",
       "      <td>-0.983951</td>\n",
       "      <td>-0.993004</td>\n",
       "      <td>-0.998967</td>\n",
       "      <td>-1.001078</td>\n",
       "      <td>-1.002339</td>\n",
       "      <td>-1.000069</td>\n",
       "      <td>-0.994569</td>\n",
       "      <td>-0.985608</td>\n",
       "      <td>-0.974543</td>\n",
       "      <td>-0.962036</td>\n",
       "      <td>-0.957408</td>\n",
       "      <td>-0.952557</td>\n",
       "      <td>-0.946468</td>\n",
       "      <td>-0.939280</td>\n",
       "      <td>-0.931191</td>\n",
       "      <td>-0.921930</td>\n",
       "      <td>-0.913081</td>\n",
       "      <td>-0.903803</td>\n",
       "      <td>-0.895103</td>\n",
       "      <td>-0.885217</td>\n",
       "      <td>-0.888605</td>\n",
       "      <td>-0.893415</td>\n",
       "      <td>-0.897066</td>\n",
       "      <td>-0.903026</td>\n",
       "      <td>-0.907528</td>\n",
       "      <td>-0.913894</td>\n",
       "      <td>-0.922786</td>\n",
       "      <td>-0.931134</td>\n",
       "      <td>-0.945288</td>\n",
       "      <td>-0.957542</td>\n",
       "      <td>-0.969804</td>\n",
       "      <td>-0.982036</td>\n",
       "      <td>-0.991322</td>\n",
       "      <td>-0.999071</td>\n",
       "      <td>-1.005227</td>\n",
       "      <td>-1.009671</td>\n",
       "      <td>-1.012215</td>\n",
       "      <td>-1.012515</td>\n",
       "      <td>-1.014430</td>\n",
       "      <td>-1.015625</td>\n",
       "      <td>-1.023437</td>\n",
       "      <td>-1.031559</td>\n",
       "      <td>-1.039930</td>\n",
       "      <td>-1.048284</td>\n",
       "      <td>-1.056489</td>\n",
       "      <td>-1.064816</td>\n",
       "      <td>-1.072966</td>\n",
       "      <td>-1.087002</td>\n",
       "      <td>-1.102117</td>\n",
       "      <td>-1.117332</td>\n",
       "      <td>-1.134191</td>\n",
       "      <td>-1.153018</td>\n",
       "      <td>-1.171163</td>\n",
       "      <td>-1.187672</td>\n",
       "      <td>-1.202903</td>\n",
       "      <td>-1.216307</td>\n",
       "      <td>-1.228272</td>\n",
       "      <td>-1.238485</td>\n",
       "      <td>-1.248145</td>\n",
       "      <td>-1.255822</td>\n",
       "      <td>-1.263044</td>\n",
       "      <td>-1.268308</td>\n",
       "      <td>-1.271660</td>\n",
       "      <td>-1.276236</td>\n",
       "      <td>-1.279238</td>\n",
       "      <td>-1.279306</td>\n",
       "      <td>-1.279809</td>\n",
       "      <td>-1.274984</td>\n",
       "      <td>-1.266324</td>\n",
       "      <td>-1.254852</td>\n",
       "      <td>-1.242248</td>\n",
       "      <td>-1.229746</td>\n",
       "      <td>-1.218442</td>\n",
       "      <td>-1.212607</td>\n",
       "      <td>-1.211918</td>\n",
       "      <td>-1.214935</td>\n",
       "      <td>-1.220797</td>\n",
       "      <td>-1.228189</td>\n",
       "      <td>-1.236477</td>\n",
       "      <td>-1.243850</td>\n",
       "      <td>-1.249768</td>\n",
       "      <td>-1.250895</td>\n",
       "      <td>-1.130889</td>\n",
       "      <td>-1.011801</td>\n",
       "      <td>-0.899402</td>\n",
       "      <td>-0.787782</td>\n",
       "      <td>-0.675678</td>\n",
       "      <td>-0.563033</td>\n",
       "      <td>-0.451360</td>\n",
       "      <td>-0.340832</td>\n",
       "      <td>-0.367996</td>\n",
       "      <td>-0.396985</td>\n",
       "      <td>-0.428765</td>\n",
       "      <td>-0.461317</td>\n",
       "      <td>-0.495513</td>\n",
       "      <td>-0.532024</td>\n",
       "      <td>-0.568179</td>\n",
       "      <td>-0.607043</td>\n",
       "      <td>-0.645041</td>\n",
       "      <td>-0.682896</td>\n",
       "      <td>-0.719919</td>\n",
       "      <td>-0.755203</td>\n",
       "      <td>-0.786600</td>\n",
       "      <td>-0.815367</td>\n",
       "      <td>-0.840027</td>\n",
       "      <td>-0.860818</td>\n",
       "      <td>-0.876895</td>\n",
       "      <td>-0.888075</td>\n",
       "      <td>-0.894749</td>\n",
       "      <td>-0.898338</td>\n",
       "      <td>-0.898472</td>\n",
       "      <td>-0.894499</td>\n",
       "      <td>-0.881996</td>\n",
       "      <td>-0.861229</td>\n",
       "      <td>-0.841560</td>\n",
       "      <td>-0.825231</td>\n",
       "      <td>-0.809966</td>\n",
       "      <td>-0.795699</td>\n",
       "      <td>-0.782003</td>\n",
       "      <td>-0.769534</td>\n",
       "      <td>-0.758113</td>\n",
       "      <td>-0.748197</td>\n",
       "      <td>-0.738648</td>\n",
       "      <td>-0.730248</td>\n",
       "      <td>-0.722479</td>\n",
       "      <td>-0.714427</td>\n",
       "      <td>-0.706894</td>\n",
       "      <td>-0.699135</td>\n",
       "      <td>-0.691045</td>\n",
       "      <td>-0.683149</td>\n",
       "      <td>-0.674984</td>\n",
       "      <td>-0.666217</td>\n",
       "      <td>-0.657259</td>\n",
       "      <td>-0.647855</td>\n",
       "      <td>-0.638104</td>\n",
       "      <td>-0.627398</td>\n",
       "      <td>-0.616051</td>\n",
       "      <td>-0.601175</td>\n",
       "      <td>-0.580030</td>\n",
       "      <td>-0.554695</td>\n",
       "      <td>-0.526342</td>\n",
       "      <td>-0.495753</td>\n",
       "      <td>-0.462133</td>\n",
       "      <td>-0.426847</td>\n",
       "      <td>-0.390330</td>\n",
       "      <td>-0.353787</td>\n",
       "      <td>-0.317071</td>\n",
       "      <td>-0.281246</td>\n",
       "      <td>-0.247852</td>\n",
       "      <td>-0.217011</td>\n",
       "      <td>-0.188095</td>\n",
       "      <td>-0.164519</td>\n",
       "      <td>-0.140312</td>\n",
       "      <td>-0.113904</td>\n",
       "      <td>-0.083934</td>\n",
       "      <td>-0.051494</td>\n",
       "      <td>-0.015852</td>\n",
       "      <td>0.025636</td>\n",
       "      <td>0.073602</td>\n",
       "      <td>0.127940</td>\n",
       "      <td>0.183904</td>\n",
       "      <td>0.240713</td>\n",
       "      <td>0.297908</td>\n",
       "      <td>0.355721</td>\n",
       "      <td>0.413539</td>\n",
       "      <td>0.477069</td>\n",
       "      <td>0.539411</td>\n",
       "      <td>0.598738</td>\n",
       "      <td>0.655098</td>\n",
       "      <td>0.708613</td>\n",
       "      <td>0.758642</td>\n",
       "      <td>0.808351</td>\n",
       "      <td>0.860766</td>\n",
       "      <td>0.912847</td>\n",
       "      <td>0.963355</td>\n",
       "      <td>1.012232</td>\n",
       "      <td>1.028480</td>\n",
       "      <td>0.994093</td>\n",
       "      <td>0.928932</td>\n",
       "      <td>0.852525</td>\n",
       "      <td>0.783136</td>\n",
       "      <td>0.738203</td>\n",
       "      <td>0.733925</td>\n",
       "      <td>0.755003</td>\n",
       "      <td>0.775542</td>\n",
       "      <td>0.796096</td>\n",
       "      <td>0.816158</td>\n",
       "      <td>0.835267</td>\n",
       "      <td>0.854078</td>\n",
       "      <td>0.872897</td>\n",
       "      <td>0.892162</td>\n",
       "      <td>0.911748</td>\n",
       "      <td>0.932214</td>\n",
       "      <td>0.953047</td>\n",
       "      <td>0.974203</td>\n",
       "      <td>0.995082</td>\n",
       "      <td>1.017793</td>\n",
       "      <td>1.041906</td>\n",
       "      <td>1.065478</td>\n",
       "      <td>1.088599</td>\n",
       "      <td>1.112029</td>\n",
       "      <td>1.135526</td>\n",
       "      <td>1.159660</td>\n",
       "      <td>1.184466</td>\n",
       "      <td>1.209671</td>\n",
       "      <td>1.234724</td>\n",
       "      <td>1.260142</td>\n",
       "      <td>1.287894</td>\n",
       "      <td>1.316802</td>\n",
       "      <td>1.347991</td>\n",
       "      <td>1.380961</td>\n",
       "      <td>1.415106</td>\n",
       "      <td>1.450495</td>\n",
       "      <td>1.487555</td>\n",
       "      <td>1.525629</td>\n",
       "      <td>1.564677</td>\n",
       "      <td>1.606971</td>\n",
       "      <td>1.651887</td>\n",
       "      <td>1.699079</td>\n",
       "      <td>1.747142</td>\n",
       "      <td>1.796179</td>\n",
       "      <td>1.844974</td>\n",
       "      <td>1.894219</td>\n",
       "      <td>1.945177</td>\n",
       "      <td>1.997703</td>\n",
       "      <td>2.048263</td>\n",
       "      <td>2.097842</td>\n",
       "      <td>2.145524</td>\n",
       "      <td>2.183803</td>\n",
       "      <td>2.210744</td>\n",
       "      <td>2.229963</td>\n",
       "      <td>2.246936</td>\n",
       "      <td>2.267936</td>\n",
       "      <td>2.299778</td>\n",
       "      <td>2.331035</td>\n",
       "      <td>2.361411</td>\n",
       "      <td>2.392913</td>\n",
       "      <td>2.423223</td>\n",
       "      <td>2.455593</td>\n",
       "      <td>2.488993</td>\n",
       "      <td>2.524916</td>\n",
       "      <td>2.565907</td>\n",
       "      <td>2.573421</td>\n",
       "      <td>2.516614</td>\n",
       "      <td>2.413336</td>\n",
       "      <td>2.286498</td>\n",
       "      <td>2.160326</td>\n",
       "      <td>2.059946</td>\n",
       "      <td>2.016088</td>\n",
       "      <td>2.029301</td>\n",
       "      <td>2.073637</td>\n",
       "      <td>2.139761</td>\n",
       "      <td>2.218613</td>\n",
       "      <td>2.302241</td>\n",
       "      <td>2.377507</td>\n",
       "      <td>2.433183</td>\n",
       "      <td>2.460097</td>\n",
       "      <td>2.445373</td>\n",
       "      <td>2.400900</td>\n",
       "      <td>2.344764</td>\n",
       "      <td>2.278255</td>\n",
       "      <td>2.203262</td>\n",
       "      <td>2.118966</td>\n",
       "      <td>2.028318</td>\n",
       "      <td>1.930548</td>\n",
       "      <td>1.829932</td>\n",
       "      <td>1.728516</td>\n",
       "      <td>1.627311</td>\n",
       "      <td>1.528000</td>\n",
       "      <td>1.430651</td>\n",
       "      <td>1.336902</td>\n",
       "      <td>1.247061</td>\n",
       "      <td>1.163476</td>\n",
       "      <td>1.088638</td>\n",
       "      <td>1.021131</td>\n",
       "      <td>0.965616</td>\n",
       "      <td>0.916390</td>\n",
       "      <td>0.867229</td>\n",
       "      <td>0.820069</td>\n",
       "      <td>0.772659</td>\n",
       "      <td>0.725465</td>\n",
       "      <td>0.679955</td>\n",
       "      <td>0.635365</td>\n",
       "      <td>0.592817</td>\n",
       "      <td>0.552841</td>\n",
       "      <td>0.514422</td>\n",
       "      <td>0.479789</td>\n",
       "      <td>0.448102</td>\n",
       "      <td>0.419830</td>\n",
       "      <td>0.393134</td>\n",
       "      <td>16.0</td>\n",
       "      <td>11.0</td>\n",
       "    </tr>\n",
       "  </tbody>\n",
       "</table>"
      ],
      "text/plain": [
       "<IPython.core.display.HTML object>"
      ]
     },
     "metadata": {},
     "output_type": "display_data"
    }
   ],
   "source": [
    "learn.show_results()"
   ]
  },
  {
   "cell_type": "code",
   "execution_count": 31,
   "metadata": {},
   "outputs": [],
   "source": [
    "import pickle"
   ]
  },
  {
   "cell_type": "code",
   "execution_count": 32,
   "metadata": {},
   "outputs": [],
   "source": [
    "learn.export('model.pkl')"
   ]
  },
  {
   "cell_type": "code",
   "execution_count": 34,
   "metadata": {},
   "outputs": [],
   "source": [
    "x = load_learner('model.pkl')"
   ]
  },
  {
   "cell_type": "code",
   "execution_count": 46,
   "metadata": {},
   "outputs": [
    {
     "data": {
      "text/html": [],
      "text/plain": [
       "<IPython.core.display.HTML object>"
      ]
     },
     "metadata": {},
     "output_type": "display_data"
    },
    {
     "data": {
      "text/html": [],
      "text/plain": [
       "<IPython.core.display.HTML object>"
      ]
     },
     "metadata": {},
     "output_type": "display_data"
    },
    {
     "data": {
      "text/html": [],
      "text/plain": [
       "<IPython.core.display.HTML object>"
      ]
     },
     "metadata": {},
     "output_type": "display_data"
    },
    {
     "data": {
      "text/html": [],
      "text/plain": [
       "<IPython.core.display.HTML object>"
      ]
     },
     "metadata": {},
     "output_type": "display_data"
    },
    {
     "data": {
      "text/html": [],
      "text/plain": [
       "<IPython.core.display.HTML object>"
      ]
     },
     "metadata": {},
     "output_type": "display_data"
    },
    {
     "data": {
      "text/html": [],
      "text/plain": [
       "<IPython.core.display.HTML object>"
      ]
     },
     "metadata": {},
     "output_type": "display_data"
    },
    {
     "data": {
      "text/html": [],
      "text/plain": [
       "<IPython.core.display.HTML object>"
      ]
     },
     "metadata": {},
     "output_type": "display_data"
    },
    {
     "data": {
      "text/html": [],
      "text/plain": [
       "<IPython.core.display.HTML object>"
      ]
     },
     "metadata": {},
     "output_type": "display_data"
    },
    {
     "data": {
      "text/html": [],
      "text/plain": [
       "<IPython.core.display.HTML object>"
      ]
     },
     "metadata": {},
     "output_type": "display_data"
    },
    {
     "data": {
      "text/html": [],
      "text/plain": [
       "<IPython.core.display.HTML object>"
      ]
     },
     "metadata": {},
     "output_type": "display_data"
    },
    {
     "data": {
      "text/html": [],
      "text/plain": [
       "<IPython.core.display.HTML object>"
      ]
     },
     "metadata": {},
     "output_type": "display_data"
    },
    {
     "data": {
      "text/html": [],
      "text/plain": [
       "<IPython.core.display.HTML object>"
      ]
     },
     "metadata": {},
     "output_type": "display_data"
    },
    {
     "data": {
      "text/html": [],
      "text/plain": [
       "<IPython.core.display.HTML object>"
      ]
     },
     "metadata": {},
     "output_type": "display_data"
    },
    {
     "data": {
      "text/html": [],
      "text/plain": [
       "<IPython.core.display.HTML object>"
      ]
     },
     "metadata": {},
     "output_type": "display_data"
    },
    {
     "data": {
      "text/html": [],
      "text/plain": [
       "<IPython.core.display.HTML object>"
      ]
     },
     "metadata": {},
     "output_type": "display_data"
    },
    {
     "data": {
      "text/html": [],
      "text/plain": [
       "<IPython.core.display.HTML object>"
      ]
     },
     "metadata": {},
     "output_type": "display_data"
    },
    {
     "data": {
      "text/html": [],
      "text/plain": [
       "<IPython.core.display.HTML object>"
      ]
     },
     "metadata": {},
     "output_type": "display_data"
    },
    {
     "data": {
      "text/html": [],
      "text/plain": [
       "<IPython.core.display.HTML object>"
      ]
     },
     "metadata": {},
     "output_type": "display_data"
    },
    {
     "data": {
      "text/html": [],
      "text/plain": [
       "<IPython.core.display.HTML object>"
      ]
     },
     "metadata": {},
     "output_type": "display_data"
    },
    {
     "data": {
      "text/html": [],
      "text/plain": [
       "<IPython.core.display.HTML object>"
      ]
     },
     "metadata": {},
     "output_type": "display_data"
    },
    {
     "data": {
      "text/html": [],
      "text/plain": [
       "<IPython.core.display.HTML object>"
      ]
     },
     "metadata": {},
     "output_type": "display_data"
    },
    {
     "data": {
      "text/html": [],
      "text/plain": [
       "<IPython.core.display.HTML object>"
      ]
     },
     "metadata": {},
     "output_type": "display_data"
    },
    {
     "data": {
      "text/html": [],
      "text/plain": [
       "<IPython.core.display.HTML object>"
      ]
     },
     "metadata": {},
     "output_type": "display_data"
    },
    {
     "data": {
      "text/html": [],
      "text/plain": [
       "<IPython.core.display.HTML object>"
      ]
     },
     "metadata": {},
     "output_type": "display_data"
    },
    {
     "data": {
      "text/html": [],
      "text/plain": [
       "<IPython.core.display.HTML object>"
      ]
     },
     "metadata": {},
     "output_type": "display_data"
    },
    {
     "data": {
      "text/html": [],
      "text/plain": [
       "<IPython.core.display.HTML object>"
      ]
     },
     "metadata": {},
     "output_type": "display_data"
    },
    {
     "data": {
      "text/html": [],
      "text/plain": [
       "<IPython.core.display.HTML object>"
      ]
     },
     "metadata": {},
     "output_type": "display_data"
    },
    {
     "data": {
      "text/html": [],
      "text/plain": [
       "<IPython.core.display.HTML object>"
      ]
     },
     "metadata": {},
     "output_type": "display_data"
    },
    {
     "data": {
      "text/html": [],
      "text/plain": [
       "<IPython.core.display.HTML object>"
      ]
     },
     "metadata": {},
     "output_type": "display_data"
    },
    {
     "data": {
      "text/html": [],
      "text/plain": [
       "<IPython.core.display.HTML object>"
      ]
     },
     "metadata": {},
     "output_type": "display_data"
    },
    {
     "data": {
      "text/html": [],
      "text/plain": [
       "<IPython.core.display.HTML object>"
      ]
     },
     "metadata": {},
     "output_type": "display_data"
    },
    {
     "data": {
      "text/html": [],
      "text/plain": [
       "<IPython.core.display.HTML object>"
      ]
     },
     "metadata": {},
     "output_type": "display_data"
    },
    {
     "data": {
      "text/html": [],
      "text/plain": [
       "<IPython.core.display.HTML object>"
      ]
     },
     "metadata": {},
     "output_type": "display_data"
    },
    {
     "data": {
      "text/html": [],
      "text/plain": [
       "<IPython.core.display.HTML object>"
      ]
     },
     "metadata": {},
     "output_type": "display_data"
    },
    {
     "data": {
      "text/html": [],
      "text/plain": [
       "<IPython.core.display.HTML object>"
      ]
     },
     "metadata": {},
     "output_type": "display_data"
    },
    {
     "data": {
      "text/html": [],
      "text/plain": [
       "<IPython.core.display.HTML object>"
      ]
     },
     "metadata": {},
     "output_type": "display_data"
    },
    {
     "data": {
      "text/html": [],
      "text/plain": [
       "<IPython.core.display.HTML object>"
      ]
     },
     "metadata": {},
     "output_type": "display_data"
    },
    {
     "data": {
      "text/html": [],
      "text/plain": [
       "<IPython.core.display.HTML object>"
      ]
     },
     "metadata": {},
     "output_type": "display_data"
    },
    {
     "data": {
      "text/html": [],
      "text/plain": [
       "<IPython.core.display.HTML object>"
      ]
     },
     "metadata": {},
     "output_type": "display_data"
    },
    {
     "data": {
      "text/html": [],
      "text/plain": [
       "<IPython.core.display.HTML object>"
      ]
     },
     "metadata": {},
     "output_type": "display_data"
    },
    {
     "data": {
      "text/html": [],
      "text/plain": [
       "<IPython.core.display.HTML object>"
      ]
     },
     "metadata": {},
     "output_type": "display_data"
    },
    {
     "data": {
      "text/html": [],
      "text/plain": [
       "<IPython.core.display.HTML object>"
      ]
     },
     "metadata": {},
     "output_type": "display_data"
    },
    {
     "data": {
      "text/html": [],
      "text/plain": [
       "<IPython.core.display.HTML object>"
      ]
     },
     "metadata": {},
     "output_type": "display_data"
    },
    {
     "data": {
      "text/html": [],
      "text/plain": [
       "<IPython.core.display.HTML object>"
      ]
     },
     "metadata": {},
     "output_type": "display_data"
    },
    {
     "data": {
      "text/html": [],
      "text/plain": [
       "<IPython.core.display.HTML object>"
      ]
     },
     "metadata": {},
     "output_type": "display_data"
    },
    {
     "data": {
      "text/html": [],
      "text/plain": [
       "<IPython.core.display.HTML object>"
      ]
     },
     "metadata": {},
     "output_type": "display_data"
    },
    {
     "data": {
      "text/html": [],
      "text/plain": [
       "<IPython.core.display.HTML object>"
      ]
     },
     "metadata": {},
     "output_type": "display_data"
    },
    {
     "data": {
      "text/html": [],
      "text/plain": [
       "<IPython.core.display.HTML object>"
      ]
     },
     "metadata": {},
     "output_type": "display_data"
    },
    {
     "data": {
      "text/html": [],
      "text/plain": [
       "<IPython.core.display.HTML object>"
      ]
     },
     "metadata": {},
     "output_type": "display_data"
    },
    {
     "data": {
      "text/html": [],
      "text/plain": [
       "<IPython.core.display.HTML object>"
      ]
     },
     "metadata": {},
     "output_type": "display_data"
    },
    {
     "data": {
      "text/html": [],
      "text/plain": [
       "<IPython.core.display.HTML object>"
      ]
     },
     "metadata": {},
     "output_type": "display_data"
    },
    {
     "data": {
      "text/html": [],
      "text/plain": [
       "<IPython.core.display.HTML object>"
      ]
     },
     "metadata": {},
     "output_type": "display_data"
    },
    {
     "data": {
      "text/html": [],
      "text/plain": [
       "<IPython.core.display.HTML object>"
      ]
     },
     "metadata": {},
     "output_type": "display_data"
    },
    {
     "data": {
      "text/html": [],
      "text/plain": [
       "<IPython.core.display.HTML object>"
      ]
     },
     "metadata": {},
     "output_type": "display_data"
    },
    {
     "data": {
      "text/html": [],
      "text/plain": [
       "<IPython.core.display.HTML object>"
      ]
     },
     "metadata": {},
     "output_type": "display_data"
    },
    {
     "data": {
      "text/html": [],
      "text/plain": [
       "<IPython.core.display.HTML object>"
      ]
     },
     "metadata": {},
     "output_type": "display_data"
    },
    {
     "data": {
      "text/html": [],
      "text/plain": [
       "<IPython.core.display.HTML object>"
      ]
     },
     "metadata": {},
     "output_type": "display_data"
    },
    {
     "data": {
      "text/html": [],
      "text/plain": [
       "<IPython.core.display.HTML object>"
      ]
     },
     "metadata": {},
     "output_type": "display_data"
    },
    {
     "data": {
      "text/html": [],
      "text/plain": [
       "<IPython.core.display.HTML object>"
      ]
     },
     "metadata": {},
     "output_type": "display_data"
    },
    {
     "data": {
      "text/html": [],
      "text/plain": [
       "<IPython.core.display.HTML object>"
      ]
     },
     "metadata": {},
     "output_type": "display_data"
    },
    {
     "data": {
      "text/html": [],
      "text/plain": [
       "<IPython.core.display.HTML object>"
      ]
     },
     "metadata": {},
     "output_type": "display_data"
    },
    {
     "data": {
      "text/html": [],
      "text/plain": [
       "<IPython.core.display.HTML object>"
      ]
     },
     "metadata": {},
     "output_type": "display_data"
    },
    {
     "data": {
      "text/html": [],
      "text/plain": [
       "<IPython.core.display.HTML object>"
      ]
     },
     "metadata": {},
     "output_type": "display_data"
    },
    {
     "data": {
      "text/html": [],
      "text/plain": [
       "<IPython.core.display.HTML object>"
      ]
     },
     "metadata": {},
     "output_type": "display_data"
    },
    {
     "data": {
      "text/html": [],
      "text/plain": [
       "<IPython.core.display.HTML object>"
      ]
     },
     "metadata": {},
     "output_type": "display_data"
    },
    {
     "data": {
      "text/html": [],
      "text/plain": [
       "<IPython.core.display.HTML object>"
      ]
     },
     "metadata": {},
     "output_type": "display_data"
    },
    {
     "data": {
      "text/html": [],
      "text/plain": [
       "<IPython.core.display.HTML object>"
      ]
     },
     "metadata": {},
     "output_type": "display_data"
    },
    {
     "data": {
      "text/html": [],
      "text/plain": [
       "<IPython.core.display.HTML object>"
      ]
     },
     "metadata": {},
     "output_type": "display_data"
    },
    {
     "data": {
      "text/html": [],
      "text/plain": [
       "<IPython.core.display.HTML object>"
      ]
     },
     "metadata": {},
     "output_type": "display_data"
    },
    {
     "data": {
      "text/html": [],
      "text/plain": [
       "<IPython.core.display.HTML object>"
      ]
     },
     "metadata": {},
     "output_type": "display_data"
    },
    {
     "data": {
      "text/html": [],
      "text/plain": [
       "<IPython.core.display.HTML object>"
      ]
     },
     "metadata": {},
     "output_type": "display_data"
    },
    {
     "data": {
      "text/html": [],
      "text/plain": [
       "<IPython.core.display.HTML object>"
      ]
     },
     "metadata": {},
     "output_type": "display_data"
    },
    {
     "data": {
      "text/html": [],
      "text/plain": [
       "<IPython.core.display.HTML object>"
      ]
     },
     "metadata": {},
     "output_type": "display_data"
    },
    {
     "data": {
      "text/html": [],
      "text/plain": [
       "<IPython.core.display.HTML object>"
      ]
     },
     "metadata": {},
     "output_type": "display_data"
    },
    {
     "data": {
      "text/html": [],
      "text/plain": [
       "<IPython.core.display.HTML object>"
      ]
     },
     "metadata": {},
     "output_type": "display_data"
    },
    {
     "data": {
      "text/html": [],
      "text/plain": [
       "<IPython.core.display.HTML object>"
      ]
     },
     "metadata": {},
     "output_type": "display_data"
    },
    {
     "data": {
      "text/html": [],
      "text/plain": [
       "<IPython.core.display.HTML object>"
      ]
     },
     "metadata": {},
     "output_type": "display_data"
    },
    {
     "data": {
      "text/html": [],
      "text/plain": [
       "<IPython.core.display.HTML object>"
      ]
     },
     "metadata": {},
     "output_type": "display_data"
    },
    {
     "data": {
      "text/html": [],
      "text/plain": [
       "<IPython.core.display.HTML object>"
      ]
     },
     "metadata": {},
     "output_type": "display_data"
    },
    {
     "data": {
      "text/html": [],
      "text/plain": [
       "<IPython.core.display.HTML object>"
      ]
     },
     "metadata": {},
     "output_type": "display_data"
    },
    {
     "data": {
      "text/html": [],
      "text/plain": [
       "<IPython.core.display.HTML object>"
      ]
     },
     "metadata": {},
     "output_type": "display_data"
    },
    {
     "data": {
      "text/html": [],
      "text/plain": [
       "<IPython.core.display.HTML object>"
      ]
     },
     "metadata": {},
     "output_type": "display_data"
    },
    {
     "data": {
      "text/html": [],
      "text/plain": [
       "<IPython.core.display.HTML object>"
      ]
     },
     "metadata": {},
     "output_type": "display_data"
    },
    {
     "data": {
      "text/html": [],
      "text/plain": [
       "<IPython.core.display.HTML object>"
      ]
     },
     "metadata": {},
     "output_type": "display_data"
    },
    {
     "data": {
      "text/html": [],
      "text/plain": [
       "<IPython.core.display.HTML object>"
      ]
     },
     "metadata": {},
     "output_type": "display_data"
    },
    {
     "data": {
      "text/html": [],
      "text/plain": [
       "<IPython.core.display.HTML object>"
      ]
     },
     "metadata": {},
     "output_type": "display_data"
    },
    {
     "data": {
      "text/html": [],
      "text/plain": [
       "<IPython.core.display.HTML object>"
      ]
     },
     "metadata": {},
     "output_type": "display_data"
    },
    {
     "data": {
      "text/html": [],
      "text/plain": [
       "<IPython.core.display.HTML object>"
      ]
     },
     "metadata": {},
     "output_type": "display_data"
    },
    {
     "data": {
      "text/html": [],
      "text/plain": [
       "<IPython.core.display.HTML object>"
      ]
     },
     "metadata": {},
     "output_type": "display_data"
    },
    {
     "data": {
      "text/html": [],
      "text/plain": [
       "<IPython.core.display.HTML object>"
      ]
     },
     "metadata": {},
     "output_type": "display_data"
    },
    {
     "data": {
      "text/html": [],
      "text/plain": [
       "<IPython.core.display.HTML object>"
      ]
     },
     "metadata": {},
     "output_type": "display_data"
    },
    {
     "data": {
      "text/html": [],
      "text/plain": [
       "<IPython.core.display.HTML object>"
      ]
     },
     "metadata": {},
     "output_type": "display_data"
    },
    {
     "data": {
      "text/html": [],
      "text/plain": [
       "<IPython.core.display.HTML object>"
      ]
     },
     "metadata": {},
     "output_type": "display_data"
    },
    {
     "data": {
      "text/html": [],
      "text/plain": [
       "<IPython.core.display.HTML object>"
      ]
     },
     "metadata": {},
     "output_type": "display_data"
    },
    {
     "data": {
      "text/html": [],
      "text/plain": [
       "<IPython.core.display.HTML object>"
      ]
     },
     "metadata": {},
     "output_type": "display_data"
    },
    {
     "data": {
      "text/html": [],
      "text/plain": [
       "<IPython.core.display.HTML object>"
      ]
     },
     "metadata": {},
     "output_type": "display_data"
    },
    {
     "data": {
      "text/html": [],
      "text/plain": [
       "<IPython.core.display.HTML object>"
      ]
     },
     "metadata": {},
     "output_type": "display_data"
    },
    {
     "data": {
      "text/html": [],
      "text/plain": [
       "<IPython.core.display.HTML object>"
      ]
     },
     "metadata": {},
     "output_type": "display_data"
    },
    {
     "data": {
      "text/html": [],
      "text/plain": [
       "<IPython.core.display.HTML object>"
      ]
     },
     "metadata": {},
     "output_type": "display_data"
    },
    {
     "data": {
      "text/html": [],
      "text/plain": [
       "<IPython.core.display.HTML object>"
      ]
     },
     "metadata": {},
     "output_type": "display_data"
    },
    {
     "data": {
      "text/html": [],
      "text/plain": [
       "<IPython.core.display.HTML object>"
      ]
     },
     "metadata": {},
     "output_type": "display_data"
    },
    {
     "data": {
      "text/html": [],
      "text/plain": [
       "<IPython.core.display.HTML object>"
      ]
     },
     "metadata": {},
     "output_type": "display_data"
    },
    {
     "data": {
      "text/html": [],
      "text/plain": [
       "<IPython.core.display.HTML object>"
      ]
     },
     "metadata": {},
     "output_type": "display_data"
    },
    {
     "data": {
      "text/html": [],
      "text/plain": [
       "<IPython.core.display.HTML object>"
      ]
     },
     "metadata": {},
     "output_type": "display_data"
    },
    {
     "data": {
      "text/html": [],
      "text/plain": [
       "<IPython.core.display.HTML object>"
      ]
     },
     "metadata": {},
     "output_type": "display_data"
    },
    {
     "data": {
      "text/html": [],
      "text/plain": [
       "<IPython.core.display.HTML object>"
      ]
     },
     "metadata": {},
     "output_type": "display_data"
    },
    {
     "data": {
      "text/html": [],
      "text/plain": [
       "<IPython.core.display.HTML object>"
      ]
     },
     "metadata": {},
     "output_type": "display_data"
    },
    {
     "data": {
      "text/html": [],
      "text/plain": [
       "<IPython.core.display.HTML object>"
      ]
     },
     "metadata": {},
     "output_type": "display_data"
    },
    {
     "data": {
      "text/html": [],
      "text/plain": [
       "<IPython.core.display.HTML object>"
      ]
     },
     "metadata": {},
     "output_type": "display_data"
    },
    {
     "data": {
      "text/html": [],
      "text/plain": [
       "<IPython.core.display.HTML object>"
      ]
     },
     "metadata": {},
     "output_type": "display_data"
    },
    {
     "data": {
      "text/html": [],
      "text/plain": [
       "<IPython.core.display.HTML object>"
      ]
     },
     "metadata": {},
     "output_type": "display_data"
    },
    {
     "data": {
      "text/html": [],
      "text/plain": [
       "<IPython.core.display.HTML object>"
      ]
     },
     "metadata": {},
     "output_type": "display_data"
    },
    {
     "data": {
      "text/html": [],
      "text/plain": [
       "<IPython.core.display.HTML object>"
      ]
     },
     "metadata": {},
     "output_type": "display_data"
    },
    {
     "data": {
      "text/html": [],
      "text/plain": [
       "<IPython.core.display.HTML object>"
      ]
     },
     "metadata": {},
     "output_type": "display_data"
    },
    {
     "data": {
      "text/html": [],
      "text/plain": [
       "<IPython.core.display.HTML object>"
      ]
     },
     "metadata": {},
     "output_type": "display_data"
    },
    {
     "data": {
      "text/html": [],
      "text/plain": [
       "<IPython.core.display.HTML object>"
      ]
     },
     "metadata": {},
     "output_type": "display_data"
    },
    {
     "data": {
      "text/html": [],
      "text/plain": [
       "<IPython.core.display.HTML object>"
      ]
     },
     "metadata": {},
     "output_type": "display_data"
    },
    {
     "data": {
      "text/html": [],
      "text/plain": [
       "<IPython.core.display.HTML object>"
      ]
     },
     "metadata": {},
     "output_type": "display_data"
    },
    {
     "data": {
      "text/html": [],
      "text/plain": [
       "<IPython.core.display.HTML object>"
      ]
     },
     "metadata": {},
     "output_type": "display_data"
    },
    {
     "data": {
      "text/html": [],
      "text/plain": [
       "<IPython.core.display.HTML object>"
      ]
     },
     "metadata": {},
     "output_type": "display_data"
    },
    {
     "data": {
      "text/html": [],
      "text/plain": [
       "<IPython.core.display.HTML object>"
      ]
     },
     "metadata": {},
     "output_type": "display_data"
    },
    {
     "data": {
      "text/html": [],
      "text/plain": [
       "<IPython.core.display.HTML object>"
      ]
     },
     "metadata": {},
     "output_type": "display_data"
    },
    {
     "data": {
      "text/html": [],
      "text/plain": [
       "<IPython.core.display.HTML object>"
      ]
     },
     "metadata": {},
     "output_type": "display_data"
    },
    {
     "data": {
      "text/html": [],
      "text/plain": [
       "<IPython.core.display.HTML object>"
      ]
     },
     "metadata": {},
     "output_type": "display_data"
    },
    {
     "data": {
      "text/html": [],
      "text/plain": [
       "<IPython.core.display.HTML object>"
      ]
     },
     "metadata": {},
     "output_type": "display_data"
    },
    {
     "data": {
      "text/html": [],
      "text/plain": [
       "<IPython.core.display.HTML object>"
      ]
     },
     "metadata": {},
     "output_type": "display_data"
    },
    {
     "data": {
      "text/html": [],
      "text/plain": [
       "<IPython.core.display.HTML object>"
      ]
     },
     "metadata": {},
     "output_type": "display_data"
    },
    {
     "data": {
      "text/html": [],
      "text/plain": [
       "<IPython.core.display.HTML object>"
      ]
     },
     "metadata": {},
     "output_type": "display_data"
    },
    {
     "data": {
      "text/html": [],
      "text/plain": [
       "<IPython.core.display.HTML object>"
      ]
     },
     "metadata": {},
     "output_type": "display_data"
    },
    {
     "data": {
      "text/html": [],
      "text/plain": [
       "<IPython.core.display.HTML object>"
      ]
     },
     "metadata": {},
     "output_type": "display_data"
    },
    {
     "data": {
      "text/html": [],
      "text/plain": [
       "<IPython.core.display.HTML object>"
      ]
     },
     "metadata": {},
     "output_type": "display_data"
    },
    {
     "data": {
      "text/html": [],
      "text/plain": [
       "<IPython.core.display.HTML object>"
      ]
     },
     "metadata": {},
     "output_type": "display_data"
    },
    {
     "data": {
      "text/html": [],
      "text/plain": [
       "<IPython.core.display.HTML object>"
      ]
     },
     "metadata": {},
     "output_type": "display_data"
    },
    {
     "data": {
      "text/html": [],
      "text/plain": [
       "<IPython.core.display.HTML object>"
      ]
     },
     "metadata": {},
     "output_type": "display_data"
    },
    {
     "data": {
      "text/html": [],
      "text/plain": [
       "<IPython.core.display.HTML object>"
      ]
     },
     "metadata": {},
     "output_type": "display_data"
    },
    {
     "data": {
      "text/html": [],
      "text/plain": [
       "<IPython.core.display.HTML object>"
      ]
     },
     "metadata": {},
     "output_type": "display_data"
    },
    {
     "data": {
      "text/html": [],
      "text/plain": [
       "<IPython.core.display.HTML object>"
      ]
     },
     "metadata": {},
     "output_type": "display_data"
    },
    {
     "data": {
      "text/html": [],
      "text/plain": [
       "<IPython.core.display.HTML object>"
      ]
     },
     "metadata": {},
     "output_type": "display_data"
    },
    {
     "data": {
      "text/html": [],
      "text/plain": [
       "<IPython.core.display.HTML object>"
      ]
     },
     "metadata": {},
     "output_type": "display_data"
    },
    {
     "data": {
      "text/html": [],
      "text/plain": [
       "<IPython.core.display.HTML object>"
      ]
     },
     "metadata": {},
     "output_type": "display_data"
    },
    {
     "data": {
      "text/html": [],
      "text/plain": [
       "<IPython.core.display.HTML object>"
      ]
     },
     "metadata": {},
     "output_type": "display_data"
    },
    {
     "data": {
      "text/html": [],
      "text/plain": [
       "<IPython.core.display.HTML object>"
      ]
     },
     "metadata": {},
     "output_type": "display_data"
    },
    {
     "data": {
      "text/html": [],
      "text/plain": [
       "<IPython.core.display.HTML object>"
      ]
     },
     "metadata": {},
     "output_type": "display_data"
    },
    {
     "data": {
      "text/html": [],
      "text/plain": [
       "<IPython.core.display.HTML object>"
      ]
     },
     "metadata": {},
     "output_type": "display_data"
    },
    {
     "data": {
      "text/html": [],
      "text/plain": [
       "<IPython.core.display.HTML object>"
      ]
     },
     "metadata": {},
     "output_type": "display_data"
    },
    {
     "data": {
      "text/html": [],
      "text/plain": [
       "<IPython.core.display.HTML object>"
      ]
     },
     "metadata": {},
     "output_type": "display_data"
    },
    {
     "data": {
      "text/html": [],
      "text/plain": [
       "<IPython.core.display.HTML object>"
      ]
     },
     "metadata": {},
     "output_type": "display_data"
    },
    {
     "data": {
      "text/html": [],
      "text/plain": [
       "<IPython.core.display.HTML object>"
      ]
     },
     "metadata": {},
     "output_type": "display_data"
    },
    {
     "data": {
      "text/html": [],
      "text/plain": [
       "<IPython.core.display.HTML object>"
      ]
     },
     "metadata": {},
     "output_type": "display_data"
    },
    {
     "data": {
      "text/html": [],
      "text/plain": [
       "<IPython.core.display.HTML object>"
      ]
     },
     "metadata": {},
     "output_type": "display_data"
    },
    {
     "data": {
      "text/html": [],
      "text/plain": [
       "<IPython.core.display.HTML object>"
      ]
     },
     "metadata": {},
     "output_type": "display_data"
    },
    {
     "data": {
      "text/html": [],
      "text/plain": [
       "<IPython.core.display.HTML object>"
      ]
     },
     "metadata": {},
     "output_type": "display_data"
    },
    {
     "data": {
      "text/html": [],
      "text/plain": [
       "<IPython.core.display.HTML object>"
      ]
     },
     "metadata": {},
     "output_type": "display_data"
    },
    {
     "data": {
      "text/html": [],
      "text/plain": [
       "<IPython.core.display.HTML object>"
      ]
     },
     "metadata": {},
     "output_type": "display_data"
    },
    {
     "data": {
      "text/html": [],
      "text/plain": [
       "<IPython.core.display.HTML object>"
      ]
     },
     "metadata": {},
     "output_type": "display_data"
    },
    {
     "data": {
      "text/html": [],
      "text/plain": [
       "<IPython.core.display.HTML object>"
      ]
     },
     "metadata": {},
     "output_type": "display_data"
    },
    {
     "data": {
      "text/html": [],
      "text/plain": [
       "<IPython.core.display.HTML object>"
      ]
     },
     "metadata": {},
     "output_type": "display_data"
    },
    {
     "data": {
      "text/html": [],
      "text/plain": [
       "<IPython.core.display.HTML object>"
      ]
     },
     "metadata": {},
     "output_type": "display_data"
    },
    {
     "data": {
      "text/html": [],
      "text/plain": [
       "<IPython.core.display.HTML object>"
      ]
     },
     "metadata": {},
     "output_type": "display_data"
    },
    {
     "data": {
      "text/html": [],
      "text/plain": [
       "<IPython.core.display.HTML object>"
      ]
     },
     "metadata": {},
     "output_type": "display_data"
    },
    {
     "data": {
      "text/html": [],
      "text/plain": [
       "<IPython.core.display.HTML object>"
      ]
     },
     "metadata": {},
     "output_type": "display_data"
    },
    {
     "data": {
      "text/html": [],
      "text/plain": [
       "<IPython.core.display.HTML object>"
      ]
     },
     "metadata": {},
     "output_type": "display_data"
    },
    {
     "data": {
      "text/html": [],
      "text/plain": [
       "<IPython.core.display.HTML object>"
      ]
     },
     "metadata": {},
     "output_type": "display_data"
    },
    {
     "data": {
      "text/html": [],
      "text/plain": [
       "<IPython.core.display.HTML object>"
      ]
     },
     "metadata": {},
     "output_type": "display_data"
    },
    {
     "data": {
      "text/html": [],
      "text/plain": [
       "<IPython.core.display.HTML object>"
      ]
     },
     "metadata": {},
     "output_type": "display_data"
    },
    {
     "data": {
      "text/html": [],
      "text/plain": [
       "<IPython.core.display.HTML object>"
      ]
     },
     "metadata": {},
     "output_type": "display_data"
    },
    {
     "data": {
      "text/html": [],
      "text/plain": [
       "<IPython.core.display.HTML object>"
      ]
     },
     "metadata": {},
     "output_type": "display_data"
    },
    {
     "data": {
      "text/html": [],
      "text/plain": [
       "<IPython.core.display.HTML object>"
      ]
     },
     "metadata": {},
     "output_type": "display_data"
    },
    {
     "data": {
      "text/html": [],
      "text/plain": [
       "<IPython.core.display.HTML object>"
      ]
     },
     "metadata": {},
     "output_type": "display_data"
    },
    {
     "data": {
      "text/html": [],
      "text/plain": [
       "<IPython.core.display.HTML object>"
      ]
     },
     "metadata": {},
     "output_type": "display_data"
    },
    {
     "data": {
      "text/html": [],
      "text/plain": [
       "<IPython.core.display.HTML object>"
      ]
     },
     "metadata": {},
     "output_type": "display_data"
    },
    {
     "data": {
      "text/html": [],
      "text/plain": [
       "<IPython.core.display.HTML object>"
      ]
     },
     "metadata": {},
     "output_type": "display_data"
    },
    {
     "data": {
      "text/html": [],
      "text/plain": [
       "<IPython.core.display.HTML object>"
      ]
     },
     "metadata": {},
     "output_type": "display_data"
    },
    {
     "data": {
      "text/html": [],
      "text/plain": [
       "<IPython.core.display.HTML object>"
      ]
     },
     "metadata": {},
     "output_type": "display_data"
    },
    {
     "data": {
      "text/html": [],
      "text/plain": [
       "<IPython.core.display.HTML object>"
      ]
     },
     "metadata": {},
     "output_type": "display_data"
    },
    {
     "data": {
      "text/html": [],
      "text/plain": [
       "<IPython.core.display.HTML object>"
      ]
     },
     "metadata": {},
     "output_type": "display_data"
    },
    {
     "data": {
      "text/html": [],
      "text/plain": [
       "<IPython.core.display.HTML object>"
      ]
     },
     "metadata": {},
     "output_type": "display_data"
    },
    {
     "data": {
      "text/html": [],
      "text/plain": [
       "<IPython.core.display.HTML object>"
      ]
     },
     "metadata": {},
     "output_type": "display_data"
    },
    {
     "data": {
      "text/html": [],
      "text/plain": [
       "<IPython.core.display.HTML object>"
      ]
     },
     "metadata": {},
     "output_type": "display_data"
    },
    {
     "data": {
      "text/html": [],
      "text/plain": [
       "<IPython.core.display.HTML object>"
      ]
     },
     "metadata": {},
     "output_type": "display_data"
    },
    {
     "data": {
      "text/html": [],
      "text/plain": [
       "<IPython.core.display.HTML object>"
      ]
     },
     "metadata": {},
     "output_type": "display_data"
    },
    {
     "data": {
      "text/html": [],
      "text/plain": [
       "<IPython.core.display.HTML object>"
      ]
     },
     "metadata": {},
     "output_type": "display_data"
    },
    {
     "data": {
      "text/html": [],
      "text/plain": [
       "<IPython.core.display.HTML object>"
      ]
     },
     "metadata": {},
     "output_type": "display_data"
    },
    {
     "data": {
      "text/html": [],
      "text/plain": [
       "<IPython.core.display.HTML object>"
      ]
     },
     "metadata": {},
     "output_type": "display_data"
    },
    {
     "data": {
      "text/html": [],
      "text/plain": [
       "<IPython.core.display.HTML object>"
      ]
     },
     "metadata": {},
     "output_type": "display_data"
    },
    {
     "data": {
      "text/html": [],
      "text/plain": [
       "<IPython.core.display.HTML object>"
      ]
     },
     "metadata": {},
     "output_type": "display_data"
    },
    {
     "data": {
      "text/html": [],
      "text/plain": [
       "<IPython.core.display.HTML object>"
      ]
     },
     "metadata": {},
     "output_type": "display_data"
    },
    {
     "data": {
      "text/html": [],
      "text/plain": [
       "<IPython.core.display.HTML object>"
      ]
     },
     "metadata": {},
     "output_type": "display_data"
    },
    {
     "data": {
      "text/html": [],
      "text/plain": [
       "<IPython.core.display.HTML object>"
      ]
     },
     "metadata": {},
     "output_type": "display_data"
    },
    {
     "data": {
      "text/html": [],
      "text/plain": [
       "<IPython.core.display.HTML object>"
      ]
     },
     "metadata": {},
     "output_type": "display_data"
    },
    {
     "data": {
      "text/html": [],
      "text/plain": [
       "<IPython.core.display.HTML object>"
      ]
     },
     "metadata": {},
     "output_type": "display_data"
    },
    {
     "data": {
      "text/html": [],
      "text/plain": [
       "<IPython.core.display.HTML object>"
      ]
     },
     "metadata": {},
     "output_type": "display_data"
    },
    {
     "data": {
      "text/html": [],
      "text/plain": [
       "<IPython.core.display.HTML object>"
      ]
     },
     "metadata": {},
     "output_type": "display_data"
    },
    {
     "data": {
      "text/html": [],
      "text/plain": [
       "<IPython.core.display.HTML object>"
      ]
     },
     "metadata": {},
     "output_type": "display_data"
    },
    {
     "data": {
      "text/html": [],
      "text/plain": [
       "<IPython.core.display.HTML object>"
      ]
     },
     "metadata": {},
     "output_type": "display_data"
    },
    {
     "data": {
      "text/html": [],
      "text/plain": [
       "<IPython.core.display.HTML object>"
      ]
     },
     "metadata": {},
     "output_type": "display_data"
    },
    {
     "data": {
      "text/html": [],
      "text/plain": [
       "<IPython.core.display.HTML object>"
      ]
     },
     "metadata": {},
     "output_type": "display_data"
    },
    {
     "data": {
      "text/html": [],
      "text/plain": [
       "<IPython.core.display.HTML object>"
      ]
     },
     "metadata": {},
     "output_type": "display_data"
    },
    {
     "data": {
      "text/html": [],
      "text/plain": [
       "<IPython.core.display.HTML object>"
      ]
     },
     "metadata": {},
     "output_type": "display_data"
    },
    {
     "data": {
      "text/html": [],
      "text/plain": [
       "<IPython.core.display.HTML object>"
      ]
     },
     "metadata": {},
     "output_type": "display_data"
    },
    {
     "data": {
      "text/html": [],
      "text/plain": [
       "<IPython.core.display.HTML object>"
      ]
     },
     "metadata": {},
     "output_type": "display_data"
    },
    {
     "data": {
      "text/html": [],
      "text/plain": [
       "<IPython.core.display.HTML object>"
      ]
     },
     "metadata": {},
     "output_type": "display_data"
    },
    {
     "data": {
      "text/html": [],
      "text/plain": [
       "<IPython.core.display.HTML object>"
      ]
     },
     "metadata": {},
     "output_type": "display_data"
    },
    {
     "data": {
      "text/html": [],
      "text/plain": [
       "<IPython.core.display.HTML object>"
      ]
     },
     "metadata": {},
     "output_type": "display_data"
    },
    {
     "data": {
      "text/html": [],
      "text/plain": [
       "<IPython.core.display.HTML object>"
      ]
     },
     "metadata": {},
     "output_type": "display_data"
    },
    {
     "data": {
      "text/html": [],
      "text/plain": [
       "<IPython.core.display.HTML object>"
      ]
     },
     "metadata": {},
     "output_type": "display_data"
    },
    {
     "data": {
      "text/html": [],
      "text/plain": [
       "<IPython.core.display.HTML object>"
      ]
     },
     "metadata": {},
     "output_type": "display_data"
    },
    {
     "data": {
      "text/html": [],
      "text/plain": [
       "<IPython.core.display.HTML object>"
      ]
     },
     "metadata": {},
     "output_type": "display_data"
    },
    {
     "data": {
      "text/html": [],
      "text/plain": [
       "<IPython.core.display.HTML object>"
      ]
     },
     "metadata": {},
     "output_type": "display_data"
    },
    {
     "data": {
      "text/html": [],
      "text/plain": [
       "<IPython.core.display.HTML object>"
      ]
     },
     "metadata": {},
     "output_type": "display_data"
    },
    {
     "data": {
      "text/html": [],
      "text/plain": [
       "<IPython.core.display.HTML object>"
      ]
     },
     "metadata": {},
     "output_type": "display_data"
    },
    {
     "data": {
      "text/html": [],
      "text/plain": [
       "<IPython.core.display.HTML object>"
      ]
     },
     "metadata": {},
     "output_type": "display_data"
    },
    {
     "data": {
      "text/html": [],
      "text/plain": [
       "<IPython.core.display.HTML object>"
      ]
     },
     "metadata": {},
     "output_type": "display_data"
    },
    {
     "data": {
      "text/html": [],
      "text/plain": [
       "<IPython.core.display.HTML object>"
      ]
     },
     "metadata": {},
     "output_type": "display_data"
    },
    {
     "data": {
      "text/html": [],
      "text/plain": [
       "<IPython.core.display.HTML object>"
      ]
     },
     "metadata": {},
     "output_type": "display_data"
    },
    {
     "data": {
      "text/html": [],
      "text/plain": [
       "<IPython.core.display.HTML object>"
      ]
     },
     "metadata": {},
     "output_type": "display_data"
    },
    {
     "data": {
      "text/html": [],
      "text/plain": [
       "<IPython.core.display.HTML object>"
      ]
     },
     "metadata": {},
     "output_type": "display_data"
    },
    {
     "data": {
      "text/html": [],
      "text/plain": [
       "<IPython.core.display.HTML object>"
      ]
     },
     "metadata": {},
     "output_type": "display_data"
    },
    {
     "data": {
      "text/html": [],
      "text/plain": [
       "<IPython.core.display.HTML object>"
      ]
     },
     "metadata": {},
     "output_type": "display_data"
    },
    {
     "data": {
      "text/html": [],
      "text/plain": [
       "<IPython.core.display.HTML object>"
      ]
     },
     "metadata": {},
     "output_type": "display_data"
    },
    {
     "data": {
      "text/html": [],
      "text/plain": [
       "<IPython.core.display.HTML object>"
      ]
     },
     "metadata": {},
     "output_type": "display_data"
    },
    {
     "data": {
      "text/html": [],
      "text/plain": [
       "<IPython.core.display.HTML object>"
      ]
     },
     "metadata": {},
     "output_type": "display_data"
    },
    {
     "data": {
      "text/html": [],
      "text/plain": [
       "<IPython.core.display.HTML object>"
      ]
     },
     "metadata": {},
     "output_type": "display_data"
    },
    {
     "data": {
      "text/html": [],
      "text/plain": [
       "<IPython.core.display.HTML object>"
      ]
     },
     "metadata": {},
     "output_type": "display_data"
    },
    {
     "data": {
      "text/html": [],
      "text/plain": [
       "<IPython.core.display.HTML object>"
      ]
     },
     "metadata": {},
     "output_type": "display_data"
    },
    {
     "data": {
      "text/html": [],
      "text/plain": [
       "<IPython.core.display.HTML object>"
      ]
     },
     "metadata": {},
     "output_type": "display_data"
    },
    {
     "data": {
      "text/html": [],
      "text/plain": [
       "<IPython.core.display.HTML object>"
      ]
     },
     "metadata": {},
     "output_type": "display_data"
    },
    {
     "data": {
      "text/html": [],
      "text/plain": [
       "<IPython.core.display.HTML object>"
      ]
     },
     "metadata": {},
     "output_type": "display_data"
    },
    {
     "data": {
      "text/html": [],
      "text/plain": [
       "<IPython.core.display.HTML object>"
      ]
     },
     "metadata": {},
     "output_type": "display_data"
    },
    {
     "data": {
      "text/html": [],
      "text/plain": [
       "<IPython.core.display.HTML object>"
      ]
     },
     "metadata": {},
     "output_type": "display_data"
    },
    {
     "data": {
      "text/html": [],
      "text/plain": [
       "<IPython.core.display.HTML object>"
      ]
     },
     "metadata": {},
     "output_type": "display_data"
    },
    {
     "data": {
      "text/html": [],
      "text/plain": [
       "<IPython.core.display.HTML object>"
      ]
     },
     "metadata": {},
     "output_type": "display_data"
    },
    {
     "data": {
      "text/html": [],
      "text/plain": [
       "<IPython.core.display.HTML object>"
      ]
     },
     "metadata": {},
     "output_type": "display_data"
    },
    {
     "data": {
      "text/html": [],
      "text/plain": [
       "<IPython.core.display.HTML object>"
      ]
     },
     "metadata": {},
     "output_type": "display_data"
    },
    {
     "data": {
      "text/html": [],
      "text/plain": [
       "<IPython.core.display.HTML object>"
      ]
     },
     "metadata": {},
     "output_type": "display_data"
    },
    {
     "data": {
      "text/html": [],
      "text/plain": [
       "<IPython.core.display.HTML object>"
      ]
     },
     "metadata": {},
     "output_type": "display_data"
    },
    {
     "data": {
      "text/html": [],
      "text/plain": [
       "<IPython.core.display.HTML object>"
      ]
     },
     "metadata": {},
     "output_type": "display_data"
    },
    {
     "data": {
      "text/html": [],
      "text/plain": [
       "<IPython.core.display.HTML object>"
      ]
     },
     "metadata": {},
     "output_type": "display_data"
    },
    {
     "data": {
      "text/html": [],
      "text/plain": [
       "<IPython.core.display.HTML object>"
      ]
     },
     "metadata": {},
     "output_type": "display_data"
    },
    {
     "data": {
      "text/html": [],
      "text/plain": [
       "<IPython.core.display.HTML object>"
      ]
     },
     "metadata": {},
     "output_type": "display_data"
    },
    {
     "data": {
      "text/html": [],
      "text/plain": [
       "<IPython.core.display.HTML object>"
      ]
     },
     "metadata": {},
     "output_type": "display_data"
    },
    {
     "data": {
      "text/html": [],
      "text/plain": [
       "<IPython.core.display.HTML object>"
      ]
     },
     "metadata": {},
     "output_type": "display_data"
    },
    {
     "data": {
      "text/html": [],
      "text/plain": [
       "<IPython.core.display.HTML object>"
      ]
     },
     "metadata": {},
     "output_type": "display_data"
    },
    {
     "data": {
      "text/html": [],
      "text/plain": [
       "<IPython.core.display.HTML object>"
      ]
     },
     "metadata": {},
     "output_type": "display_data"
    },
    {
     "data": {
      "text/html": [],
      "text/plain": [
       "<IPython.core.display.HTML object>"
      ]
     },
     "metadata": {},
     "output_type": "display_data"
    },
    {
     "data": {
      "text/html": [],
      "text/plain": [
       "<IPython.core.display.HTML object>"
      ]
     },
     "metadata": {},
     "output_type": "display_data"
    },
    {
     "data": {
      "text/html": [],
      "text/plain": [
       "<IPython.core.display.HTML object>"
      ]
     },
     "metadata": {},
     "output_type": "display_data"
    },
    {
     "data": {
      "text/html": [],
      "text/plain": [
       "<IPython.core.display.HTML object>"
      ]
     },
     "metadata": {},
     "output_type": "display_data"
    },
    {
     "data": {
      "text/html": [],
      "text/plain": [
       "<IPython.core.display.HTML object>"
      ]
     },
     "metadata": {},
     "output_type": "display_data"
    },
    {
     "data": {
      "text/html": [],
      "text/plain": [
       "<IPython.core.display.HTML object>"
      ]
     },
     "metadata": {},
     "output_type": "display_data"
    },
    {
     "data": {
      "text/html": [],
      "text/plain": [
       "<IPython.core.display.HTML object>"
      ]
     },
     "metadata": {},
     "output_type": "display_data"
    },
    {
     "data": {
      "text/html": [],
      "text/plain": [
       "<IPython.core.display.HTML object>"
      ]
     },
     "metadata": {},
     "output_type": "display_data"
    },
    {
     "data": {
      "text/html": [],
      "text/plain": [
       "<IPython.core.display.HTML object>"
      ]
     },
     "metadata": {},
     "output_type": "display_data"
    },
    {
     "data": {
      "text/html": [],
      "text/plain": [
       "<IPython.core.display.HTML object>"
      ]
     },
     "metadata": {},
     "output_type": "display_data"
    },
    {
     "data": {
      "text/html": [],
      "text/plain": [
       "<IPython.core.display.HTML object>"
      ]
     },
     "metadata": {},
     "output_type": "display_data"
    },
    {
     "data": {
      "text/html": [],
      "text/plain": [
       "<IPython.core.display.HTML object>"
      ]
     },
     "metadata": {},
     "output_type": "display_data"
    },
    {
     "data": {
      "text/html": [],
      "text/plain": [
       "<IPython.core.display.HTML object>"
      ]
     },
     "metadata": {},
     "output_type": "display_data"
    },
    {
     "data": {
      "text/html": [],
      "text/plain": [
       "<IPython.core.display.HTML object>"
      ]
     },
     "metadata": {},
     "output_type": "display_data"
    },
    {
     "data": {
      "text/html": [],
      "text/plain": [
       "<IPython.core.display.HTML object>"
      ]
     },
     "metadata": {},
     "output_type": "display_data"
    },
    {
     "data": {
      "text/html": [],
      "text/plain": [
       "<IPython.core.display.HTML object>"
      ]
     },
     "metadata": {},
     "output_type": "display_data"
    },
    {
     "data": {
      "text/html": [],
      "text/plain": [
       "<IPython.core.display.HTML object>"
      ]
     },
     "metadata": {},
     "output_type": "display_data"
    },
    {
     "data": {
      "text/html": [],
      "text/plain": [
       "<IPython.core.display.HTML object>"
      ]
     },
     "metadata": {},
     "output_type": "display_data"
    },
    {
     "data": {
      "text/html": [],
      "text/plain": [
       "<IPython.core.display.HTML object>"
      ]
     },
     "metadata": {},
     "output_type": "display_data"
    },
    {
     "data": {
      "text/html": [],
      "text/plain": [
       "<IPython.core.display.HTML object>"
      ]
     },
     "metadata": {},
     "output_type": "display_data"
    },
    {
     "data": {
      "text/html": [],
      "text/plain": [
       "<IPython.core.display.HTML object>"
      ]
     },
     "metadata": {},
     "output_type": "display_data"
    },
    {
     "data": {
      "text/html": [],
      "text/plain": [
       "<IPython.core.display.HTML object>"
      ]
     },
     "metadata": {},
     "output_type": "display_data"
    },
    {
     "data": {
      "text/html": [],
      "text/plain": [
       "<IPython.core.display.HTML object>"
      ]
     },
     "metadata": {},
     "output_type": "display_data"
    },
    {
     "data": {
      "text/html": [],
      "text/plain": [
       "<IPython.core.display.HTML object>"
      ]
     },
     "metadata": {},
     "output_type": "display_data"
    },
    {
     "data": {
      "text/html": [],
      "text/plain": [
       "<IPython.core.display.HTML object>"
      ]
     },
     "metadata": {},
     "output_type": "display_data"
    },
    {
     "data": {
      "text/html": [],
      "text/plain": [
       "<IPython.core.display.HTML object>"
      ]
     },
     "metadata": {},
     "output_type": "display_data"
    },
    {
     "data": {
      "text/html": [],
      "text/plain": [
       "<IPython.core.display.HTML object>"
      ]
     },
     "metadata": {},
     "output_type": "display_data"
    },
    {
     "data": {
      "text/html": [],
      "text/plain": [
       "<IPython.core.display.HTML object>"
      ]
     },
     "metadata": {},
     "output_type": "display_data"
    },
    {
     "data": {
      "text/html": [],
      "text/plain": [
       "<IPython.core.display.HTML object>"
      ]
     },
     "metadata": {},
     "output_type": "display_data"
    },
    {
     "data": {
      "text/html": [],
      "text/plain": [
       "<IPython.core.display.HTML object>"
      ]
     },
     "metadata": {},
     "output_type": "display_data"
    },
    {
     "data": {
      "text/html": [],
      "text/plain": [
       "<IPython.core.display.HTML object>"
      ]
     },
     "metadata": {},
     "output_type": "display_data"
    },
    {
     "data": {
      "text/html": [],
      "text/plain": [
       "<IPython.core.display.HTML object>"
      ]
     },
     "metadata": {},
     "output_type": "display_data"
    },
    {
     "data": {
      "text/html": [],
      "text/plain": [
       "<IPython.core.display.HTML object>"
      ]
     },
     "metadata": {},
     "output_type": "display_data"
    },
    {
     "data": {
      "text/html": [],
      "text/plain": [
       "<IPython.core.display.HTML object>"
      ]
     },
     "metadata": {},
     "output_type": "display_data"
    },
    {
     "data": {
      "text/html": [],
      "text/plain": [
       "<IPython.core.display.HTML object>"
      ]
     },
     "metadata": {},
     "output_type": "display_data"
    },
    {
     "data": {
      "text/html": [],
      "text/plain": [
       "<IPython.core.display.HTML object>"
      ]
     },
     "metadata": {},
     "output_type": "display_data"
    },
    {
     "data": {
      "text/html": [],
      "text/plain": [
       "<IPython.core.display.HTML object>"
      ]
     },
     "metadata": {},
     "output_type": "display_data"
    },
    {
     "data": {
      "text/html": [],
      "text/plain": [
       "<IPython.core.display.HTML object>"
      ]
     },
     "metadata": {},
     "output_type": "display_data"
    },
    {
     "data": {
      "text/html": [],
      "text/plain": [
       "<IPython.core.display.HTML object>"
      ]
     },
     "metadata": {},
     "output_type": "display_data"
    },
    {
     "data": {
      "text/html": [],
      "text/plain": [
       "<IPython.core.display.HTML object>"
      ]
     },
     "metadata": {},
     "output_type": "display_data"
    },
    {
     "data": {
      "text/html": [],
      "text/plain": [
       "<IPython.core.display.HTML object>"
      ]
     },
     "metadata": {},
     "output_type": "display_data"
    },
    {
     "data": {
      "text/html": [],
      "text/plain": [
       "<IPython.core.display.HTML object>"
      ]
     },
     "metadata": {},
     "output_type": "display_data"
    },
    {
     "data": {
      "text/html": [],
      "text/plain": [
       "<IPython.core.display.HTML object>"
      ]
     },
     "metadata": {},
     "output_type": "display_data"
    },
    {
     "data": {
      "text/html": [],
      "text/plain": [
       "<IPython.core.display.HTML object>"
      ]
     },
     "metadata": {},
     "output_type": "display_data"
    },
    {
     "data": {
      "text/html": [],
      "text/plain": [
       "<IPython.core.display.HTML object>"
      ]
     },
     "metadata": {},
     "output_type": "display_data"
    },
    {
     "data": {
      "text/html": [],
      "text/plain": [
       "<IPython.core.display.HTML object>"
      ]
     },
     "metadata": {},
     "output_type": "display_data"
    },
    {
     "data": {
      "text/html": [],
      "text/plain": [
       "<IPython.core.display.HTML object>"
      ]
     },
     "metadata": {},
     "output_type": "display_data"
    },
    {
     "data": {
      "text/html": [],
      "text/plain": [
       "<IPython.core.display.HTML object>"
      ]
     },
     "metadata": {},
     "output_type": "display_data"
    },
    {
     "data": {
      "text/html": [],
      "text/plain": [
       "<IPython.core.display.HTML object>"
      ]
     },
     "metadata": {},
     "output_type": "display_data"
    },
    {
     "data": {
      "text/html": [],
      "text/plain": [
       "<IPython.core.display.HTML object>"
      ]
     },
     "metadata": {},
     "output_type": "display_data"
    },
    {
     "data": {
      "text/html": [],
      "text/plain": [
       "<IPython.core.display.HTML object>"
      ]
     },
     "metadata": {},
     "output_type": "display_data"
    },
    {
     "data": {
      "text/html": [],
      "text/plain": [
       "<IPython.core.display.HTML object>"
      ]
     },
     "metadata": {},
     "output_type": "display_data"
    },
    {
     "data": {
      "text/html": [],
      "text/plain": [
       "<IPython.core.display.HTML object>"
      ]
     },
     "metadata": {},
     "output_type": "display_data"
    },
    {
     "data": {
      "text/html": [],
      "text/plain": [
       "<IPython.core.display.HTML object>"
      ]
     },
     "metadata": {},
     "output_type": "display_data"
    },
    {
     "data": {
      "text/html": [],
      "text/plain": [
       "<IPython.core.display.HTML object>"
      ]
     },
     "metadata": {},
     "output_type": "display_data"
    },
    {
     "data": {
      "text/html": [],
      "text/plain": [
       "<IPython.core.display.HTML object>"
      ]
     },
     "metadata": {},
     "output_type": "display_data"
    },
    {
     "data": {
      "text/html": [],
      "text/plain": [
       "<IPython.core.display.HTML object>"
      ]
     },
     "metadata": {},
     "output_type": "display_data"
    },
    {
     "data": {
      "text/html": [],
      "text/plain": [
       "<IPython.core.display.HTML object>"
      ]
     },
     "metadata": {},
     "output_type": "display_data"
    },
    {
     "data": {
      "text/html": [],
      "text/plain": [
       "<IPython.core.display.HTML object>"
      ]
     },
     "metadata": {},
     "output_type": "display_data"
    },
    {
     "data": {
      "text/html": [],
      "text/plain": [
       "<IPython.core.display.HTML object>"
      ]
     },
     "metadata": {},
     "output_type": "display_data"
    },
    {
     "data": {
      "text/html": [],
      "text/plain": [
       "<IPython.core.display.HTML object>"
      ]
     },
     "metadata": {},
     "output_type": "display_data"
    },
    {
     "data": {
      "text/html": [],
      "text/plain": [
       "<IPython.core.display.HTML object>"
      ]
     },
     "metadata": {},
     "output_type": "display_data"
    },
    {
     "data": {
      "text/html": [],
      "text/plain": [
       "<IPython.core.display.HTML object>"
      ]
     },
     "metadata": {},
     "output_type": "display_data"
    },
    {
     "data": {
      "text/html": [],
      "text/plain": [
       "<IPython.core.display.HTML object>"
      ]
     },
     "metadata": {},
     "output_type": "display_data"
    },
    {
     "data": {
      "text/html": [],
      "text/plain": [
       "<IPython.core.display.HTML object>"
      ]
     },
     "metadata": {},
     "output_type": "display_data"
    },
    {
     "data": {
      "text/html": [],
      "text/plain": [
       "<IPython.core.display.HTML object>"
      ]
     },
     "metadata": {},
     "output_type": "display_data"
    },
    {
     "data": {
      "text/html": [],
      "text/plain": [
       "<IPython.core.display.HTML object>"
      ]
     },
     "metadata": {},
     "output_type": "display_data"
    },
    {
     "data": {
      "text/html": [],
      "text/plain": [
       "<IPython.core.display.HTML object>"
      ]
     },
     "metadata": {},
     "output_type": "display_data"
    },
    {
     "data": {
      "text/html": [],
      "text/plain": [
       "<IPython.core.display.HTML object>"
      ]
     },
     "metadata": {},
     "output_type": "display_data"
    },
    {
     "data": {
      "text/html": [],
      "text/plain": [
       "<IPython.core.display.HTML object>"
      ]
     },
     "metadata": {},
     "output_type": "display_data"
    },
    {
     "data": {
      "text/html": [],
      "text/plain": [
       "<IPython.core.display.HTML object>"
      ]
     },
     "metadata": {},
     "output_type": "display_data"
    },
    {
     "data": {
      "text/html": [],
      "text/plain": [
       "<IPython.core.display.HTML object>"
      ]
     },
     "metadata": {},
     "output_type": "display_data"
    },
    {
     "data": {
      "text/html": [],
      "text/plain": [
       "<IPython.core.display.HTML object>"
      ]
     },
     "metadata": {},
     "output_type": "display_data"
    },
    {
     "data": {
      "text/html": [],
      "text/plain": [
       "<IPython.core.display.HTML object>"
      ]
     },
     "metadata": {},
     "output_type": "display_data"
    },
    {
     "data": {
      "text/html": [],
      "text/plain": [
       "<IPython.core.display.HTML object>"
      ]
     },
     "metadata": {},
     "output_type": "display_data"
    },
    {
     "data": {
      "text/html": [],
      "text/plain": [
       "<IPython.core.display.HTML object>"
      ]
     },
     "metadata": {},
     "output_type": "display_data"
    },
    {
     "data": {
      "text/html": [],
      "text/plain": [
       "<IPython.core.display.HTML object>"
      ]
     },
     "metadata": {},
     "output_type": "display_data"
    },
    {
     "data": {
      "text/html": [],
      "text/plain": [
       "<IPython.core.display.HTML object>"
      ]
     },
     "metadata": {},
     "output_type": "display_data"
    },
    {
     "data": {
      "text/html": [],
      "text/plain": [
       "<IPython.core.display.HTML object>"
      ]
     },
     "metadata": {},
     "output_type": "display_data"
    },
    {
     "data": {
      "text/html": [],
      "text/plain": [
       "<IPython.core.display.HTML object>"
      ]
     },
     "metadata": {},
     "output_type": "display_data"
    },
    {
     "data": {
      "text/html": [],
      "text/plain": [
       "<IPython.core.display.HTML object>"
      ]
     },
     "metadata": {},
     "output_type": "display_data"
    },
    {
     "data": {
      "text/html": [],
      "text/plain": [
       "<IPython.core.display.HTML object>"
      ]
     },
     "metadata": {},
     "output_type": "display_data"
    },
    {
     "data": {
      "text/html": [],
      "text/plain": [
       "<IPython.core.display.HTML object>"
      ]
     },
     "metadata": {},
     "output_type": "display_data"
    },
    {
     "data": {
      "text/html": [],
      "text/plain": [
       "<IPython.core.display.HTML object>"
      ]
     },
     "metadata": {},
     "output_type": "display_data"
    },
    {
     "data": {
      "text/html": [],
      "text/plain": [
       "<IPython.core.display.HTML object>"
      ]
     },
     "metadata": {},
     "output_type": "display_data"
    },
    {
     "data": {
      "text/html": [],
      "text/plain": [
       "<IPython.core.display.HTML object>"
      ]
     },
     "metadata": {},
     "output_type": "display_data"
    },
    {
     "data": {
      "text/html": [],
      "text/plain": [
       "<IPython.core.display.HTML object>"
      ]
     },
     "metadata": {},
     "output_type": "display_data"
    },
    {
     "data": {
      "text/html": [],
      "text/plain": [
       "<IPython.core.display.HTML object>"
      ]
     },
     "metadata": {},
     "output_type": "display_data"
    },
    {
     "data": {
      "text/html": [],
      "text/plain": [
       "<IPython.core.display.HTML object>"
      ]
     },
     "metadata": {},
     "output_type": "display_data"
    },
    {
     "data": {
      "text/html": [],
      "text/plain": [
       "<IPython.core.display.HTML object>"
      ]
     },
     "metadata": {},
     "output_type": "display_data"
    },
    {
     "data": {
      "text/html": [],
      "text/plain": [
       "<IPython.core.display.HTML object>"
      ]
     },
     "metadata": {},
     "output_type": "display_data"
    },
    {
     "data": {
      "text/html": [],
      "text/plain": [
       "<IPython.core.display.HTML object>"
      ]
     },
     "metadata": {},
     "output_type": "display_data"
    },
    {
     "data": {
      "text/html": [],
      "text/plain": [
       "<IPython.core.display.HTML object>"
      ]
     },
     "metadata": {},
     "output_type": "display_data"
    },
    {
     "data": {
      "text/html": [],
      "text/plain": [
       "<IPython.core.display.HTML object>"
      ]
     },
     "metadata": {},
     "output_type": "display_data"
    },
    {
     "data": {
      "text/html": [],
      "text/plain": [
       "<IPython.core.display.HTML object>"
      ]
     },
     "metadata": {},
     "output_type": "display_data"
    },
    {
     "data": {
      "text/html": [],
      "text/plain": [
       "<IPython.core.display.HTML object>"
      ]
     },
     "metadata": {},
     "output_type": "display_data"
    },
    {
     "data": {
      "text/html": [],
      "text/plain": [
       "<IPython.core.display.HTML object>"
      ]
     },
     "metadata": {},
     "output_type": "display_data"
    },
    {
     "data": {
      "text/html": [],
      "text/plain": [
       "<IPython.core.display.HTML object>"
      ]
     },
     "metadata": {},
     "output_type": "display_data"
    },
    {
     "data": {
      "text/html": [],
      "text/plain": [
       "<IPython.core.display.HTML object>"
      ]
     },
     "metadata": {},
     "output_type": "display_data"
    },
    {
     "data": {
      "text/html": [],
      "text/plain": [
       "<IPython.core.display.HTML object>"
      ]
     },
     "metadata": {},
     "output_type": "display_data"
    },
    {
     "data": {
      "text/html": [],
      "text/plain": [
       "<IPython.core.display.HTML object>"
      ]
     },
     "metadata": {},
     "output_type": "display_data"
    },
    {
     "data": {
      "text/html": [],
      "text/plain": [
       "<IPython.core.display.HTML object>"
      ]
     },
     "metadata": {},
     "output_type": "display_data"
    },
    {
     "data": {
      "text/html": [],
      "text/plain": [
       "<IPython.core.display.HTML object>"
      ]
     },
     "metadata": {},
     "output_type": "display_data"
    },
    {
     "data": {
      "text/html": [],
      "text/plain": [
       "<IPython.core.display.HTML object>"
      ]
     },
     "metadata": {},
     "output_type": "display_data"
    },
    {
     "data": {
      "text/html": [],
      "text/plain": [
       "<IPython.core.display.HTML object>"
      ]
     },
     "metadata": {},
     "output_type": "display_data"
    },
    {
     "data": {
      "text/html": [],
      "text/plain": [
       "<IPython.core.display.HTML object>"
      ]
     },
     "metadata": {},
     "output_type": "display_data"
    },
    {
     "data": {
      "text/html": [],
      "text/plain": [
       "<IPython.core.display.HTML object>"
      ]
     },
     "metadata": {},
     "output_type": "display_data"
    },
    {
     "data": {
      "text/html": [],
      "text/plain": [
       "<IPython.core.display.HTML object>"
      ]
     },
     "metadata": {},
     "output_type": "display_data"
    },
    {
     "data": {
      "text/html": [],
      "text/plain": [
       "<IPython.core.display.HTML object>"
      ]
     },
     "metadata": {},
     "output_type": "display_data"
    },
    {
     "data": {
      "text/html": [],
      "text/plain": [
       "<IPython.core.display.HTML object>"
      ]
     },
     "metadata": {},
     "output_type": "display_data"
    },
    {
     "data": {
      "text/html": [],
      "text/plain": [
       "<IPython.core.display.HTML object>"
      ]
     },
     "metadata": {},
     "output_type": "display_data"
    },
    {
     "data": {
      "text/html": [],
      "text/plain": [
       "<IPython.core.display.HTML object>"
      ]
     },
     "metadata": {},
     "output_type": "display_data"
    },
    {
     "data": {
      "text/html": [],
      "text/plain": [
       "<IPython.core.display.HTML object>"
      ]
     },
     "metadata": {},
     "output_type": "display_data"
    },
    {
     "data": {
      "text/html": [],
      "text/plain": [
       "<IPython.core.display.HTML object>"
      ]
     },
     "metadata": {},
     "output_type": "display_data"
    },
    {
     "data": {
      "text/html": [],
      "text/plain": [
       "<IPython.core.display.HTML object>"
      ]
     },
     "metadata": {},
     "output_type": "display_data"
    },
    {
     "data": {
      "text/html": [],
      "text/plain": [
       "<IPython.core.display.HTML object>"
      ]
     },
     "metadata": {},
     "output_type": "display_data"
    },
    {
     "data": {
      "text/html": [],
      "text/plain": [
       "<IPython.core.display.HTML object>"
      ]
     },
     "metadata": {},
     "output_type": "display_data"
    },
    {
     "data": {
      "text/html": [],
      "text/plain": [
       "<IPython.core.display.HTML object>"
      ]
     },
     "metadata": {},
     "output_type": "display_data"
    },
    {
     "data": {
      "text/html": [],
      "text/plain": [
       "<IPython.core.display.HTML object>"
      ]
     },
     "metadata": {},
     "output_type": "display_data"
    },
    {
     "data": {
      "text/html": [],
      "text/plain": [
       "<IPython.core.display.HTML object>"
      ]
     },
     "metadata": {},
     "output_type": "display_data"
    },
    {
     "data": {
      "text/html": [],
      "text/plain": [
       "<IPython.core.display.HTML object>"
      ]
     },
     "metadata": {},
     "output_type": "display_data"
    },
    {
     "data": {
      "text/html": [],
      "text/plain": [
       "<IPython.core.display.HTML object>"
      ]
     },
     "metadata": {},
     "output_type": "display_data"
    },
    {
     "data": {
      "text/html": [],
      "text/plain": [
       "<IPython.core.display.HTML object>"
      ]
     },
     "metadata": {},
     "output_type": "display_data"
    },
    {
     "data": {
      "text/html": [],
      "text/plain": [
       "<IPython.core.display.HTML object>"
      ]
     },
     "metadata": {},
     "output_type": "display_data"
    },
    {
     "data": {
      "text/html": [],
      "text/plain": [
       "<IPython.core.display.HTML object>"
      ]
     },
     "metadata": {},
     "output_type": "display_data"
    },
    {
     "data": {
      "text/html": [],
      "text/plain": [
       "<IPython.core.display.HTML object>"
      ]
     },
     "metadata": {},
     "output_type": "display_data"
    },
    {
     "data": {
      "text/html": [],
      "text/plain": [
       "<IPython.core.display.HTML object>"
      ]
     },
     "metadata": {},
     "output_type": "display_data"
    },
    {
     "data": {
      "text/html": [],
      "text/plain": [
       "<IPython.core.display.HTML object>"
      ]
     },
     "metadata": {},
     "output_type": "display_data"
    },
    {
     "data": {
      "text/html": [],
      "text/plain": [
       "<IPython.core.display.HTML object>"
      ]
     },
     "metadata": {},
     "output_type": "display_data"
    },
    {
     "data": {
      "text/html": [],
      "text/plain": [
       "<IPython.core.display.HTML object>"
      ]
     },
     "metadata": {},
     "output_type": "display_data"
    },
    {
     "data": {
      "text/html": [],
      "text/plain": [
       "<IPython.core.display.HTML object>"
      ]
     },
     "metadata": {},
     "output_type": "display_data"
    },
    {
     "data": {
      "text/html": [],
      "text/plain": [
       "<IPython.core.display.HTML object>"
      ]
     },
     "metadata": {},
     "output_type": "display_data"
    },
    {
     "data": {
      "text/html": [],
      "text/plain": [
       "<IPython.core.display.HTML object>"
      ]
     },
     "metadata": {},
     "output_type": "display_data"
    },
    {
     "data": {
      "text/html": [],
      "text/plain": [
       "<IPython.core.display.HTML object>"
      ]
     },
     "metadata": {},
     "output_type": "display_data"
    },
    {
     "data": {
      "text/html": [],
      "text/plain": [
       "<IPython.core.display.HTML object>"
      ]
     },
     "metadata": {},
     "output_type": "display_data"
    },
    {
     "data": {
      "text/html": [],
      "text/plain": [
       "<IPython.core.display.HTML object>"
      ]
     },
     "metadata": {},
     "output_type": "display_data"
    },
    {
     "data": {
      "text/html": [],
      "text/plain": [
       "<IPython.core.display.HTML object>"
      ]
     },
     "metadata": {},
     "output_type": "display_data"
    },
    {
     "data": {
      "text/html": [],
      "text/plain": [
       "<IPython.core.display.HTML object>"
      ]
     },
     "metadata": {},
     "output_type": "display_data"
    },
    {
     "data": {
      "text/html": [],
      "text/plain": [
       "<IPython.core.display.HTML object>"
      ]
     },
     "metadata": {},
     "output_type": "display_data"
    },
    {
     "data": {
      "text/html": [],
      "text/plain": [
       "<IPython.core.display.HTML object>"
      ]
     },
     "metadata": {},
     "output_type": "display_data"
    },
    {
     "data": {
      "text/html": [],
      "text/plain": [
       "<IPython.core.display.HTML object>"
      ]
     },
     "metadata": {},
     "output_type": "display_data"
    },
    {
     "data": {
      "text/html": [],
      "text/plain": [
       "<IPython.core.display.HTML object>"
      ]
     },
     "metadata": {},
     "output_type": "display_data"
    },
    {
     "data": {
      "text/html": [],
      "text/plain": [
       "<IPython.core.display.HTML object>"
      ]
     },
     "metadata": {},
     "output_type": "display_data"
    },
    {
     "data": {
      "text/html": [],
      "text/plain": [
       "<IPython.core.display.HTML object>"
      ]
     },
     "metadata": {},
     "output_type": "display_data"
    },
    {
     "data": {
      "text/html": [],
      "text/plain": [
       "<IPython.core.display.HTML object>"
      ]
     },
     "metadata": {},
     "output_type": "display_data"
    },
    {
     "data": {
      "text/html": [],
      "text/plain": [
       "<IPython.core.display.HTML object>"
      ]
     },
     "metadata": {},
     "output_type": "display_data"
    },
    {
     "data": {
      "text/html": [],
      "text/plain": [
       "<IPython.core.display.HTML object>"
      ]
     },
     "metadata": {},
     "output_type": "display_data"
    },
    {
     "data": {
      "text/html": [],
      "text/plain": [
       "<IPython.core.display.HTML object>"
      ]
     },
     "metadata": {},
     "output_type": "display_data"
    },
    {
     "data": {
      "text/html": [],
      "text/plain": [
       "<IPython.core.display.HTML object>"
      ]
     },
     "metadata": {},
     "output_type": "display_data"
    },
    {
     "data": {
      "text/html": [],
      "text/plain": [
       "<IPython.core.display.HTML object>"
      ]
     },
     "metadata": {},
     "output_type": "display_data"
    },
    {
     "data": {
      "text/html": [],
      "text/plain": [
       "<IPython.core.display.HTML object>"
      ]
     },
     "metadata": {},
     "output_type": "display_data"
    },
    {
     "data": {
      "text/html": [],
      "text/plain": [
       "<IPython.core.display.HTML object>"
      ]
     },
     "metadata": {},
     "output_type": "display_data"
    },
    {
     "data": {
      "text/html": [],
      "text/plain": [
       "<IPython.core.display.HTML object>"
      ]
     },
     "metadata": {},
     "output_type": "display_data"
    },
    {
     "data": {
      "text/html": [],
      "text/plain": [
       "<IPython.core.display.HTML object>"
      ]
     },
     "metadata": {},
     "output_type": "display_data"
    },
    {
     "data": {
      "text/html": [],
      "text/plain": [
       "<IPython.core.display.HTML object>"
      ]
     },
     "metadata": {},
     "output_type": "display_data"
    },
    {
     "data": {
      "text/html": [],
      "text/plain": [
       "<IPython.core.display.HTML object>"
      ]
     },
     "metadata": {},
     "output_type": "display_data"
    },
    {
     "data": {
      "text/html": [],
      "text/plain": [
       "<IPython.core.display.HTML object>"
      ]
     },
     "metadata": {},
     "output_type": "display_data"
    },
    {
     "data": {
      "text/html": [],
      "text/plain": [
       "<IPython.core.display.HTML object>"
      ]
     },
     "metadata": {},
     "output_type": "display_data"
    },
    {
     "data": {
      "text/html": [],
      "text/plain": [
       "<IPython.core.display.HTML object>"
      ]
     },
     "metadata": {},
     "output_type": "display_data"
    },
    {
     "data": {
      "text/html": [],
      "text/plain": [
       "<IPython.core.display.HTML object>"
      ]
     },
     "metadata": {},
     "output_type": "display_data"
    },
    {
     "data": {
      "text/html": [],
      "text/plain": [
       "<IPython.core.display.HTML object>"
      ]
     },
     "metadata": {},
     "output_type": "display_data"
    },
    {
     "data": {
      "text/html": [],
      "text/plain": [
       "<IPython.core.display.HTML object>"
      ]
     },
     "metadata": {},
     "output_type": "display_data"
    },
    {
     "data": {
      "text/html": [],
      "text/plain": [
       "<IPython.core.display.HTML object>"
      ]
     },
     "metadata": {},
     "output_type": "display_data"
    },
    {
     "data": {
      "text/html": [],
      "text/plain": [
       "<IPython.core.display.HTML object>"
      ]
     },
     "metadata": {},
     "output_type": "display_data"
    },
    {
     "data": {
      "text/html": [],
      "text/plain": [
       "<IPython.core.display.HTML object>"
      ]
     },
     "metadata": {},
     "output_type": "display_data"
    },
    {
     "data": {
      "text/html": [],
      "text/plain": [
       "<IPython.core.display.HTML object>"
      ]
     },
     "metadata": {},
     "output_type": "display_data"
    },
    {
     "data": {
      "text/html": [],
      "text/plain": [
       "<IPython.core.display.HTML object>"
      ]
     },
     "metadata": {},
     "output_type": "display_data"
    },
    {
     "data": {
      "text/html": [],
      "text/plain": [
       "<IPython.core.display.HTML object>"
      ]
     },
     "metadata": {},
     "output_type": "display_data"
    },
    {
     "data": {
      "text/html": [],
      "text/plain": [
       "<IPython.core.display.HTML object>"
      ]
     },
     "metadata": {},
     "output_type": "display_data"
    },
    {
     "data": {
      "text/html": [],
      "text/plain": [
       "<IPython.core.display.HTML object>"
      ]
     },
     "metadata": {},
     "output_type": "display_data"
    },
    {
     "data": {
      "text/html": [],
      "text/plain": [
       "<IPython.core.display.HTML object>"
      ]
     },
     "metadata": {},
     "output_type": "display_data"
    },
    {
     "data": {
      "text/html": [],
      "text/plain": [
       "<IPython.core.display.HTML object>"
      ]
     },
     "metadata": {},
     "output_type": "display_data"
    },
    {
     "data": {
      "text/html": [],
      "text/plain": [
       "<IPython.core.display.HTML object>"
      ]
     },
     "metadata": {},
     "output_type": "display_data"
    },
    {
     "data": {
      "text/html": [],
      "text/plain": [
       "<IPython.core.display.HTML object>"
      ]
     },
     "metadata": {},
     "output_type": "display_data"
    },
    {
     "data": {
      "text/html": [],
      "text/plain": [
       "<IPython.core.display.HTML object>"
      ]
     },
     "metadata": {},
     "output_type": "display_data"
    },
    {
     "data": {
      "text/html": [],
      "text/plain": [
       "<IPython.core.display.HTML object>"
      ]
     },
     "metadata": {},
     "output_type": "display_data"
    },
    {
     "data": {
      "text/html": [],
      "text/plain": [
       "<IPython.core.display.HTML object>"
      ]
     },
     "metadata": {},
     "output_type": "display_data"
    },
    {
     "data": {
      "text/html": [],
      "text/plain": [
       "<IPython.core.display.HTML object>"
      ]
     },
     "metadata": {},
     "output_type": "display_data"
    },
    {
     "data": {
      "text/html": [],
      "text/plain": [
       "<IPython.core.display.HTML object>"
      ]
     },
     "metadata": {},
     "output_type": "display_data"
    },
    {
     "data": {
      "text/html": [],
      "text/plain": [
       "<IPython.core.display.HTML object>"
      ]
     },
     "metadata": {},
     "output_type": "display_data"
    },
    {
     "data": {
      "text/html": [],
      "text/plain": [
       "<IPython.core.display.HTML object>"
      ]
     },
     "metadata": {},
     "output_type": "display_data"
    },
    {
     "data": {
      "text/html": [],
      "text/plain": [
       "<IPython.core.display.HTML object>"
      ]
     },
     "metadata": {},
     "output_type": "display_data"
    },
    {
     "data": {
      "text/html": [],
      "text/plain": [
       "<IPython.core.display.HTML object>"
      ]
     },
     "metadata": {},
     "output_type": "display_data"
    },
    {
     "data": {
      "text/html": [],
      "text/plain": [
       "<IPython.core.display.HTML object>"
      ]
     },
     "metadata": {},
     "output_type": "display_data"
    },
    {
     "data": {
      "text/html": [],
      "text/plain": [
       "<IPython.core.display.HTML object>"
      ]
     },
     "metadata": {},
     "output_type": "display_data"
    },
    {
     "data": {
      "text/html": [],
      "text/plain": [
       "<IPython.core.display.HTML object>"
      ]
     },
     "metadata": {},
     "output_type": "display_data"
    },
    {
     "data": {
      "text/html": [],
      "text/plain": [
       "<IPython.core.display.HTML object>"
      ]
     },
     "metadata": {},
     "output_type": "display_data"
    },
    {
     "data": {
      "text/html": [],
      "text/plain": [
       "<IPython.core.display.HTML object>"
      ]
     },
     "metadata": {},
     "output_type": "display_data"
    },
    {
     "data": {
      "text/html": [],
      "text/plain": [
       "<IPython.core.display.HTML object>"
      ]
     },
     "metadata": {},
     "output_type": "display_data"
    },
    {
     "data": {
      "text/html": [],
      "text/plain": [
       "<IPython.core.display.HTML object>"
      ]
     },
     "metadata": {},
     "output_type": "display_data"
    },
    {
     "data": {
      "text/html": [],
      "text/plain": [
       "<IPython.core.display.HTML object>"
      ]
     },
     "metadata": {},
     "output_type": "display_data"
    },
    {
     "data": {
      "text/html": [],
      "text/plain": [
       "<IPython.core.display.HTML object>"
      ]
     },
     "metadata": {},
     "output_type": "display_data"
    },
    {
     "data": {
      "text/html": [],
      "text/plain": [
       "<IPython.core.display.HTML object>"
      ]
     },
     "metadata": {},
     "output_type": "display_data"
    },
    {
     "data": {
      "text/html": [],
      "text/plain": [
       "<IPython.core.display.HTML object>"
      ]
     },
     "metadata": {},
     "output_type": "display_data"
    },
    {
     "data": {
      "text/html": [],
      "text/plain": [
       "<IPython.core.display.HTML object>"
      ]
     },
     "metadata": {},
     "output_type": "display_data"
    },
    {
     "data": {
      "text/html": [],
      "text/plain": [
       "<IPython.core.display.HTML object>"
      ]
     },
     "metadata": {},
     "output_type": "display_data"
    },
    {
     "data": {
      "text/html": [],
      "text/plain": [
       "<IPython.core.display.HTML object>"
      ]
     },
     "metadata": {},
     "output_type": "display_data"
    },
    {
     "data": {
      "text/html": [],
      "text/plain": [
       "<IPython.core.display.HTML object>"
      ]
     },
     "metadata": {},
     "output_type": "display_data"
    },
    {
     "data": {
      "text/html": [],
      "text/plain": [
       "<IPython.core.display.HTML object>"
      ]
     },
     "metadata": {},
     "output_type": "display_data"
    },
    {
     "data": {
      "text/html": [],
      "text/plain": [
       "<IPython.core.display.HTML object>"
      ]
     },
     "metadata": {},
     "output_type": "display_data"
    },
    {
     "data": {
      "text/html": [],
      "text/plain": [
       "<IPython.core.display.HTML object>"
      ]
     },
     "metadata": {},
     "output_type": "display_data"
    },
    {
     "data": {
      "text/html": [],
      "text/plain": [
       "<IPython.core.display.HTML object>"
      ]
     },
     "metadata": {},
     "output_type": "display_data"
    },
    {
     "data": {
      "text/html": [],
      "text/plain": [
       "<IPython.core.display.HTML object>"
      ]
     },
     "metadata": {},
     "output_type": "display_data"
    },
    {
     "data": {
      "text/html": [],
      "text/plain": [
       "<IPython.core.display.HTML object>"
      ]
     },
     "metadata": {},
     "output_type": "display_data"
    },
    {
     "data": {
      "text/html": [],
      "text/plain": [
       "<IPython.core.display.HTML object>"
      ]
     },
     "metadata": {},
     "output_type": "display_data"
    },
    {
     "data": {
      "text/html": [],
      "text/plain": [
       "<IPython.core.display.HTML object>"
      ]
     },
     "metadata": {},
     "output_type": "display_data"
    },
    {
     "data": {
      "text/html": [],
      "text/plain": [
       "<IPython.core.display.HTML object>"
      ]
     },
     "metadata": {},
     "output_type": "display_data"
    },
    {
     "data": {
      "text/html": [],
      "text/plain": [
       "<IPython.core.display.HTML object>"
      ]
     },
     "metadata": {},
     "output_type": "display_data"
    },
    {
     "data": {
      "text/html": [],
      "text/plain": [
       "<IPython.core.display.HTML object>"
      ]
     },
     "metadata": {},
     "output_type": "display_data"
    },
    {
     "data": {
      "text/html": [],
      "text/plain": [
       "<IPython.core.display.HTML object>"
      ]
     },
     "metadata": {},
     "output_type": "display_data"
    },
    {
     "data": {
      "text/html": [],
      "text/plain": [
       "<IPython.core.display.HTML object>"
      ]
     },
     "metadata": {},
     "output_type": "display_data"
    },
    {
     "data": {
      "text/html": [],
      "text/plain": [
       "<IPython.core.display.HTML object>"
      ]
     },
     "metadata": {},
     "output_type": "display_data"
    },
    {
     "data": {
      "text/html": [],
      "text/plain": [
       "<IPython.core.display.HTML object>"
      ]
     },
     "metadata": {},
     "output_type": "display_data"
    },
    {
     "data": {
      "text/html": [],
      "text/plain": [
       "<IPython.core.display.HTML object>"
      ]
     },
     "metadata": {},
     "output_type": "display_data"
    },
    {
     "data": {
      "text/html": [],
      "text/plain": [
       "<IPython.core.display.HTML object>"
      ]
     },
     "metadata": {},
     "output_type": "display_data"
    },
    {
     "data": {
      "text/html": [],
      "text/plain": [
       "<IPython.core.display.HTML object>"
      ]
     },
     "metadata": {},
     "output_type": "display_data"
    },
    {
     "data": {
      "text/html": [],
      "text/plain": [
       "<IPython.core.display.HTML object>"
      ]
     },
     "metadata": {},
     "output_type": "display_data"
    },
    {
     "data": {
      "text/html": [],
      "text/plain": [
       "<IPython.core.display.HTML object>"
      ]
     },
     "metadata": {},
     "output_type": "display_data"
    },
    {
     "data": {
      "text/html": [],
      "text/plain": [
       "<IPython.core.display.HTML object>"
      ]
     },
     "metadata": {},
     "output_type": "display_data"
    },
    {
     "data": {
      "text/html": [],
      "text/plain": [
       "<IPython.core.display.HTML object>"
      ]
     },
     "metadata": {},
     "output_type": "display_data"
    },
    {
     "data": {
      "text/html": [],
      "text/plain": [
       "<IPython.core.display.HTML object>"
      ]
     },
     "metadata": {},
     "output_type": "display_data"
    },
    {
     "data": {
      "text/html": [],
      "text/plain": [
       "<IPython.core.display.HTML object>"
      ]
     },
     "metadata": {},
     "output_type": "display_data"
    },
    {
     "data": {
      "text/html": [],
      "text/plain": [
       "<IPython.core.display.HTML object>"
      ]
     },
     "metadata": {},
     "output_type": "display_data"
    },
    {
     "data": {
      "text/html": [],
      "text/plain": [
       "<IPython.core.display.HTML object>"
      ]
     },
     "metadata": {},
     "output_type": "display_data"
    },
    {
     "data": {
      "text/html": [],
      "text/plain": [
       "<IPython.core.display.HTML object>"
      ]
     },
     "metadata": {},
     "output_type": "display_data"
    },
    {
     "data": {
      "text/html": [],
      "text/plain": [
       "<IPython.core.display.HTML object>"
      ]
     },
     "metadata": {},
     "output_type": "display_data"
    },
    {
     "data": {
      "text/html": [],
      "text/plain": [
       "<IPython.core.display.HTML object>"
      ]
     },
     "metadata": {},
     "output_type": "display_data"
    },
    {
     "data": {
      "text/html": [],
      "text/plain": [
       "<IPython.core.display.HTML object>"
      ]
     },
     "metadata": {},
     "output_type": "display_data"
    },
    {
     "data": {
      "text/html": [],
      "text/plain": [
       "<IPython.core.display.HTML object>"
      ]
     },
     "metadata": {},
     "output_type": "display_data"
    },
    {
     "data": {
      "text/html": [],
      "text/plain": [
       "<IPython.core.display.HTML object>"
      ]
     },
     "metadata": {},
     "output_type": "display_data"
    },
    {
     "data": {
      "text/html": [],
      "text/plain": [
       "<IPython.core.display.HTML object>"
      ]
     },
     "metadata": {},
     "output_type": "display_data"
    },
    {
     "data": {
      "text/html": [],
      "text/plain": [
       "<IPython.core.display.HTML object>"
      ]
     },
     "metadata": {},
     "output_type": "display_data"
    },
    {
     "data": {
      "text/html": [],
      "text/plain": [
       "<IPython.core.display.HTML object>"
      ]
     },
     "metadata": {},
     "output_type": "display_data"
    },
    {
     "data": {
      "text/html": [],
      "text/plain": [
       "<IPython.core.display.HTML object>"
      ]
     },
     "metadata": {},
     "output_type": "display_data"
    },
    {
     "data": {
      "text/html": [],
      "text/plain": [
       "<IPython.core.display.HTML object>"
      ]
     },
     "metadata": {},
     "output_type": "display_data"
    },
    {
     "data": {
      "text/html": [],
      "text/plain": [
       "<IPython.core.display.HTML object>"
      ]
     },
     "metadata": {},
     "output_type": "display_data"
    },
    {
     "data": {
      "text/html": [],
      "text/plain": [
       "<IPython.core.display.HTML object>"
      ]
     },
     "metadata": {},
     "output_type": "display_data"
    },
    {
     "data": {
      "text/html": [],
      "text/plain": [
       "<IPython.core.display.HTML object>"
      ]
     },
     "metadata": {},
     "output_type": "display_data"
    },
    {
     "data": {
      "text/html": [],
      "text/plain": [
       "<IPython.core.display.HTML object>"
      ]
     },
     "metadata": {},
     "output_type": "display_data"
    },
    {
     "data": {
      "text/html": [],
      "text/plain": [
       "<IPython.core.display.HTML object>"
      ]
     },
     "metadata": {},
     "output_type": "display_data"
    },
    {
     "data": {
      "text/html": [],
      "text/plain": [
       "<IPython.core.display.HTML object>"
      ]
     },
     "metadata": {},
     "output_type": "display_data"
    },
    {
     "data": {
      "text/html": [],
      "text/plain": [
       "<IPython.core.display.HTML object>"
      ]
     },
     "metadata": {},
     "output_type": "display_data"
    },
    {
     "data": {
      "text/html": [],
      "text/plain": [
       "<IPython.core.display.HTML object>"
      ]
     },
     "metadata": {},
     "output_type": "display_data"
    },
    {
     "data": {
      "text/html": [],
      "text/plain": [
       "<IPython.core.display.HTML object>"
      ]
     },
     "metadata": {},
     "output_type": "display_data"
    },
    {
     "data": {
      "text/html": [],
      "text/plain": [
       "<IPython.core.display.HTML object>"
      ]
     },
     "metadata": {},
     "output_type": "display_data"
    },
    {
     "data": {
      "text/html": [],
      "text/plain": [
       "<IPython.core.display.HTML object>"
      ]
     },
     "metadata": {},
     "output_type": "display_data"
    },
    {
     "data": {
      "text/html": [],
      "text/plain": [
       "<IPython.core.display.HTML object>"
      ]
     },
     "metadata": {},
     "output_type": "display_data"
    },
    {
     "data": {
      "text/html": [],
      "text/plain": [
       "<IPython.core.display.HTML object>"
      ]
     },
     "metadata": {},
     "output_type": "display_data"
    },
    {
     "data": {
      "text/html": [],
      "text/plain": [
       "<IPython.core.display.HTML object>"
      ]
     },
     "metadata": {},
     "output_type": "display_data"
    },
    {
     "data": {
      "text/html": [],
      "text/plain": [
       "<IPython.core.display.HTML object>"
      ]
     },
     "metadata": {},
     "output_type": "display_data"
    },
    {
     "data": {
      "text/html": [],
      "text/plain": [
       "<IPython.core.display.HTML object>"
      ]
     },
     "metadata": {},
     "output_type": "display_data"
    },
    {
     "data": {
      "text/html": [],
      "text/plain": [
       "<IPython.core.display.HTML object>"
      ]
     },
     "metadata": {},
     "output_type": "display_data"
    },
    {
     "data": {
      "text/html": [],
      "text/plain": [
       "<IPython.core.display.HTML object>"
      ]
     },
     "metadata": {},
     "output_type": "display_data"
    },
    {
     "data": {
      "text/html": [],
      "text/plain": [
       "<IPython.core.display.HTML object>"
      ]
     },
     "metadata": {},
     "output_type": "display_data"
    },
    {
     "data": {
      "text/html": [],
      "text/plain": [
       "<IPython.core.display.HTML object>"
      ]
     },
     "metadata": {},
     "output_type": "display_data"
    },
    {
     "data": {
      "text/html": [],
      "text/plain": [
       "<IPython.core.display.HTML object>"
      ]
     },
     "metadata": {},
     "output_type": "display_data"
    },
    {
     "data": {
      "text/html": [],
      "text/plain": [
       "<IPython.core.display.HTML object>"
      ]
     },
     "metadata": {},
     "output_type": "display_data"
    },
    {
     "data": {
      "text/html": [],
      "text/plain": [
       "<IPython.core.display.HTML object>"
      ]
     },
     "metadata": {},
     "output_type": "display_data"
    },
    {
     "data": {
      "text/html": [],
      "text/plain": [
       "<IPython.core.display.HTML object>"
      ]
     },
     "metadata": {},
     "output_type": "display_data"
    },
    {
     "data": {
      "text/html": [],
      "text/plain": [
       "<IPython.core.display.HTML object>"
      ]
     },
     "metadata": {},
     "output_type": "display_data"
    },
    {
     "data": {
      "text/html": [],
      "text/plain": [
       "<IPython.core.display.HTML object>"
      ]
     },
     "metadata": {},
     "output_type": "display_data"
    },
    {
     "data": {
      "text/html": [],
      "text/plain": [
       "<IPython.core.display.HTML object>"
      ]
     },
     "metadata": {},
     "output_type": "display_data"
    },
    {
     "data": {
      "text/html": [],
      "text/plain": [
       "<IPython.core.display.HTML object>"
      ]
     },
     "metadata": {},
     "output_type": "display_data"
    },
    {
     "data": {
      "text/html": [],
      "text/plain": [
       "<IPython.core.display.HTML object>"
      ]
     },
     "metadata": {},
     "output_type": "display_data"
    },
    {
     "data": {
      "text/html": [],
      "text/plain": [
       "<IPython.core.display.HTML object>"
      ]
     },
     "metadata": {},
     "output_type": "display_data"
    },
    {
     "data": {
      "text/html": [],
      "text/plain": [
       "<IPython.core.display.HTML object>"
      ]
     },
     "metadata": {},
     "output_type": "display_data"
    },
    {
     "data": {
      "text/html": [],
      "text/plain": [
       "<IPython.core.display.HTML object>"
      ]
     },
     "metadata": {},
     "output_type": "display_data"
    },
    {
     "data": {
      "text/html": [],
      "text/plain": [
       "<IPython.core.display.HTML object>"
      ]
     },
     "metadata": {},
     "output_type": "display_data"
    },
    {
     "data": {
      "text/html": [],
      "text/plain": [
       "<IPython.core.display.HTML object>"
      ]
     },
     "metadata": {},
     "output_type": "display_data"
    },
    {
     "data": {
      "text/html": [],
      "text/plain": [
       "<IPython.core.display.HTML object>"
      ]
     },
     "metadata": {},
     "output_type": "display_data"
    },
    {
     "data": {
      "text/html": [],
      "text/plain": [
       "<IPython.core.display.HTML object>"
      ]
     },
     "metadata": {},
     "output_type": "display_data"
    },
    {
     "data": {
      "text/html": [],
      "text/plain": [
       "<IPython.core.display.HTML object>"
      ]
     },
     "metadata": {},
     "output_type": "display_data"
    },
    {
     "data": {
      "text/html": [],
      "text/plain": [
       "<IPython.core.display.HTML object>"
      ]
     },
     "metadata": {},
     "output_type": "display_data"
    },
    {
     "data": {
      "text/html": [],
      "text/plain": [
       "<IPython.core.display.HTML object>"
      ]
     },
     "metadata": {},
     "output_type": "display_data"
    },
    {
     "data": {
      "text/html": [],
      "text/plain": [
       "<IPython.core.display.HTML object>"
      ]
     },
     "metadata": {},
     "output_type": "display_data"
    },
    {
     "data": {
      "text/html": [],
      "text/plain": [
       "<IPython.core.display.HTML object>"
      ]
     },
     "metadata": {},
     "output_type": "display_data"
    },
    {
     "data": {
      "text/html": [],
      "text/plain": [
       "<IPython.core.display.HTML object>"
      ]
     },
     "metadata": {},
     "output_type": "display_data"
    },
    {
     "data": {
      "text/html": [],
      "text/plain": [
       "<IPython.core.display.HTML object>"
      ]
     },
     "metadata": {},
     "output_type": "display_data"
    },
    {
     "data": {
      "text/html": [],
      "text/plain": [
       "<IPython.core.display.HTML object>"
      ]
     },
     "metadata": {},
     "output_type": "display_data"
    },
    {
     "data": {
      "text/html": [],
      "text/plain": [
       "<IPython.core.display.HTML object>"
      ]
     },
     "metadata": {},
     "output_type": "display_data"
    },
    {
     "data": {
      "text/html": [],
      "text/plain": [
       "<IPython.core.display.HTML object>"
      ]
     },
     "metadata": {},
     "output_type": "display_data"
    },
    {
     "data": {
      "text/html": [],
      "text/plain": [
       "<IPython.core.display.HTML object>"
      ]
     },
     "metadata": {},
     "output_type": "display_data"
    },
    {
     "data": {
      "text/html": [],
      "text/plain": [
       "<IPython.core.display.HTML object>"
      ]
     },
     "metadata": {},
     "output_type": "display_data"
    },
    {
     "data": {
      "text/html": [],
      "text/plain": [
       "<IPython.core.display.HTML object>"
      ]
     },
     "metadata": {},
     "output_type": "display_data"
    },
    {
     "data": {
      "text/html": [],
      "text/plain": [
       "<IPython.core.display.HTML object>"
      ]
     },
     "metadata": {},
     "output_type": "display_data"
    },
    {
     "data": {
      "text/html": [],
      "text/plain": [
       "<IPython.core.display.HTML object>"
      ]
     },
     "metadata": {},
     "output_type": "display_data"
    },
    {
     "data": {
      "text/html": [],
      "text/plain": [
       "<IPython.core.display.HTML object>"
      ]
     },
     "metadata": {},
     "output_type": "display_data"
    },
    {
     "data": {
      "text/html": [],
      "text/plain": [
       "<IPython.core.display.HTML object>"
      ]
     },
     "metadata": {},
     "output_type": "display_data"
    },
    {
     "data": {
      "text/html": [],
      "text/plain": [
       "<IPython.core.display.HTML object>"
      ]
     },
     "metadata": {},
     "output_type": "display_data"
    },
    {
     "data": {
      "text/html": [],
      "text/plain": [
       "<IPython.core.display.HTML object>"
      ]
     },
     "metadata": {},
     "output_type": "display_data"
    },
    {
     "data": {
      "text/html": [],
      "text/plain": [
       "<IPython.core.display.HTML object>"
      ]
     },
     "metadata": {},
     "output_type": "display_data"
    },
    {
     "data": {
      "text/html": [],
      "text/plain": [
       "<IPython.core.display.HTML object>"
      ]
     },
     "metadata": {},
     "output_type": "display_data"
    },
    {
     "data": {
      "text/html": [],
      "text/plain": [
       "<IPython.core.display.HTML object>"
      ]
     },
     "metadata": {},
     "output_type": "display_data"
    },
    {
     "data": {
      "text/html": [],
      "text/plain": [
       "<IPython.core.display.HTML object>"
      ]
     },
     "metadata": {},
     "output_type": "display_data"
    },
    {
     "data": {
      "text/html": [],
      "text/plain": [
       "<IPython.core.display.HTML object>"
      ]
     },
     "metadata": {},
     "output_type": "display_data"
    },
    {
     "data": {
      "text/html": [],
      "text/plain": [
       "<IPython.core.display.HTML object>"
      ]
     },
     "metadata": {},
     "output_type": "display_data"
    },
    {
     "data": {
      "text/html": [],
      "text/plain": [
       "<IPython.core.display.HTML object>"
      ]
     },
     "metadata": {},
     "output_type": "display_data"
    },
    {
     "data": {
      "text/html": [],
      "text/plain": [
       "<IPython.core.display.HTML object>"
      ]
     },
     "metadata": {},
     "output_type": "display_data"
    },
    {
     "data": {
      "text/html": [],
      "text/plain": [
       "<IPython.core.display.HTML object>"
      ]
     },
     "metadata": {},
     "output_type": "display_data"
    },
    {
     "data": {
      "text/html": [],
      "text/plain": [
       "<IPython.core.display.HTML object>"
      ]
     },
     "metadata": {},
     "output_type": "display_data"
    },
    {
     "data": {
      "text/html": [],
      "text/plain": [
       "<IPython.core.display.HTML object>"
      ]
     },
     "metadata": {},
     "output_type": "display_data"
    },
    {
     "data": {
      "text/html": [],
      "text/plain": [
       "<IPython.core.display.HTML object>"
      ]
     },
     "metadata": {},
     "output_type": "display_data"
    },
    {
     "data": {
      "text/html": [],
      "text/plain": [
       "<IPython.core.display.HTML object>"
      ]
     },
     "metadata": {},
     "output_type": "display_data"
    },
    {
     "data": {
      "text/html": [],
      "text/plain": [
       "<IPython.core.display.HTML object>"
      ]
     },
     "metadata": {},
     "output_type": "display_data"
    },
    {
     "data": {
      "text/html": [],
      "text/plain": [
       "<IPython.core.display.HTML object>"
      ]
     },
     "metadata": {},
     "output_type": "display_data"
    },
    {
     "data": {
      "text/html": [],
      "text/plain": [
       "<IPython.core.display.HTML object>"
      ]
     },
     "metadata": {},
     "output_type": "display_data"
    },
    {
     "data": {
      "text/html": [],
      "text/plain": [
       "<IPython.core.display.HTML object>"
      ]
     },
     "metadata": {},
     "output_type": "display_data"
    },
    {
     "data": {
      "text/html": [],
      "text/plain": [
       "<IPython.core.display.HTML object>"
      ]
     },
     "metadata": {},
     "output_type": "display_data"
    },
    {
     "data": {
      "text/html": [],
      "text/plain": [
       "<IPython.core.display.HTML object>"
      ]
     },
     "metadata": {},
     "output_type": "display_data"
    },
    {
     "data": {
      "text/html": [],
      "text/plain": [
       "<IPython.core.display.HTML object>"
      ]
     },
     "metadata": {},
     "output_type": "display_data"
    },
    {
     "data": {
      "text/html": [],
      "text/plain": [
       "<IPython.core.display.HTML object>"
      ]
     },
     "metadata": {},
     "output_type": "display_data"
    },
    {
     "data": {
      "text/html": [],
      "text/plain": [
       "<IPython.core.display.HTML object>"
      ]
     },
     "metadata": {},
     "output_type": "display_data"
    },
    {
     "data": {
      "text/html": [],
      "text/plain": [
       "<IPython.core.display.HTML object>"
      ]
     },
     "metadata": {},
     "output_type": "display_data"
    },
    {
     "data": {
      "text/html": [],
      "text/plain": [
       "<IPython.core.display.HTML object>"
      ]
     },
     "metadata": {},
     "output_type": "display_data"
    },
    {
     "data": {
      "text/html": [],
      "text/plain": [
       "<IPython.core.display.HTML object>"
      ]
     },
     "metadata": {},
     "output_type": "display_data"
    },
    {
     "data": {
      "text/html": [],
      "text/plain": [
       "<IPython.core.display.HTML object>"
      ]
     },
     "metadata": {},
     "output_type": "display_data"
    },
    {
     "data": {
      "text/html": [],
      "text/plain": [
       "<IPython.core.display.HTML object>"
      ]
     },
     "metadata": {},
     "output_type": "display_data"
    },
    {
     "data": {
      "text/html": [],
      "text/plain": [
       "<IPython.core.display.HTML object>"
      ]
     },
     "metadata": {},
     "output_type": "display_data"
    },
    {
     "data": {
      "text/html": [],
      "text/plain": [
       "<IPython.core.display.HTML object>"
      ]
     },
     "metadata": {},
     "output_type": "display_data"
    },
    {
     "data": {
      "text/html": [],
      "text/plain": [
       "<IPython.core.display.HTML object>"
      ]
     },
     "metadata": {},
     "output_type": "display_data"
    },
    {
     "data": {
      "text/html": [],
      "text/plain": [
       "<IPython.core.display.HTML object>"
      ]
     },
     "metadata": {},
     "output_type": "display_data"
    },
    {
     "data": {
      "text/html": [],
      "text/plain": [
       "<IPython.core.display.HTML object>"
      ]
     },
     "metadata": {},
     "output_type": "display_data"
    },
    {
     "data": {
      "text/html": [],
      "text/plain": [
       "<IPython.core.display.HTML object>"
      ]
     },
     "metadata": {},
     "output_type": "display_data"
    },
    {
     "data": {
      "text/html": [],
      "text/plain": [
       "<IPython.core.display.HTML object>"
      ]
     },
     "metadata": {},
     "output_type": "display_data"
    },
    {
     "data": {
      "text/html": [],
      "text/plain": [
       "<IPython.core.display.HTML object>"
      ]
     },
     "metadata": {},
     "output_type": "display_data"
    },
    {
     "data": {
      "text/html": [],
      "text/plain": [
       "<IPython.core.display.HTML object>"
      ]
     },
     "metadata": {},
     "output_type": "display_data"
    },
    {
     "data": {
      "text/html": [],
      "text/plain": [
       "<IPython.core.display.HTML object>"
      ]
     },
     "metadata": {},
     "output_type": "display_data"
    },
    {
     "data": {
      "text/html": [],
      "text/plain": [
       "<IPython.core.display.HTML object>"
      ]
     },
     "metadata": {},
     "output_type": "display_data"
    },
    {
     "data": {
      "text/html": [],
      "text/plain": [
       "<IPython.core.display.HTML object>"
      ]
     },
     "metadata": {},
     "output_type": "display_data"
    },
    {
     "data": {
      "text/html": [],
      "text/plain": [
       "<IPython.core.display.HTML object>"
      ]
     },
     "metadata": {},
     "output_type": "display_data"
    },
    {
     "data": {
      "text/html": [],
      "text/plain": [
       "<IPython.core.display.HTML object>"
      ]
     },
     "metadata": {},
     "output_type": "display_data"
    },
    {
     "data": {
      "text/html": [],
      "text/plain": [
       "<IPython.core.display.HTML object>"
      ]
     },
     "metadata": {},
     "output_type": "display_data"
    },
    {
     "data": {
      "text/html": [],
      "text/plain": [
       "<IPython.core.display.HTML object>"
      ]
     },
     "metadata": {},
     "output_type": "display_data"
    },
    {
     "data": {
      "text/html": [],
      "text/plain": [
       "<IPython.core.display.HTML object>"
      ]
     },
     "metadata": {},
     "output_type": "display_data"
    },
    {
     "data": {
      "text/html": [],
      "text/plain": [
       "<IPython.core.display.HTML object>"
      ]
     },
     "metadata": {},
     "output_type": "display_data"
    },
    {
     "data": {
      "text/html": [],
      "text/plain": [
       "<IPython.core.display.HTML object>"
      ]
     },
     "metadata": {},
     "output_type": "display_data"
    },
    {
     "data": {
      "text/html": [],
      "text/plain": [
       "<IPython.core.display.HTML object>"
      ]
     },
     "metadata": {},
     "output_type": "display_data"
    },
    {
     "data": {
      "text/html": [],
      "text/plain": [
       "<IPython.core.display.HTML object>"
      ]
     },
     "metadata": {},
     "output_type": "display_data"
    },
    {
     "data": {
      "text/html": [],
      "text/plain": [
       "<IPython.core.display.HTML object>"
      ]
     },
     "metadata": {},
     "output_type": "display_data"
    },
    {
     "data": {
      "text/html": [],
      "text/plain": [
       "<IPython.core.display.HTML object>"
      ]
     },
     "metadata": {},
     "output_type": "display_data"
    },
    {
     "data": {
      "text/html": [],
      "text/plain": [
       "<IPython.core.display.HTML object>"
      ]
     },
     "metadata": {},
     "output_type": "display_data"
    },
    {
     "data": {
      "text/html": [],
      "text/plain": [
       "<IPython.core.display.HTML object>"
      ]
     },
     "metadata": {},
     "output_type": "display_data"
    },
    {
     "data": {
      "text/html": [],
      "text/plain": [
       "<IPython.core.display.HTML object>"
      ]
     },
     "metadata": {},
     "output_type": "display_data"
    },
    {
     "data": {
      "text/html": [],
      "text/plain": [
       "<IPython.core.display.HTML object>"
      ]
     },
     "metadata": {},
     "output_type": "display_data"
    },
    {
     "data": {
      "text/html": [],
      "text/plain": [
       "<IPython.core.display.HTML object>"
      ]
     },
     "metadata": {},
     "output_type": "display_data"
    },
    {
     "data": {
      "text/html": [],
      "text/plain": [
       "<IPython.core.display.HTML object>"
      ]
     },
     "metadata": {},
     "output_type": "display_data"
    },
    {
     "data": {
      "text/html": [],
      "text/plain": [
       "<IPython.core.display.HTML object>"
      ]
     },
     "metadata": {},
     "output_type": "display_data"
    },
    {
     "data": {
      "text/html": [],
      "text/plain": [
       "<IPython.core.display.HTML object>"
      ]
     },
     "metadata": {},
     "output_type": "display_data"
    },
    {
     "data": {
      "text/html": [],
      "text/plain": [
       "<IPython.core.display.HTML object>"
      ]
     },
     "metadata": {},
     "output_type": "display_data"
    },
    {
     "data": {
      "text/html": [],
      "text/plain": [
       "<IPython.core.display.HTML object>"
      ]
     },
     "metadata": {},
     "output_type": "display_data"
    },
    {
     "data": {
      "text/html": [],
      "text/plain": [
       "<IPython.core.display.HTML object>"
      ]
     },
     "metadata": {},
     "output_type": "display_data"
    },
    {
     "data": {
      "text/html": [],
      "text/plain": [
       "<IPython.core.display.HTML object>"
      ]
     },
     "metadata": {},
     "output_type": "display_data"
    },
    {
     "data": {
      "text/html": [],
      "text/plain": [
       "<IPython.core.display.HTML object>"
      ]
     },
     "metadata": {},
     "output_type": "display_data"
    },
    {
     "data": {
      "text/html": [],
      "text/plain": [
       "<IPython.core.display.HTML object>"
      ]
     },
     "metadata": {},
     "output_type": "display_data"
    },
    {
     "data": {
      "text/html": [],
      "text/plain": [
       "<IPython.core.display.HTML object>"
      ]
     },
     "metadata": {},
     "output_type": "display_data"
    },
    {
     "data": {
      "text/html": [],
      "text/plain": [
       "<IPython.core.display.HTML object>"
      ]
     },
     "metadata": {},
     "output_type": "display_data"
    },
    {
     "data": {
      "text/html": [],
      "text/plain": [
       "<IPython.core.display.HTML object>"
      ]
     },
     "metadata": {},
     "output_type": "display_data"
    },
    {
     "data": {
      "text/html": [],
      "text/plain": [
       "<IPython.core.display.HTML object>"
      ]
     },
     "metadata": {},
     "output_type": "display_data"
    },
    {
     "data": {
      "text/html": [],
      "text/plain": [
       "<IPython.core.display.HTML object>"
      ]
     },
     "metadata": {},
     "output_type": "display_data"
    },
    {
     "data": {
      "text/html": [],
      "text/plain": [
       "<IPython.core.display.HTML object>"
      ]
     },
     "metadata": {},
     "output_type": "display_data"
    },
    {
     "data": {
      "text/html": [],
      "text/plain": [
       "<IPython.core.display.HTML object>"
      ]
     },
     "metadata": {},
     "output_type": "display_data"
    },
    {
     "data": {
      "text/html": [],
      "text/plain": [
       "<IPython.core.display.HTML object>"
      ]
     },
     "metadata": {},
     "output_type": "display_data"
    },
    {
     "data": {
      "text/html": [],
      "text/plain": [
       "<IPython.core.display.HTML object>"
      ]
     },
     "metadata": {},
     "output_type": "display_data"
    },
    {
     "data": {
      "text/html": [],
      "text/plain": [
       "<IPython.core.display.HTML object>"
      ]
     },
     "metadata": {},
     "output_type": "display_data"
    },
    {
     "data": {
      "text/html": [],
      "text/plain": [
       "<IPython.core.display.HTML object>"
      ]
     },
     "metadata": {},
     "output_type": "display_data"
    },
    {
     "data": {
      "text/html": [],
      "text/plain": [
       "<IPython.core.display.HTML object>"
      ]
     },
     "metadata": {},
     "output_type": "display_data"
    },
    {
     "data": {
      "text/html": [],
      "text/plain": [
       "<IPython.core.display.HTML object>"
      ]
     },
     "metadata": {},
     "output_type": "display_data"
    },
    {
     "data": {
      "text/html": [],
      "text/plain": [
       "<IPython.core.display.HTML object>"
      ]
     },
     "metadata": {},
     "output_type": "display_data"
    },
    {
     "data": {
      "text/html": [],
      "text/plain": [
       "<IPython.core.display.HTML object>"
      ]
     },
     "metadata": {},
     "output_type": "display_data"
    },
    {
     "data": {
      "text/html": [],
      "text/plain": [
       "<IPython.core.display.HTML object>"
      ]
     },
     "metadata": {},
     "output_type": "display_data"
    },
    {
     "data": {
      "text/html": [],
      "text/plain": [
       "<IPython.core.display.HTML object>"
      ]
     },
     "metadata": {},
     "output_type": "display_data"
    },
    {
     "data": {
      "text/html": [],
      "text/plain": [
       "<IPython.core.display.HTML object>"
      ]
     },
     "metadata": {},
     "output_type": "display_data"
    },
    {
     "data": {
      "text/html": [],
      "text/plain": [
       "<IPython.core.display.HTML object>"
      ]
     },
     "metadata": {},
     "output_type": "display_data"
    },
    {
     "data": {
      "text/html": [],
      "text/plain": [
       "<IPython.core.display.HTML object>"
      ]
     },
     "metadata": {},
     "output_type": "display_data"
    },
    {
     "data": {
      "text/html": [],
      "text/plain": [
       "<IPython.core.display.HTML object>"
      ]
     },
     "metadata": {},
     "output_type": "display_data"
    },
    {
     "data": {
      "text/html": [],
      "text/plain": [
       "<IPython.core.display.HTML object>"
      ]
     },
     "metadata": {},
     "output_type": "display_data"
    },
    {
     "data": {
      "text/html": [],
      "text/plain": [
       "<IPython.core.display.HTML object>"
      ]
     },
     "metadata": {},
     "output_type": "display_data"
    },
    {
     "data": {
      "text/html": [],
      "text/plain": [
       "<IPython.core.display.HTML object>"
      ]
     },
     "metadata": {},
     "output_type": "display_data"
    },
    {
     "data": {
      "text/html": [],
      "text/plain": [
       "<IPython.core.display.HTML object>"
      ]
     },
     "metadata": {},
     "output_type": "display_data"
    },
    {
     "data": {
      "text/html": [],
      "text/plain": [
       "<IPython.core.display.HTML object>"
      ]
     },
     "metadata": {},
     "output_type": "display_data"
    },
    {
     "data": {
      "text/html": [],
      "text/plain": [
       "<IPython.core.display.HTML object>"
      ]
     },
     "metadata": {},
     "output_type": "display_data"
    },
    {
     "data": {
      "text/html": [],
      "text/plain": [
       "<IPython.core.display.HTML object>"
      ]
     },
     "metadata": {},
     "output_type": "display_data"
    },
    {
     "data": {
      "text/html": [],
      "text/plain": [
       "<IPython.core.display.HTML object>"
      ]
     },
     "metadata": {},
     "output_type": "display_data"
    },
    {
     "data": {
      "text/html": [],
      "text/plain": [
       "<IPython.core.display.HTML object>"
      ]
     },
     "metadata": {},
     "output_type": "display_data"
    },
    {
     "data": {
      "text/html": [],
      "text/plain": [
       "<IPython.core.display.HTML object>"
      ]
     },
     "metadata": {},
     "output_type": "display_data"
    },
    {
     "data": {
      "text/html": [],
      "text/plain": [
       "<IPython.core.display.HTML object>"
      ]
     },
     "metadata": {},
     "output_type": "display_data"
    },
    {
     "data": {
      "text/html": [],
      "text/plain": [
       "<IPython.core.display.HTML object>"
      ]
     },
     "metadata": {},
     "output_type": "display_data"
    },
    {
     "data": {
      "text/html": [],
      "text/plain": [
       "<IPython.core.display.HTML object>"
      ]
     },
     "metadata": {},
     "output_type": "display_data"
    },
    {
     "data": {
      "text/html": [],
      "text/plain": [
       "<IPython.core.display.HTML object>"
      ]
     },
     "metadata": {},
     "output_type": "display_data"
    },
    {
     "data": {
      "text/html": [],
      "text/plain": [
       "<IPython.core.display.HTML object>"
      ]
     },
     "metadata": {},
     "output_type": "display_data"
    },
    {
     "data": {
      "text/html": [],
      "text/plain": [
       "<IPython.core.display.HTML object>"
      ]
     },
     "metadata": {},
     "output_type": "display_data"
    },
    {
     "data": {
      "text/html": [],
      "text/plain": [
       "<IPython.core.display.HTML object>"
      ]
     },
     "metadata": {},
     "output_type": "display_data"
    },
    {
     "data": {
      "text/html": [],
      "text/plain": [
       "<IPython.core.display.HTML object>"
      ]
     },
     "metadata": {},
     "output_type": "display_data"
    },
    {
     "data": {
      "text/html": [],
      "text/plain": [
       "<IPython.core.display.HTML object>"
      ]
     },
     "metadata": {},
     "output_type": "display_data"
    },
    {
     "data": {
      "text/html": [],
      "text/plain": [
       "<IPython.core.display.HTML object>"
      ]
     },
     "metadata": {},
     "output_type": "display_data"
    },
    {
     "data": {
      "text/html": [],
      "text/plain": [
       "<IPython.core.display.HTML object>"
      ]
     },
     "metadata": {},
     "output_type": "display_data"
    },
    {
     "data": {
      "text/html": [],
      "text/plain": [
       "<IPython.core.display.HTML object>"
      ]
     },
     "metadata": {},
     "output_type": "display_data"
    },
    {
     "data": {
      "text/html": [],
      "text/plain": [
       "<IPython.core.display.HTML object>"
      ]
     },
     "metadata": {},
     "output_type": "display_data"
    },
    {
     "data": {
      "text/html": [],
      "text/plain": [
       "<IPython.core.display.HTML object>"
      ]
     },
     "metadata": {},
     "output_type": "display_data"
    },
    {
     "data": {
      "text/html": [],
      "text/plain": [
       "<IPython.core.display.HTML object>"
      ]
     },
     "metadata": {},
     "output_type": "display_data"
    },
    {
     "data": {
      "text/html": [],
      "text/plain": [
       "<IPython.core.display.HTML object>"
      ]
     },
     "metadata": {},
     "output_type": "display_data"
    },
    {
     "data": {
      "text/html": [],
      "text/plain": [
       "<IPython.core.display.HTML object>"
      ]
     },
     "metadata": {},
     "output_type": "display_data"
    },
    {
     "data": {
      "text/html": [],
      "text/plain": [
       "<IPython.core.display.HTML object>"
      ]
     },
     "metadata": {},
     "output_type": "display_data"
    },
    {
     "data": {
      "text/html": [],
      "text/plain": [
       "<IPython.core.display.HTML object>"
      ]
     },
     "metadata": {},
     "output_type": "display_data"
    },
    {
     "data": {
      "text/html": [],
      "text/plain": [
       "<IPython.core.display.HTML object>"
      ]
     },
     "metadata": {},
     "output_type": "display_data"
    },
    {
     "data": {
      "text/html": [],
      "text/plain": [
       "<IPython.core.display.HTML object>"
      ]
     },
     "metadata": {},
     "output_type": "display_data"
    },
    {
     "data": {
      "text/html": [],
      "text/plain": [
       "<IPython.core.display.HTML object>"
      ]
     },
     "metadata": {},
     "output_type": "display_data"
    },
    {
     "data": {
      "text/html": [],
      "text/plain": [
       "<IPython.core.display.HTML object>"
      ]
     },
     "metadata": {},
     "output_type": "display_data"
    },
    {
     "data": {
      "text/html": [],
      "text/plain": [
       "<IPython.core.display.HTML object>"
      ]
     },
     "metadata": {},
     "output_type": "display_data"
    },
    {
     "data": {
      "text/html": [],
      "text/plain": [
       "<IPython.core.display.HTML object>"
      ]
     },
     "metadata": {},
     "output_type": "display_data"
    },
    {
     "data": {
      "text/html": [],
      "text/plain": [
       "<IPython.core.display.HTML object>"
      ]
     },
     "metadata": {},
     "output_type": "display_data"
    },
    {
     "data": {
      "text/html": [],
      "text/plain": [
       "<IPython.core.display.HTML object>"
      ]
     },
     "metadata": {},
     "output_type": "display_data"
    },
    {
     "data": {
      "text/html": [],
      "text/plain": [
       "<IPython.core.display.HTML object>"
      ]
     },
     "metadata": {},
     "output_type": "display_data"
    },
    {
     "data": {
      "text/html": [],
      "text/plain": [
       "<IPython.core.display.HTML object>"
      ]
     },
     "metadata": {},
     "output_type": "display_data"
    },
    {
     "data": {
      "text/html": [],
      "text/plain": [
       "<IPython.core.display.HTML object>"
      ]
     },
     "metadata": {},
     "output_type": "display_data"
    },
    {
     "data": {
      "text/html": [],
      "text/plain": [
       "<IPython.core.display.HTML object>"
      ]
     },
     "metadata": {},
     "output_type": "display_data"
    },
    {
     "data": {
      "text/html": [],
      "text/plain": [
       "<IPython.core.display.HTML object>"
      ]
     },
     "metadata": {},
     "output_type": "display_data"
    },
    {
     "data": {
      "text/html": [],
      "text/plain": [
       "<IPython.core.display.HTML object>"
      ]
     },
     "metadata": {},
     "output_type": "display_data"
    },
    {
     "data": {
      "text/html": [],
      "text/plain": [
       "<IPython.core.display.HTML object>"
      ]
     },
     "metadata": {},
     "output_type": "display_data"
    },
    {
     "data": {
      "text/html": [],
      "text/plain": [
       "<IPython.core.display.HTML object>"
      ]
     },
     "metadata": {},
     "output_type": "display_data"
    },
    {
     "data": {
      "text/html": [],
      "text/plain": [
       "<IPython.core.display.HTML object>"
      ]
     },
     "metadata": {},
     "output_type": "display_data"
    },
    {
     "data": {
      "text/html": [],
      "text/plain": [
       "<IPython.core.display.HTML object>"
      ]
     },
     "metadata": {},
     "output_type": "display_data"
    },
    {
     "data": {
      "text/html": [],
      "text/plain": [
       "<IPython.core.display.HTML object>"
      ]
     },
     "metadata": {},
     "output_type": "display_data"
    },
    {
     "data": {
      "text/html": [],
      "text/plain": [
       "<IPython.core.display.HTML object>"
      ]
     },
     "metadata": {},
     "output_type": "display_data"
    },
    {
     "data": {
      "text/html": [],
      "text/plain": [
       "<IPython.core.display.HTML object>"
      ]
     },
     "metadata": {},
     "output_type": "display_data"
    },
    {
     "data": {
      "text/html": [],
      "text/plain": [
       "<IPython.core.display.HTML object>"
      ]
     },
     "metadata": {},
     "output_type": "display_data"
    },
    {
     "data": {
      "text/html": [],
      "text/plain": [
       "<IPython.core.display.HTML object>"
      ]
     },
     "metadata": {},
     "output_type": "display_data"
    },
    {
     "data": {
      "text/html": [],
      "text/plain": [
       "<IPython.core.display.HTML object>"
      ]
     },
     "metadata": {},
     "output_type": "display_data"
    },
    {
     "data": {
      "text/html": [],
      "text/plain": [
       "<IPython.core.display.HTML object>"
      ]
     },
     "metadata": {},
     "output_type": "display_data"
    },
    {
     "data": {
      "text/html": [],
      "text/plain": [
       "<IPython.core.display.HTML object>"
      ]
     },
     "metadata": {},
     "output_type": "display_data"
    },
    {
     "data": {
      "text/html": [],
      "text/plain": [
       "<IPython.core.display.HTML object>"
      ]
     },
     "metadata": {},
     "output_type": "display_data"
    },
    {
     "data": {
      "text/html": [],
      "text/plain": [
       "<IPython.core.display.HTML object>"
      ]
     },
     "metadata": {},
     "output_type": "display_data"
    },
    {
     "data": {
      "text/html": [],
      "text/plain": [
       "<IPython.core.display.HTML object>"
      ]
     },
     "metadata": {},
     "output_type": "display_data"
    },
    {
     "data": {
      "text/html": [],
      "text/plain": [
       "<IPython.core.display.HTML object>"
      ]
     },
     "metadata": {},
     "output_type": "display_data"
    },
    {
     "data": {
      "text/html": [],
      "text/plain": [
       "<IPython.core.display.HTML object>"
      ]
     },
     "metadata": {},
     "output_type": "display_data"
    },
    {
     "data": {
      "text/html": [],
      "text/plain": [
       "<IPython.core.display.HTML object>"
      ]
     },
     "metadata": {},
     "output_type": "display_data"
    },
    {
     "data": {
      "text/html": [],
      "text/plain": [
       "<IPython.core.display.HTML object>"
      ]
     },
     "metadata": {},
     "output_type": "display_data"
    },
    {
     "data": {
      "text/html": [],
      "text/plain": [
       "<IPython.core.display.HTML object>"
      ]
     },
     "metadata": {},
     "output_type": "display_data"
    },
    {
     "data": {
      "text/html": [],
      "text/plain": [
       "<IPython.core.display.HTML object>"
      ]
     },
     "metadata": {},
     "output_type": "display_data"
    },
    {
     "data": {
      "text/html": [],
      "text/plain": [
       "<IPython.core.display.HTML object>"
      ]
     },
     "metadata": {},
     "output_type": "display_data"
    },
    {
     "data": {
      "text/html": [],
      "text/plain": [
       "<IPython.core.display.HTML object>"
      ]
     },
     "metadata": {},
     "output_type": "display_data"
    },
    {
     "data": {
      "text/html": [],
      "text/plain": [
       "<IPython.core.display.HTML object>"
      ]
     },
     "metadata": {},
     "output_type": "display_data"
    },
    {
     "data": {
      "text/html": [],
      "text/plain": [
       "<IPython.core.display.HTML object>"
      ]
     },
     "metadata": {},
     "output_type": "display_data"
    },
    {
     "data": {
      "text/html": [],
      "text/plain": [
       "<IPython.core.display.HTML object>"
      ]
     },
     "metadata": {},
     "output_type": "display_data"
    },
    {
     "data": {
      "text/html": [],
      "text/plain": [
       "<IPython.core.display.HTML object>"
      ]
     },
     "metadata": {},
     "output_type": "display_data"
    },
    {
     "data": {
      "text/html": [],
      "text/plain": [
       "<IPython.core.display.HTML object>"
      ]
     },
     "metadata": {},
     "output_type": "display_data"
    },
    {
     "data": {
      "text/html": [],
      "text/plain": [
       "<IPython.core.display.HTML object>"
      ]
     },
     "metadata": {},
     "output_type": "display_data"
    },
    {
     "data": {
      "text/html": [],
      "text/plain": [
       "<IPython.core.display.HTML object>"
      ]
     },
     "metadata": {},
     "output_type": "display_data"
    },
    {
     "data": {
      "text/html": [],
      "text/plain": [
       "<IPython.core.display.HTML object>"
      ]
     },
     "metadata": {},
     "output_type": "display_data"
    },
    {
     "data": {
      "text/html": [],
      "text/plain": [
       "<IPython.core.display.HTML object>"
      ]
     },
     "metadata": {},
     "output_type": "display_data"
    },
    {
     "data": {
      "text/html": [],
      "text/plain": [
       "<IPython.core.display.HTML object>"
      ]
     },
     "metadata": {},
     "output_type": "display_data"
    },
    {
     "data": {
      "text/html": [],
      "text/plain": [
       "<IPython.core.display.HTML object>"
      ]
     },
     "metadata": {},
     "output_type": "display_data"
    },
    {
     "data": {
      "text/html": [],
      "text/plain": [
       "<IPython.core.display.HTML object>"
      ]
     },
     "metadata": {},
     "output_type": "display_data"
    },
    {
     "data": {
      "text/html": [],
      "text/plain": [
       "<IPython.core.display.HTML object>"
      ]
     },
     "metadata": {},
     "output_type": "display_data"
    },
    {
     "data": {
      "text/html": [],
      "text/plain": [
       "<IPython.core.display.HTML object>"
      ]
     },
     "metadata": {},
     "output_type": "display_data"
    },
    {
     "data": {
      "text/html": [],
      "text/plain": [
       "<IPython.core.display.HTML object>"
      ]
     },
     "metadata": {},
     "output_type": "display_data"
    },
    {
     "data": {
      "text/html": [],
      "text/plain": [
       "<IPython.core.display.HTML object>"
      ]
     },
     "metadata": {},
     "output_type": "display_data"
    },
    {
     "data": {
      "text/html": [],
      "text/plain": [
       "<IPython.core.display.HTML object>"
      ]
     },
     "metadata": {},
     "output_type": "display_data"
    },
    {
     "data": {
      "text/html": [],
      "text/plain": [
       "<IPython.core.display.HTML object>"
      ]
     },
     "metadata": {},
     "output_type": "display_data"
    },
    {
     "data": {
      "text/html": [],
      "text/plain": [
       "<IPython.core.display.HTML object>"
      ]
     },
     "metadata": {},
     "output_type": "display_data"
    },
    {
     "data": {
      "text/html": [],
      "text/plain": [
       "<IPython.core.display.HTML object>"
      ]
     },
     "metadata": {},
     "output_type": "display_data"
    },
    {
     "data": {
      "text/html": [],
      "text/plain": [
       "<IPython.core.display.HTML object>"
      ]
     },
     "metadata": {},
     "output_type": "display_data"
    },
    {
     "data": {
      "text/html": [],
      "text/plain": [
       "<IPython.core.display.HTML object>"
      ]
     },
     "metadata": {},
     "output_type": "display_data"
    },
    {
     "data": {
      "text/html": [],
      "text/plain": [
       "<IPython.core.display.HTML object>"
      ]
     },
     "metadata": {},
     "output_type": "display_data"
    },
    {
     "data": {
      "text/html": [],
      "text/plain": [
       "<IPython.core.display.HTML object>"
      ]
     },
     "metadata": {},
     "output_type": "display_data"
    },
    {
     "data": {
      "text/html": [],
      "text/plain": [
       "<IPython.core.display.HTML object>"
      ]
     },
     "metadata": {},
     "output_type": "display_data"
    },
    {
     "data": {
      "text/html": [],
      "text/plain": [
       "<IPython.core.display.HTML object>"
      ]
     },
     "metadata": {},
     "output_type": "display_data"
    },
    {
     "data": {
      "text/html": [],
      "text/plain": [
       "<IPython.core.display.HTML object>"
      ]
     },
     "metadata": {},
     "output_type": "display_data"
    },
    {
     "data": {
      "text/html": [],
      "text/plain": [
       "<IPython.core.display.HTML object>"
      ]
     },
     "metadata": {},
     "output_type": "display_data"
    },
    {
     "data": {
      "text/html": [],
      "text/plain": [
       "<IPython.core.display.HTML object>"
      ]
     },
     "metadata": {},
     "output_type": "display_data"
    },
    {
     "data": {
      "text/html": [],
      "text/plain": [
       "<IPython.core.display.HTML object>"
      ]
     },
     "metadata": {},
     "output_type": "display_data"
    },
    {
     "data": {
      "text/html": [],
      "text/plain": [
       "<IPython.core.display.HTML object>"
      ]
     },
     "metadata": {},
     "output_type": "display_data"
    },
    {
     "data": {
      "text/html": [],
      "text/plain": [
       "<IPython.core.display.HTML object>"
      ]
     },
     "metadata": {},
     "output_type": "display_data"
    },
    {
     "data": {
      "text/html": [],
      "text/plain": [
       "<IPython.core.display.HTML object>"
      ]
     },
     "metadata": {},
     "output_type": "display_data"
    },
    {
     "data": {
      "text/html": [],
      "text/plain": [
       "<IPython.core.display.HTML object>"
      ]
     },
     "metadata": {},
     "output_type": "display_data"
    },
    {
     "data": {
      "text/html": [],
      "text/plain": [
       "<IPython.core.display.HTML object>"
      ]
     },
     "metadata": {},
     "output_type": "display_data"
    },
    {
     "data": {
      "text/html": [],
      "text/plain": [
       "<IPython.core.display.HTML object>"
      ]
     },
     "metadata": {},
     "output_type": "display_data"
    },
    {
     "data": {
      "text/html": [],
      "text/plain": [
       "<IPython.core.display.HTML object>"
      ]
     },
     "metadata": {},
     "output_type": "display_data"
    },
    {
     "data": {
      "text/html": [],
      "text/plain": [
       "<IPython.core.display.HTML object>"
      ]
     },
     "metadata": {},
     "output_type": "display_data"
    },
    {
     "data": {
      "text/html": [],
      "text/plain": [
       "<IPython.core.display.HTML object>"
      ]
     },
     "metadata": {},
     "output_type": "display_data"
    },
    {
     "data": {
      "text/html": [],
      "text/plain": [
       "<IPython.core.display.HTML object>"
      ]
     },
     "metadata": {},
     "output_type": "display_data"
    },
    {
     "data": {
      "text/html": [],
      "text/plain": [
       "<IPython.core.display.HTML object>"
      ]
     },
     "metadata": {},
     "output_type": "display_data"
    },
    {
     "data": {
      "text/html": [],
      "text/plain": [
       "<IPython.core.display.HTML object>"
      ]
     },
     "metadata": {},
     "output_type": "display_data"
    },
    {
     "data": {
      "text/html": [],
      "text/plain": [
       "<IPython.core.display.HTML object>"
      ]
     },
     "metadata": {},
     "output_type": "display_data"
    },
    {
     "data": {
      "text/html": [],
      "text/plain": [
       "<IPython.core.display.HTML object>"
      ]
     },
     "metadata": {},
     "output_type": "display_data"
    },
    {
     "data": {
      "text/html": [],
      "text/plain": [
       "<IPython.core.display.HTML object>"
      ]
     },
     "metadata": {},
     "output_type": "display_data"
    },
    {
     "data": {
      "text/html": [],
      "text/plain": [
       "<IPython.core.display.HTML object>"
      ]
     },
     "metadata": {},
     "output_type": "display_data"
    },
    {
     "data": {
      "text/html": [],
      "text/plain": [
       "<IPython.core.display.HTML object>"
      ]
     },
     "metadata": {},
     "output_type": "display_data"
    },
    {
     "data": {
      "text/html": [],
      "text/plain": [
       "<IPython.core.display.HTML object>"
      ]
     },
     "metadata": {},
     "output_type": "display_data"
    },
    {
     "data": {
      "text/html": [],
      "text/plain": [
       "<IPython.core.display.HTML object>"
      ]
     },
     "metadata": {},
     "output_type": "display_data"
    },
    {
     "data": {
      "text/html": [],
      "text/plain": [
       "<IPython.core.display.HTML object>"
      ]
     },
     "metadata": {},
     "output_type": "display_data"
    },
    {
     "data": {
      "text/html": [],
      "text/plain": [
       "<IPython.core.display.HTML object>"
      ]
     },
     "metadata": {},
     "output_type": "display_data"
    },
    {
     "data": {
      "text/html": [],
      "text/plain": [
       "<IPython.core.display.HTML object>"
      ]
     },
     "metadata": {},
     "output_type": "display_data"
    },
    {
     "data": {
      "text/html": [],
      "text/plain": [
       "<IPython.core.display.HTML object>"
      ]
     },
     "metadata": {},
     "output_type": "display_data"
    },
    {
     "data": {
      "text/html": [],
      "text/plain": [
       "<IPython.core.display.HTML object>"
      ]
     },
     "metadata": {},
     "output_type": "display_data"
    },
    {
     "data": {
      "text/html": [],
      "text/plain": [
       "<IPython.core.display.HTML object>"
      ]
     },
     "metadata": {},
     "output_type": "display_data"
    },
    {
     "data": {
      "text/html": [],
      "text/plain": [
       "<IPython.core.display.HTML object>"
      ]
     },
     "metadata": {},
     "output_type": "display_data"
    },
    {
     "data": {
      "text/html": [],
      "text/plain": [
       "<IPython.core.display.HTML object>"
      ]
     },
     "metadata": {},
     "output_type": "display_data"
    },
    {
     "data": {
      "text/html": [],
      "text/plain": [
       "<IPython.core.display.HTML object>"
      ]
     },
     "metadata": {},
     "output_type": "display_data"
    },
    {
     "data": {
      "text/html": [],
      "text/plain": [
       "<IPython.core.display.HTML object>"
      ]
     },
     "metadata": {},
     "output_type": "display_data"
    },
    {
     "data": {
      "text/html": [],
      "text/plain": [
       "<IPython.core.display.HTML object>"
      ]
     },
     "metadata": {},
     "output_type": "display_data"
    },
    {
     "data": {
      "text/html": [],
      "text/plain": [
       "<IPython.core.display.HTML object>"
      ]
     },
     "metadata": {},
     "output_type": "display_data"
    },
    {
     "data": {
      "text/html": [],
      "text/plain": [
       "<IPython.core.display.HTML object>"
      ]
     },
     "metadata": {},
     "output_type": "display_data"
    },
    {
     "data": {
      "text/html": [],
      "text/plain": [
       "<IPython.core.display.HTML object>"
      ]
     },
     "metadata": {},
     "output_type": "display_data"
    },
    {
     "data": {
      "text/html": [],
      "text/plain": [
       "<IPython.core.display.HTML object>"
      ]
     },
     "metadata": {},
     "output_type": "display_data"
    },
    {
     "data": {
      "text/html": [],
      "text/plain": [
       "<IPython.core.display.HTML object>"
      ]
     },
     "metadata": {},
     "output_type": "display_data"
    },
    {
     "data": {
      "text/html": [],
      "text/plain": [
       "<IPython.core.display.HTML object>"
      ]
     },
     "metadata": {},
     "output_type": "display_data"
    },
    {
     "data": {
      "text/html": [],
      "text/plain": [
       "<IPython.core.display.HTML object>"
      ]
     },
     "metadata": {},
     "output_type": "display_data"
    },
    {
     "data": {
      "text/html": [],
      "text/plain": [
       "<IPython.core.display.HTML object>"
      ]
     },
     "metadata": {},
     "output_type": "display_data"
    },
    {
     "data": {
      "text/html": [],
      "text/plain": [
       "<IPython.core.display.HTML object>"
      ]
     },
     "metadata": {},
     "output_type": "display_data"
    },
    {
     "data": {
      "text/html": [],
      "text/plain": [
       "<IPython.core.display.HTML object>"
      ]
     },
     "metadata": {},
     "output_type": "display_data"
    },
    {
     "data": {
      "text/html": [],
      "text/plain": [
       "<IPython.core.display.HTML object>"
      ]
     },
     "metadata": {},
     "output_type": "display_data"
    },
    {
     "data": {
      "text/html": [],
      "text/plain": [
       "<IPython.core.display.HTML object>"
      ]
     },
     "metadata": {},
     "output_type": "display_data"
    },
    {
     "data": {
      "text/html": [],
      "text/plain": [
       "<IPython.core.display.HTML object>"
      ]
     },
     "metadata": {},
     "output_type": "display_data"
    },
    {
     "data": {
      "text/html": [],
      "text/plain": [
       "<IPython.core.display.HTML object>"
      ]
     },
     "metadata": {},
     "output_type": "display_data"
    },
    {
     "data": {
      "text/html": [],
      "text/plain": [
       "<IPython.core.display.HTML object>"
      ]
     },
     "metadata": {},
     "output_type": "display_data"
    },
    {
     "data": {
      "text/html": [],
      "text/plain": [
       "<IPython.core.display.HTML object>"
      ]
     },
     "metadata": {},
     "output_type": "display_data"
    },
    {
     "data": {
      "text/html": [],
      "text/plain": [
       "<IPython.core.display.HTML object>"
      ]
     },
     "metadata": {},
     "output_type": "display_data"
    },
    {
     "data": {
      "text/html": [],
      "text/plain": [
       "<IPython.core.display.HTML object>"
      ]
     },
     "metadata": {},
     "output_type": "display_data"
    },
    {
     "data": {
      "text/html": [],
      "text/plain": [
       "<IPython.core.display.HTML object>"
      ]
     },
     "metadata": {},
     "output_type": "display_data"
    },
    {
     "data": {
      "text/html": [],
      "text/plain": [
       "<IPython.core.display.HTML object>"
      ]
     },
     "metadata": {},
     "output_type": "display_data"
    },
    {
     "data": {
      "text/html": [],
      "text/plain": [
       "<IPython.core.display.HTML object>"
      ]
     },
     "metadata": {},
     "output_type": "display_data"
    },
    {
     "data": {
      "text/html": [],
      "text/plain": [
       "<IPython.core.display.HTML object>"
      ]
     },
     "metadata": {},
     "output_type": "display_data"
    },
    {
     "data": {
      "text/html": [],
      "text/plain": [
       "<IPython.core.display.HTML object>"
      ]
     },
     "metadata": {},
     "output_type": "display_data"
    },
    {
     "data": {
      "text/html": [],
      "text/plain": [
       "<IPython.core.display.HTML object>"
      ]
     },
     "metadata": {},
     "output_type": "display_data"
    },
    {
     "data": {
      "text/html": [],
      "text/plain": [
       "<IPython.core.display.HTML object>"
      ]
     },
     "metadata": {},
     "output_type": "display_data"
    },
    {
     "data": {
      "text/html": [],
      "text/plain": [
       "<IPython.core.display.HTML object>"
      ]
     },
     "metadata": {},
     "output_type": "display_data"
    },
    {
     "data": {
      "text/html": [],
      "text/plain": [
       "<IPython.core.display.HTML object>"
      ]
     },
     "metadata": {},
     "output_type": "display_data"
    },
    {
     "data": {
      "text/html": [],
      "text/plain": [
       "<IPython.core.display.HTML object>"
      ]
     },
     "metadata": {},
     "output_type": "display_data"
    },
    {
     "data": {
      "text/html": [],
      "text/plain": [
       "<IPython.core.display.HTML object>"
      ]
     },
     "metadata": {},
     "output_type": "display_data"
    },
    {
     "data": {
      "text/html": [],
      "text/plain": [
       "<IPython.core.display.HTML object>"
      ]
     },
     "metadata": {},
     "output_type": "display_data"
    },
    {
     "data": {
      "text/html": [],
      "text/plain": [
       "<IPython.core.display.HTML object>"
      ]
     },
     "metadata": {},
     "output_type": "display_data"
    },
    {
     "data": {
      "text/html": [],
      "text/plain": [
       "<IPython.core.display.HTML object>"
      ]
     },
     "metadata": {},
     "output_type": "display_data"
    },
    {
     "data": {
      "text/html": [],
      "text/plain": [
       "<IPython.core.display.HTML object>"
      ]
     },
     "metadata": {},
     "output_type": "display_data"
    },
    {
     "data": {
      "text/html": [],
      "text/plain": [
       "<IPython.core.display.HTML object>"
      ]
     },
     "metadata": {},
     "output_type": "display_data"
    },
    {
     "data": {
      "text/html": [],
      "text/plain": [
       "<IPython.core.display.HTML object>"
      ]
     },
     "metadata": {},
     "output_type": "display_data"
    },
    {
     "data": {
      "text/html": [],
      "text/plain": [
       "<IPython.core.display.HTML object>"
      ]
     },
     "metadata": {},
     "output_type": "display_data"
    },
    {
     "data": {
      "text/html": [],
      "text/plain": [
       "<IPython.core.display.HTML object>"
      ]
     },
     "metadata": {},
     "output_type": "display_data"
    },
    {
     "data": {
      "text/html": [],
      "text/plain": [
       "<IPython.core.display.HTML object>"
      ]
     },
     "metadata": {},
     "output_type": "display_data"
    },
    {
     "data": {
      "text/html": [],
      "text/plain": [
       "<IPython.core.display.HTML object>"
      ]
     },
     "metadata": {},
     "output_type": "display_data"
    },
    {
     "data": {
      "text/html": [],
      "text/plain": [
       "<IPython.core.display.HTML object>"
      ]
     },
     "metadata": {},
     "output_type": "display_data"
    },
    {
     "data": {
      "text/html": [],
      "text/plain": [
       "<IPython.core.display.HTML object>"
      ]
     },
     "metadata": {},
     "output_type": "display_data"
    },
    {
     "data": {
      "text/html": [],
      "text/plain": [
       "<IPython.core.display.HTML object>"
      ]
     },
     "metadata": {},
     "output_type": "display_data"
    },
    {
     "data": {
      "text/html": [],
      "text/plain": [
       "<IPython.core.display.HTML object>"
      ]
     },
     "metadata": {},
     "output_type": "display_data"
    },
    {
     "data": {
      "text/html": [],
      "text/plain": [
       "<IPython.core.display.HTML object>"
      ]
     },
     "metadata": {},
     "output_type": "display_data"
    },
    {
     "data": {
      "text/html": [],
      "text/plain": [
       "<IPython.core.display.HTML object>"
      ]
     },
     "metadata": {},
     "output_type": "display_data"
    },
    {
     "data": {
      "text/html": [],
      "text/plain": [
       "<IPython.core.display.HTML object>"
      ]
     },
     "metadata": {},
     "output_type": "display_data"
    },
    {
     "data": {
      "text/html": [],
      "text/plain": [
       "<IPython.core.display.HTML object>"
      ]
     },
     "metadata": {},
     "output_type": "display_data"
    },
    {
     "data": {
      "text/html": [],
      "text/plain": [
       "<IPython.core.display.HTML object>"
      ]
     },
     "metadata": {},
     "output_type": "display_data"
    },
    {
     "data": {
      "text/html": [],
      "text/plain": [
       "<IPython.core.display.HTML object>"
      ]
     },
     "metadata": {},
     "output_type": "display_data"
    },
    {
     "data": {
      "text/html": [],
      "text/plain": [
       "<IPython.core.display.HTML object>"
      ]
     },
     "metadata": {},
     "output_type": "display_data"
    },
    {
     "data": {
      "text/html": [],
      "text/plain": [
       "<IPython.core.display.HTML object>"
      ]
     },
     "metadata": {},
     "output_type": "display_data"
    },
    {
     "data": {
      "text/html": [],
      "text/plain": [
       "<IPython.core.display.HTML object>"
      ]
     },
     "metadata": {},
     "output_type": "display_data"
    },
    {
     "data": {
      "text/html": [],
      "text/plain": [
       "<IPython.core.display.HTML object>"
      ]
     },
     "metadata": {},
     "output_type": "display_data"
    },
    {
     "data": {
      "text/html": [],
      "text/plain": [
       "<IPython.core.display.HTML object>"
      ]
     },
     "metadata": {},
     "output_type": "display_data"
    },
    {
     "data": {
      "text/html": [],
      "text/plain": [
       "<IPython.core.display.HTML object>"
      ]
     },
     "metadata": {},
     "output_type": "display_data"
    },
    {
     "data": {
      "text/html": [],
      "text/plain": [
       "<IPython.core.display.HTML object>"
      ]
     },
     "metadata": {},
     "output_type": "display_data"
    },
    {
     "data": {
      "text/html": [],
      "text/plain": [
       "<IPython.core.display.HTML object>"
      ]
     },
     "metadata": {},
     "output_type": "display_data"
    },
    {
     "data": {
      "text/html": [],
      "text/plain": [
       "<IPython.core.display.HTML object>"
      ]
     },
     "metadata": {},
     "output_type": "display_data"
    },
    {
     "data": {
      "text/html": [],
      "text/plain": [
       "<IPython.core.display.HTML object>"
      ]
     },
     "metadata": {},
     "output_type": "display_data"
    },
    {
     "data": {
      "text/html": [],
      "text/plain": [
       "<IPython.core.display.HTML object>"
      ]
     },
     "metadata": {},
     "output_type": "display_data"
    },
    {
     "data": {
      "text/html": [],
      "text/plain": [
       "<IPython.core.display.HTML object>"
      ]
     },
     "metadata": {},
     "output_type": "display_data"
    },
    {
     "data": {
      "text/html": [],
      "text/plain": [
       "<IPython.core.display.HTML object>"
      ]
     },
     "metadata": {},
     "output_type": "display_data"
    },
    {
     "data": {
      "text/html": [],
      "text/plain": [
       "<IPython.core.display.HTML object>"
      ]
     },
     "metadata": {},
     "output_type": "display_data"
    },
    {
     "data": {
      "text/html": [],
      "text/plain": [
       "<IPython.core.display.HTML object>"
      ]
     },
     "metadata": {},
     "output_type": "display_data"
    },
    {
     "data": {
      "text/html": [],
      "text/plain": [
       "<IPython.core.display.HTML object>"
      ]
     },
     "metadata": {},
     "output_type": "display_data"
    },
    {
     "data": {
      "text/html": [],
      "text/plain": [
       "<IPython.core.display.HTML object>"
      ]
     },
     "metadata": {},
     "output_type": "display_data"
    },
    {
     "data": {
      "text/html": [],
      "text/plain": [
       "<IPython.core.display.HTML object>"
      ]
     },
     "metadata": {},
     "output_type": "display_data"
    },
    {
     "data": {
      "text/html": [],
      "text/plain": [
       "<IPython.core.display.HTML object>"
      ]
     },
     "metadata": {},
     "output_type": "display_data"
    },
    {
     "data": {
      "text/html": [],
      "text/plain": [
       "<IPython.core.display.HTML object>"
      ]
     },
     "metadata": {},
     "output_type": "display_data"
    },
    {
     "data": {
      "text/html": [],
      "text/plain": [
       "<IPython.core.display.HTML object>"
      ]
     },
     "metadata": {},
     "output_type": "display_data"
    },
    {
     "data": {
      "text/html": [],
      "text/plain": [
       "<IPython.core.display.HTML object>"
      ]
     },
     "metadata": {},
     "output_type": "display_data"
    },
    {
     "data": {
      "text/html": [],
      "text/plain": [
       "<IPython.core.display.HTML object>"
      ]
     },
     "metadata": {},
     "output_type": "display_data"
    },
    {
     "data": {
      "text/html": [],
      "text/plain": [
       "<IPython.core.display.HTML object>"
      ]
     },
     "metadata": {},
     "output_type": "display_data"
    },
    {
     "data": {
      "text/html": [],
      "text/plain": [
       "<IPython.core.display.HTML object>"
      ]
     },
     "metadata": {},
     "output_type": "display_data"
    },
    {
     "data": {
      "text/html": [],
      "text/plain": [
       "<IPython.core.display.HTML object>"
      ]
     },
     "metadata": {},
     "output_type": "display_data"
    },
    {
     "data": {
      "text/html": [],
      "text/plain": [
       "<IPython.core.display.HTML object>"
      ]
     },
     "metadata": {},
     "output_type": "display_data"
    },
    {
     "data": {
      "text/html": [],
      "text/plain": [
       "<IPython.core.display.HTML object>"
      ]
     },
     "metadata": {},
     "output_type": "display_data"
    },
    {
     "data": {
      "text/html": [],
      "text/plain": [
       "<IPython.core.display.HTML object>"
      ]
     },
     "metadata": {},
     "output_type": "display_data"
    },
    {
     "data": {
      "text/html": [],
      "text/plain": [
       "<IPython.core.display.HTML object>"
      ]
     },
     "metadata": {},
     "output_type": "display_data"
    },
    {
     "data": {
      "text/html": [],
      "text/plain": [
       "<IPython.core.display.HTML object>"
      ]
     },
     "metadata": {},
     "output_type": "display_data"
    },
    {
     "data": {
      "text/html": [],
      "text/plain": [
       "<IPython.core.display.HTML object>"
      ]
     },
     "metadata": {},
     "output_type": "display_data"
    },
    {
     "data": {
      "text/html": [],
      "text/plain": [
       "<IPython.core.display.HTML object>"
      ]
     },
     "metadata": {},
     "output_type": "display_data"
    },
    {
     "data": {
      "text/html": [],
      "text/plain": [
       "<IPython.core.display.HTML object>"
      ]
     },
     "metadata": {},
     "output_type": "display_data"
    },
    {
     "data": {
      "text/html": [],
      "text/plain": [
       "<IPython.core.display.HTML object>"
      ]
     },
     "metadata": {},
     "output_type": "display_data"
    },
    {
     "data": {
      "text/html": [],
      "text/plain": [
       "<IPython.core.display.HTML object>"
      ]
     },
     "metadata": {},
     "output_type": "display_data"
    },
    {
     "data": {
      "text/html": [],
      "text/plain": [
       "<IPython.core.display.HTML object>"
      ]
     },
     "metadata": {},
     "output_type": "display_data"
    },
    {
     "data": {
      "text/html": [],
      "text/plain": [
       "<IPython.core.display.HTML object>"
      ]
     },
     "metadata": {},
     "output_type": "display_data"
    },
    {
     "data": {
      "text/html": [],
      "text/plain": [
       "<IPython.core.display.HTML object>"
      ]
     },
     "metadata": {},
     "output_type": "display_data"
    },
    {
     "data": {
      "text/html": [],
      "text/plain": [
       "<IPython.core.display.HTML object>"
      ]
     },
     "metadata": {},
     "output_type": "display_data"
    },
    {
     "data": {
      "text/html": [],
      "text/plain": [
       "<IPython.core.display.HTML object>"
      ]
     },
     "metadata": {},
     "output_type": "display_data"
    },
    {
     "data": {
      "text/html": [],
      "text/plain": [
       "<IPython.core.display.HTML object>"
      ]
     },
     "metadata": {},
     "output_type": "display_data"
    },
    {
     "data": {
      "text/html": [],
      "text/plain": [
       "<IPython.core.display.HTML object>"
      ]
     },
     "metadata": {},
     "output_type": "display_data"
    },
    {
     "data": {
      "text/html": [],
      "text/plain": [
       "<IPython.core.display.HTML object>"
      ]
     },
     "metadata": {},
     "output_type": "display_data"
    },
    {
     "data": {
      "text/html": [],
      "text/plain": [
       "<IPython.core.display.HTML object>"
      ]
     },
     "metadata": {},
     "output_type": "display_data"
    },
    {
     "data": {
      "text/html": [],
      "text/plain": [
       "<IPython.core.display.HTML object>"
      ]
     },
     "metadata": {},
     "output_type": "display_data"
    },
    {
     "data": {
      "text/html": [],
      "text/plain": [
       "<IPython.core.display.HTML object>"
      ]
     },
     "metadata": {},
     "output_type": "display_data"
    },
    {
     "data": {
      "text/html": [],
      "text/plain": [
       "<IPython.core.display.HTML object>"
      ]
     },
     "metadata": {},
     "output_type": "display_data"
    },
    {
     "data": {
      "text/html": [],
      "text/plain": [
       "<IPython.core.display.HTML object>"
      ]
     },
     "metadata": {},
     "output_type": "display_data"
    },
    {
     "data": {
      "text/html": [],
      "text/plain": [
       "<IPython.core.display.HTML object>"
      ]
     },
     "metadata": {},
     "output_type": "display_data"
    },
    {
     "data": {
      "text/html": [],
      "text/plain": [
       "<IPython.core.display.HTML object>"
      ]
     },
     "metadata": {},
     "output_type": "display_data"
    },
    {
     "data": {
      "text/html": [],
      "text/plain": [
       "<IPython.core.display.HTML object>"
      ]
     },
     "metadata": {},
     "output_type": "display_data"
    },
    {
     "data": {
      "text/html": [],
      "text/plain": [
       "<IPython.core.display.HTML object>"
      ]
     },
     "metadata": {},
     "output_type": "display_data"
    },
    {
     "data": {
      "text/html": [],
      "text/plain": [
       "<IPython.core.display.HTML object>"
      ]
     },
     "metadata": {},
     "output_type": "display_data"
    },
    {
     "data": {
      "text/html": [],
      "text/plain": [
       "<IPython.core.display.HTML object>"
      ]
     },
     "metadata": {},
     "output_type": "display_data"
    },
    {
     "data": {
      "text/html": [],
      "text/plain": [
       "<IPython.core.display.HTML object>"
      ]
     },
     "metadata": {},
     "output_type": "display_data"
    },
    {
     "data": {
      "text/html": [],
      "text/plain": [
       "<IPython.core.display.HTML object>"
      ]
     },
     "metadata": {},
     "output_type": "display_data"
    },
    {
     "data": {
      "text/html": [],
      "text/plain": [
       "<IPython.core.display.HTML object>"
      ]
     },
     "metadata": {},
     "output_type": "display_data"
    },
    {
     "data": {
      "text/html": [],
      "text/plain": [
       "<IPython.core.display.HTML object>"
      ]
     },
     "metadata": {},
     "output_type": "display_data"
    },
    {
     "data": {
      "text/html": [],
      "text/plain": [
       "<IPython.core.display.HTML object>"
      ]
     },
     "metadata": {},
     "output_type": "display_data"
    },
    {
     "data": {
      "text/html": [],
      "text/plain": [
       "<IPython.core.display.HTML object>"
      ]
     },
     "metadata": {},
     "output_type": "display_data"
    },
    {
     "data": {
      "text/html": [],
      "text/plain": [
       "<IPython.core.display.HTML object>"
      ]
     },
     "metadata": {},
     "output_type": "display_data"
    },
    {
     "data": {
      "text/html": [],
      "text/plain": [
       "<IPython.core.display.HTML object>"
      ]
     },
     "metadata": {},
     "output_type": "display_data"
    },
    {
     "data": {
      "text/html": [],
      "text/plain": [
       "<IPython.core.display.HTML object>"
      ]
     },
     "metadata": {},
     "output_type": "display_data"
    },
    {
     "data": {
      "text/html": [],
      "text/plain": [
       "<IPython.core.display.HTML object>"
      ]
     },
     "metadata": {},
     "output_type": "display_data"
    },
    {
     "data": {
      "text/html": [],
      "text/plain": [
       "<IPython.core.display.HTML object>"
      ]
     },
     "metadata": {},
     "output_type": "display_data"
    },
    {
     "data": {
      "text/html": [],
      "text/plain": [
       "<IPython.core.display.HTML object>"
      ]
     },
     "metadata": {},
     "output_type": "display_data"
    },
    {
     "data": {
      "text/html": [],
      "text/plain": [
       "<IPython.core.display.HTML object>"
      ]
     },
     "metadata": {},
     "output_type": "display_data"
    },
    {
     "data": {
      "text/html": [],
      "text/plain": [
       "<IPython.core.display.HTML object>"
      ]
     },
     "metadata": {},
     "output_type": "display_data"
    },
    {
     "data": {
      "text/html": [],
      "text/plain": [
       "<IPython.core.display.HTML object>"
      ]
     },
     "metadata": {},
     "output_type": "display_data"
    },
    {
     "data": {
      "text/html": [],
      "text/plain": [
       "<IPython.core.display.HTML object>"
      ]
     },
     "metadata": {},
     "output_type": "display_data"
    },
    {
     "data": {
      "text/html": [],
      "text/plain": [
       "<IPython.core.display.HTML object>"
      ]
     },
     "metadata": {},
     "output_type": "display_data"
    },
    {
     "data": {
      "text/html": [],
      "text/plain": [
       "<IPython.core.display.HTML object>"
      ]
     },
     "metadata": {},
     "output_type": "display_data"
    },
    {
     "data": {
      "text/html": [],
      "text/plain": [
       "<IPython.core.display.HTML object>"
      ]
     },
     "metadata": {},
     "output_type": "display_data"
    },
    {
     "data": {
      "text/html": [],
      "text/plain": [
       "<IPython.core.display.HTML object>"
      ]
     },
     "metadata": {},
     "output_type": "display_data"
    },
    {
     "data": {
      "text/html": [],
      "text/plain": [
       "<IPython.core.display.HTML object>"
      ]
     },
     "metadata": {},
     "output_type": "display_data"
    },
    {
     "data": {
      "text/html": [],
      "text/plain": [
       "<IPython.core.display.HTML object>"
      ]
     },
     "metadata": {},
     "output_type": "display_data"
    },
    {
     "data": {
      "text/html": [],
      "text/plain": [
       "<IPython.core.display.HTML object>"
      ]
     },
     "metadata": {},
     "output_type": "display_data"
    },
    {
     "data": {
      "text/html": [],
      "text/plain": [
       "<IPython.core.display.HTML object>"
      ]
     },
     "metadata": {},
     "output_type": "display_data"
    },
    {
     "data": {
      "text/html": [],
      "text/plain": [
       "<IPython.core.display.HTML object>"
      ]
     },
     "metadata": {},
     "output_type": "display_data"
    },
    {
     "data": {
      "text/html": [],
      "text/plain": [
       "<IPython.core.display.HTML object>"
      ]
     },
     "metadata": {},
     "output_type": "display_data"
    },
    {
     "data": {
      "text/html": [],
      "text/plain": [
       "<IPython.core.display.HTML object>"
      ]
     },
     "metadata": {},
     "output_type": "display_data"
    },
    {
     "data": {
      "text/html": [],
      "text/plain": [
       "<IPython.core.display.HTML object>"
      ]
     },
     "metadata": {},
     "output_type": "display_data"
    },
    {
     "data": {
      "text/html": [],
      "text/plain": [
       "<IPython.core.display.HTML object>"
      ]
     },
     "metadata": {},
     "output_type": "display_data"
    },
    {
     "data": {
      "text/html": [],
      "text/plain": [
       "<IPython.core.display.HTML object>"
      ]
     },
     "metadata": {},
     "output_type": "display_data"
    },
    {
     "data": {
      "text/html": [],
      "text/plain": [
       "<IPython.core.display.HTML object>"
      ]
     },
     "metadata": {},
     "output_type": "display_data"
    },
    {
     "data": {
      "text/html": [],
      "text/plain": [
       "<IPython.core.display.HTML object>"
      ]
     },
     "metadata": {},
     "output_type": "display_data"
    },
    {
     "data": {
      "text/html": [],
      "text/plain": [
       "<IPython.core.display.HTML object>"
      ]
     },
     "metadata": {},
     "output_type": "display_data"
    },
    {
     "data": {
      "text/html": [],
      "text/plain": [
       "<IPython.core.display.HTML object>"
      ]
     },
     "metadata": {},
     "output_type": "display_data"
    },
    {
     "data": {
      "text/html": [],
      "text/plain": [
       "<IPython.core.display.HTML object>"
      ]
     },
     "metadata": {},
     "output_type": "display_data"
    },
    {
     "data": {
      "text/html": [],
      "text/plain": [
       "<IPython.core.display.HTML object>"
      ]
     },
     "metadata": {},
     "output_type": "display_data"
    },
    {
     "data": {
      "text/html": [],
      "text/plain": [
       "<IPython.core.display.HTML object>"
      ]
     },
     "metadata": {},
     "output_type": "display_data"
    },
    {
     "data": {
      "text/html": [],
      "text/plain": [
       "<IPython.core.display.HTML object>"
      ]
     },
     "metadata": {},
     "output_type": "display_data"
    },
    {
     "data": {
      "text/html": [],
      "text/plain": [
       "<IPython.core.display.HTML object>"
      ]
     },
     "metadata": {},
     "output_type": "display_data"
    },
    {
     "data": {
      "text/html": [],
      "text/plain": [
       "<IPython.core.display.HTML object>"
      ]
     },
     "metadata": {},
     "output_type": "display_data"
    },
    {
     "data": {
      "text/html": [],
      "text/plain": [
       "<IPython.core.display.HTML object>"
      ]
     },
     "metadata": {},
     "output_type": "display_data"
    },
    {
     "data": {
      "text/html": [],
      "text/plain": [
       "<IPython.core.display.HTML object>"
      ]
     },
     "metadata": {},
     "output_type": "display_data"
    },
    {
     "data": {
      "text/html": [],
      "text/plain": [
       "<IPython.core.display.HTML object>"
      ]
     },
     "metadata": {},
     "output_type": "display_data"
    },
    {
     "data": {
      "text/html": [],
      "text/plain": [
       "<IPython.core.display.HTML object>"
      ]
     },
     "metadata": {},
     "output_type": "display_data"
    },
    {
     "data": {
      "text/html": [],
      "text/plain": [
       "<IPython.core.display.HTML object>"
      ]
     },
     "metadata": {},
     "output_type": "display_data"
    },
    {
     "data": {
      "text/html": [],
      "text/plain": [
       "<IPython.core.display.HTML object>"
      ]
     },
     "metadata": {},
     "output_type": "display_data"
    },
    {
     "data": {
      "text/html": [],
      "text/plain": [
       "<IPython.core.display.HTML object>"
      ]
     },
     "metadata": {},
     "output_type": "display_data"
    },
    {
     "data": {
      "text/html": [],
      "text/plain": [
       "<IPython.core.display.HTML object>"
      ]
     },
     "metadata": {},
     "output_type": "display_data"
    },
    {
     "data": {
      "text/html": [],
      "text/plain": [
       "<IPython.core.display.HTML object>"
      ]
     },
     "metadata": {},
     "output_type": "display_data"
    },
    {
     "data": {
      "text/html": [],
      "text/plain": [
       "<IPython.core.display.HTML object>"
      ]
     },
     "metadata": {},
     "output_type": "display_data"
    },
    {
     "data": {
      "text/html": [],
      "text/plain": [
       "<IPython.core.display.HTML object>"
      ]
     },
     "metadata": {},
     "output_type": "display_data"
    },
    {
     "data": {
      "text/html": [],
      "text/plain": [
       "<IPython.core.display.HTML object>"
      ]
     },
     "metadata": {},
     "output_type": "display_data"
    },
    {
     "data": {
      "text/html": [],
      "text/plain": [
       "<IPython.core.display.HTML object>"
      ]
     },
     "metadata": {},
     "output_type": "display_data"
    },
    {
     "data": {
      "text/html": [],
      "text/plain": [
       "<IPython.core.display.HTML object>"
      ]
     },
     "metadata": {},
     "output_type": "display_data"
    },
    {
     "data": {
      "text/html": [],
      "text/plain": [
       "<IPython.core.display.HTML object>"
      ]
     },
     "metadata": {},
     "output_type": "display_data"
    },
    {
     "data": {
      "text/html": [],
      "text/plain": [
       "<IPython.core.display.HTML object>"
      ]
     },
     "metadata": {},
     "output_type": "display_data"
    },
    {
     "data": {
      "text/html": [],
      "text/plain": [
       "<IPython.core.display.HTML object>"
      ]
     },
     "metadata": {},
     "output_type": "display_data"
    },
    {
     "data": {
      "text/html": [],
      "text/plain": [
       "<IPython.core.display.HTML object>"
      ]
     },
     "metadata": {},
     "output_type": "display_data"
    },
    {
     "data": {
      "text/html": [],
      "text/plain": [
       "<IPython.core.display.HTML object>"
      ]
     },
     "metadata": {},
     "output_type": "display_data"
    },
    {
     "data": {
      "text/html": [],
      "text/plain": [
       "<IPython.core.display.HTML object>"
      ]
     },
     "metadata": {},
     "output_type": "display_data"
    },
    {
     "data": {
      "text/html": [],
      "text/plain": [
       "<IPython.core.display.HTML object>"
      ]
     },
     "metadata": {},
     "output_type": "display_data"
    },
    {
     "data": {
      "text/html": [],
      "text/plain": [
       "<IPython.core.display.HTML object>"
      ]
     },
     "metadata": {},
     "output_type": "display_data"
    },
    {
     "data": {
      "text/html": [],
      "text/plain": [
       "<IPython.core.display.HTML object>"
      ]
     },
     "metadata": {},
     "output_type": "display_data"
    },
    {
     "data": {
      "text/html": [],
      "text/plain": [
       "<IPython.core.display.HTML object>"
      ]
     },
     "metadata": {},
     "output_type": "display_data"
    },
    {
     "data": {
      "text/html": [],
      "text/plain": [
       "<IPython.core.display.HTML object>"
      ]
     },
     "metadata": {},
     "output_type": "display_data"
    },
    {
     "data": {
      "text/html": [],
      "text/plain": [
       "<IPython.core.display.HTML object>"
      ]
     },
     "metadata": {},
     "output_type": "display_data"
    },
    {
     "data": {
      "text/html": [],
      "text/plain": [
       "<IPython.core.display.HTML object>"
      ]
     },
     "metadata": {},
     "output_type": "display_data"
    },
    {
     "data": {
      "text/html": [],
      "text/plain": [
       "<IPython.core.display.HTML object>"
      ]
     },
     "metadata": {},
     "output_type": "display_data"
    },
    {
     "data": {
      "text/html": [],
      "text/plain": [
       "<IPython.core.display.HTML object>"
      ]
     },
     "metadata": {},
     "output_type": "display_data"
    },
    {
     "data": {
      "text/html": [],
      "text/plain": [
       "<IPython.core.display.HTML object>"
      ]
     },
     "metadata": {},
     "output_type": "display_data"
    },
    {
     "data": {
      "text/html": [],
      "text/plain": [
       "<IPython.core.display.HTML object>"
      ]
     },
     "metadata": {},
     "output_type": "display_data"
    },
    {
     "data": {
      "text/html": [],
      "text/plain": [
       "<IPython.core.display.HTML object>"
      ]
     },
     "metadata": {},
     "output_type": "display_data"
    },
    {
     "data": {
      "text/html": [],
      "text/plain": [
       "<IPython.core.display.HTML object>"
      ]
     },
     "metadata": {},
     "output_type": "display_data"
    },
    {
     "data": {
      "text/html": [],
      "text/plain": [
       "<IPython.core.display.HTML object>"
      ]
     },
     "metadata": {},
     "output_type": "display_data"
    },
    {
     "data": {
      "text/html": [],
      "text/plain": [
       "<IPython.core.display.HTML object>"
      ]
     },
     "metadata": {},
     "output_type": "display_data"
    },
    {
     "data": {
      "text/html": [],
      "text/plain": [
       "<IPython.core.display.HTML object>"
      ]
     },
     "metadata": {},
     "output_type": "display_data"
    },
    {
     "data": {
      "text/html": [],
      "text/plain": [
       "<IPython.core.display.HTML object>"
      ]
     },
     "metadata": {},
     "output_type": "display_data"
    },
    {
     "data": {
      "text/html": [],
      "text/plain": [
       "<IPython.core.display.HTML object>"
      ]
     },
     "metadata": {},
     "output_type": "display_data"
    },
    {
     "data": {
      "text/html": [],
      "text/plain": [
       "<IPython.core.display.HTML object>"
      ]
     },
     "metadata": {},
     "output_type": "display_data"
    },
    {
     "data": {
      "text/html": [],
      "text/plain": [
       "<IPython.core.display.HTML object>"
      ]
     },
     "metadata": {},
     "output_type": "display_data"
    },
    {
     "data": {
      "text/html": [],
      "text/plain": [
       "<IPython.core.display.HTML object>"
      ]
     },
     "metadata": {},
     "output_type": "display_data"
    },
    {
     "data": {
      "text/html": [],
      "text/plain": [
       "<IPython.core.display.HTML object>"
      ]
     },
     "metadata": {},
     "output_type": "display_data"
    },
    {
     "data": {
      "text/html": [],
      "text/plain": [
       "<IPython.core.display.HTML object>"
      ]
     },
     "metadata": {},
     "output_type": "display_data"
    },
    {
     "data": {
      "text/html": [],
      "text/plain": [
       "<IPython.core.display.HTML object>"
      ]
     },
     "metadata": {},
     "output_type": "display_data"
    },
    {
     "data": {
      "text/html": [],
      "text/plain": [
       "<IPython.core.display.HTML object>"
      ]
     },
     "metadata": {},
     "output_type": "display_data"
    },
    {
     "data": {
      "text/html": [],
      "text/plain": [
       "<IPython.core.display.HTML object>"
      ]
     },
     "metadata": {},
     "output_type": "display_data"
    },
    {
     "data": {
      "text/html": [],
      "text/plain": [
       "<IPython.core.display.HTML object>"
      ]
     },
     "metadata": {},
     "output_type": "display_data"
    },
    {
     "data": {
      "text/html": [],
      "text/plain": [
       "<IPython.core.display.HTML object>"
      ]
     },
     "metadata": {},
     "output_type": "display_data"
    },
    {
     "data": {
      "text/html": [],
      "text/plain": [
       "<IPython.core.display.HTML object>"
      ]
     },
     "metadata": {},
     "output_type": "display_data"
    },
    {
     "data": {
      "text/html": [],
      "text/plain": [
       "<IPython.core.display.HTML object>"
      ]
     },
     "metadata": {},
     "output_type": "display_data"
    }
   ],
   "source": [
    "rows=[]\n",
    "for i in test.index:\n",
    "    row, clas, probs=x.predict(test.iloc[i])\n",
    "    rows.append(row['Culture'][0])\n",
    "rows=np.asarray(rows)\n",
    "rows+=1\n",
    "pd.Series(rows).to_csv('preds/fastai.csv', index=False, header=['Culture'])"
   ]
  },
  {
   "cell_type": "code",
   "execution_count": 45,
   "metadata": {},
   "outputs": [
    {
     "data": {
      "text/plain": [
       "array([[ 4.],\n",
       "       [12.],\n",
       "       [21.],\n",
       "       [16.],\n",
       "       [ 4.],\n",
       "       [ 4.],\n",
       "       [21.],\n",
       "       [ 8.],\n",
       "       [ 8.],\n",
       "       [ 4.],\n",
       "       [ 4.],\n",
       "       [ 7.],\n",
       "       [ 4.],\n",
       "       [ 9.],\n",
       "       [ 9.],\n",
       "       [ 9.],\n",
       "       [ 4.],\n",
       "       [ 7.],\n",
       "       [ 8.],\n",
       "       [ 4.],\n",
       "       [ 4.],\n",
       "       [ 7.],\n",
       "       [10.],\n",
       "       [ 7.],\n",
       "       [ 8.],\n",
       "       [ 4.],\n",
       "       [ 4.],\n",
       "       [ 4.],\n",
       "       [ 4.],\n",
       "       [ 4.],\n",
       "       [ 4.],\n",
       "       [ 2.],\n",
       "       [ 9.],\n",
       "       [ 2.],\n",
       "       [ 3.],\n",
       "       [16.],\n",
       "       [ 4.],\n",
       "       [12.],\n",
       "       [ 7.],\n",
       "       [ 8.],\n",
       "       [14.],\n",
       "       [ 7.],\n",
       "       [ 3.],\n",
       "       [ 4.],\n",
       "       [ 7.],\n",
       "       [ 4.],\n",
       "       [ 4.],\n",
       "       [ 4.],\n",
       "       [ 4.],\n",
       "       [ 4.],\n",
       "       [ 4.],\n",
       "       [ 4.],\n",
       "       [13.],\n",
       "       [ 2.],\n",
       "       [ 7.],\n",
       "       [ 8.],\n",
       "       [ 4.],\n",
       "       [ 5.],\n",
       "       [ 7.],\n",
       "       [ 4.],\n",
       "       [10.],\n",
       "       [ 7.],\n",
       "       [ 7.],\n",
       "       [ 7.],\n",
       "       [ 8.],\n",
       "       [10.],\n",
       "       [ 5.],\n",
       "       [ 3.],\n",
       "       [ 4.],\n",
       "       [ 7.],\n",
       "       [ 4.],\n",
       "       [ 4.],\n",
       "       [ 4.],\n",
       "       [ 4.],\n",
       "       [ 4.],\n",
       "       [ 4.],\n",
       "       [ 8.],\n",
       "       [ 9.],\n",
       "       [ 4.],\n",
       "       [ 4.],\n",
       "       [ 8.],\n",
       "       [ 7.],\n",
       "       [ 4.],\n",
       "       [ 4.],\n",
       "       [ 4.],\n",
       "       [ 4.],\n",
       "       [ 4.],\n",
       "       [11.],\n",
       "       [ 4.],\n",
       "       [ 4.],\n",
       "       [ 4.],\n",
       "       [ 4.],\n",
       "       [ 4.],\n",
       "       [ 3.],\n",
       "       [ 5.],\n",
       "       [ 4.],\n",
       "       [ 4.],\n",
       "       [ 9.],\n",
       "       [ 7.],\n",
       "       [ 4.],\n",
       "       [ 4.],\n",
       "       [ 2.],\n",
       "       [ 4.],\n",
       "       [ 2.],\n",
       "       [ 1.],\n",
       "       [ 4.],\n",
       "       [ 4.],\n",
       "       [ 4.],\n",
       "       [ 9.],\n",
       "       [ 4.],\n",
       "       [ 4.],\n",
       "       [21.],\n",
       "       [ 4.],\n",
       "       [21.],\n",
       "       [ 9.],\n",
       "       [ 4.],\n",
       "       [ 4.],\n",
       "       [21.],\n",
       "       [ 4.],\n",
       "       [ 4.],\n",
       "       [ 4.],\n",
       "       [ 4.],\n",
       "       [13.],\n",
       "       [ 4.],\n",
       "       [ 9.],\n",
       "       [ 4.],\n",
       "       [11.],\n",
       "       [12.],\n",
       "       [ 4.],\n",
       "       [ 7.],\n",
       "       [ 8.],\n",
       "       [21.],\n",
       "       [ 4.],\n",
       "       [ 4.],\n",
       "       [ 4.],\n",
       "       [ 9.],\n",
       "       [ 4.],\n",
       "       [ 9.],\n",
       "       [ 4.],\n",
       "       [ 3.],\n",
       "       [ 4.],\n",
       "       [12.],\n",
       "       [10.],\n",
       "       [ 8.],\n",
       "       [ 4.],\n",
       "       [ 7.],\n",
       "       [ 4.],\n",
       "       [14.],\n",
       "       [ 4.],\n",
       "       [ 4.],\n",
       "       [ 4.],\n",
       "       [ 4.],\n",
       "       [ 4.],\n",
       "       [ 9.],\n",
       "       [ 4.],\n",
       "       [10.],\n",
       "       [12.],\n",
       "       [ 4.],\n",
       "       [ 8.],\n",
       "       [ 4.],\n",
       "       [ 4.],\n",
       "       [ 4.],\n",
       "       [ 4.],\n",
       "       [ 4.],\n",
       "       [ 4.],\n",
       "       [ 8.],\n",
       "       [ 2.],\n",
       "       [ 4.],\n",
       "       [ 4.],\n",
       "       [ 7.],\n",
       "       [ 9.],\n",
       "       [ 7.],\n",
       "       [10.],\n",
       "       [ 4.],\n",
       "       [ 4.],\n",
       "       [ 4.],\n",
       "       [10.],\n",
       "       [ 4.],\n",
       "       [ 4.],\n",
       "       [ 1.],\n",
       "       [ 7.],\n",
       "       [ 4.],\n",
       "       [ 8.],\n",
       "       [ 9.],\n",
       "       [ 4.],\n",
       "       [ 4.],\n",
       "       [ 9.],\n",
       "       [ 4.],\n",
       "       [ 4.],\n",
       "       [ 4.],\n",
       "       [ 4.],\n",
       "       [ 4.],\n",
       "       [ 4.],\n",
       "       [ 3.],\n",
       "       [ 1.],\n",
       "       [ 7.],\n",
       "       [16.],\n",
       "       [ 4.],\n",
       "       [ 7.],\n",
       "       [ 4.],\n",
       "       [ 7.],\n",
       "       [ 4.],\n",
       "       [ 9.],\n",
       "       [14.],\n",
       "       [ 3.],\n",
       "       [ 4.],\n",
       "       [ 4.],\n",
       "       [ 4.],\n",
       "       [ 4.],\n",
       "       [ 4.],\n",
       "       [ 4.],\n",
       "       [ 4.],\n",
       "       [ 4.],\n",
       "       [ 4.],\n",
       "       [ 4.],\n",
       "       [ 4.],\n",
       "       [16.],\n",
       "       [ 3.],\n",
       "       [ 4.],\n",
       "       [ 9.],\n",
       "       [ 4.],\n",
       "       [11.],\n",
       "       [ 4.],\n",
       "       [ 8.],\n",
       "       [ 2.],\n",
       "       [ 4.],\n",
       "       [ 8.],\n",
       "       [ 9.],\n",
       "       [ 8.],\n",
       "       [ 4.],\n",
       "       [16.],\n",
       "       [ 4.],\n",
       "       [ 4.],\n",
       "       [ 4.],\n",
       "       [ 4.],\n",
       "       [ 4.],\n",
       "       [ 4.],\n",
       "       [ 4.],\n",
       "       [ 4.],\n",
       "       [ 4.],\n",
       "       [ 7.],\n",
       "       [ 7.],\n",
       "       [10.],\n",
       "       [ 4.],\n",
       "       [ 4.],\n",
       "       [ 7.],\n",
       "       [ 4.],\n",
       "       [12.],\n",
       "       [ 4.],\n",
       "       [11.],\n",
       "       [10.],\n",
       "       [ 8.],\n",
       "       [ 4.],\n",
       "       [16.],\n",
       "       [10.],\n",
       "       [ 4.],\n",
       "       [ 4.],\n",
       "       [12.],\n",
       "       [13.],\n",
       "       [ 4.],\n",
       "       [ 7.],\n",
       "       [16.],\n",
       "       [14.],\n",
       "       [12.],\n",
       "       [ 4.],\n",
       "       [ 4.],\n",
       "       [11.],\n",
       "       [ 4.],\n",
       "       [ 4.],\n",
       "       [ 9.],\n",
       "       [ 9.],\n",
       "       [ 7.],\n",
       "       [ 9.],\n",
       "       [ 7.],\n",
       "       [ 4.],\n",
       "       [ 8.],\n",
       "       [ 7.],\n",
       "       [ 4.],\n",
       "       [17.],\n",
       "       [21.],\n",
       "       [21.],\n",
       "       [ 3.],\n",
       "       [ 9.],\n",
       "       [ 7.],\n",
       "       [10.],\n",
       "       [ 4.],\n",
       "       [ 4.],\n",
       "       [ 4.],\n",
       "       [ 4.],\n",
       "       [ 4.],\n",
       "       [ 4.],\n",
       "       [16.],\n",
       "       [ 4.],\n",
       "       [17.],\n",
       "       [ 4.],\n",
       "       [ 4.],\n",
       "       [ 7.],\n",
       "       [ 9.],\n",
       "       [ 4.],\n",
       "       [ 4.],\n",
       "       [ 4.],\n",
       "       [ 4.],\n",
       "       [21.],\n",
       "       [ 4.],\n",
       "       [ 7.],\n",
       "       [21.],\n",
       "       [ 8.],\n",
       "       [ 4.],\n",
       "       [ 9.],\n",
       "       [ 7.],\n",
       "       [ 5.],\n",
       "       [ 4.],\n",
       "       [ 9.],\n",
       "       [ 7.],\n",
       "       [ 9.],\n",
       "       [16.],\n",
       "       [21.],\n",
       "       [ 8.],\n",
       "       [ 4.],\n",
       "       [ 9.],\n",
       "       [ 4.],\n",
       "       [ 9.],\n",
       "       [ 4.],\n",
       "       [ 7.],\n",
       "       [ 7.],\n",
       "       [ 9.],\n",
       "       [10.],\n",
       "       [ 4.],\n",
       "       [ 4.],\n",
       "       [ 4.],\n",
       "       [ 4.],\n",
       "       [ 4.],\n",
       "       [21.],\n",
       "       [ 4.],\n",
       "       [13.],\n",
       "       [ 4.],\n",
       "       [ 8.],\n",
       "       [ 9.],\n",
       "       [16.],\n",
       "       [ 4.],\n",
       "       [ 4.],\n",
       "       [ 4.],\n",
       "       [ 9.],\n",
       "       [12.],\n",
       "       [ 8.],\n",
       "       [16.],\n",
       "       [ 4.],\n",
       "       [ 8.],\n",
       "       [21.],\n",
       "       [ 4.],\n",
       "       [ 4.],\n",
       "       [ 4.],\n",
       "       [ 4.],\n",
       "       [ 8.],\n",
       "       [ 4.],\n",
       "       [17.],\n",
       "       [ 4.],\n",
       "       [ 4.],\n",
       "       [ 4.],\n",
       "       [ 4.],\n",
       "       [21.],\n",
       "       [ 7.],\n",
       "       [ 3.],\n",
       "       [ 4.],\n",
       "       [ 7.],\n",
       "       [ 4.],\n",
       "       [ 4.],\n",
       "       [ 4.],\n",
       "       [ 4.],\n",
       "       [ 9.],\n",
       "       [ 4.],\n",
       "       [ 5.],\n",
       "       [ 3.],\n",
       "       [ 4.],\n",
       "       [12.],\n",
       "       [ 8.],\n",
       "       [10.],\n",
       "       [ 4.],\n",
       "       [ 9.],\n",
       "       [11.],\n",
       "       [ 4.],\n",
       "       [ 4.],\n",
       "       [ 4.],\n",
       "       [ 4.],\n",
       "       [ 4.],\n",
       "       [ 8.],\n",
       "       [ 4.],\n",
       "       [16.],\n",
       "       [21.],\n",
       "       [ 4.],\n",
       "       [ 3.],\n",
       "       [ 8.],\n",
       "       [21.],\n",
       "       [ 4.],\n",
       "       [16.],\n",
       "       [ 4.],\n",
       "       [ 9.],\n",
       "       [14.],\n",
       "       [ 8.],\n",
       "       [ 4.],\n",
       "       [ 4.],\n",
       "       [ 9.],\n",
       "       [ 3.],\n",
       "       [13.],\n",
       "       [20.],\n",
       "       [ 4.],\n",
       "       [ 4.],\n",
       "       [ 4.],\n",
       "       [ 4.],\n",
       "       [ 9.],\n",
       "       [ 4.],\n",
       "       [12.],\n",
       "       [16.],\n",
       "       [ 4.],\n",
       "       [ 9.],\n",
       "       [ 4.],\n",
       "       [ 8.],\n",
       "       [ 4.],\n",
       "       [ 4.],\n",
       "       [ 4.],\n",
       "       [ 4.],\n",
       "       [10.],\n",
       "       [16.],\n",
       "       [12.],\n",
       "       [ 7.],\n",
       "       [ 4.],\n",
       "       [ 4.],\n",
       "       [ 4.],\n",
       "       [ 8.],\n",
       "       [ 4.],\n",
       "       [ 4.],\n",
       "       [ 9.],\n",
       "       [ 2.],\n",
       "       [ 3.],\n",
       "       [16.],\n",
       "       [ 7.],\n",
       "       [ 9.],\n",
       "       [ 4.],\n",
       "       [ 4.],\n",
       "       [ 7.],\n",
       "       [ 4.],\n",
       "       [ 7.],\n",
       "       [ 4.],\n",
       "       [ 4.],\n",
       "       [ 2.],\n",
       "       [ 4.],\n",
       "       [ 4.],\n",
       "       [ 8.],\n",
       "       [ 4.],\n",
       "       [ 1.],\n",
       "       [ 4.],\n",
       "       [ 4.],\n",
       "       [ 4.],\n",
       "       [ 4.],\n",
       "       [21.],\n",
       "       [10.],\n",
       "       [ 8.],\n",
       "       [17.],\n",
       "       [ 7.],\n",
       "       [ 4.],\n",
       "       [ 3.],\n",
       "       [ 2.],\n",
       "       [ 9.],\n",
       "       [ 7.],\n",
       "       [ 9.],\n",
       "       [ 4.],\n",
       "       [ 4.],\n",
       "       [ 4.],\n",
       "       [ 4.],\n",
       "       [ 4.],\n",
       "       [ 9.],\n",
       "       [ 4.],\n",
       "       [ 4.],\n",
       "       [ 1.],\n",
       "       [16.],\n",
       "       [ 4.],\n",
       "       [21.],\n",
       "       [ 9.],\n",
       "       [ 4.],\n",
       "       [ 4.],\n",
       "       [ 4.],\n",
       "       [ 9.],\n",
       "       [21.],\n",
       "       [ 4.],\n",
       "       [ 4.],\n",
       "       [ 3.],\n",
       "       [ 7.],\n",
       "       [ 8.],\n",
       "       [13.],\n",
       "       [ 2.],\n",
       "       [ 2.],\n",
       "       [21.],\n",
       "       [ 4.],\n",
       "       [ 4.],\n",
       "       [ 3.],\n",
       "       [ 4.],\n",
       "       [ 4.],\n",
       "       [ 7.],\n",
       "       [10.],\n",
       "       [ 4.],\n",
       "       [ 2.],\n",
       "       [ 8.],\n",
       "       [ 7.],\n",
       "       [ 4.],\n",
       "       [ 7.],\n",
       "       [11.],\n",
       "       [ 4.],\n",
       "       [ 4.],\n",
       "       [ 4.],\n",
       "       [ 4.],\n",
       "       [ 2.],\n",
       "       [ 4.],\n",
       "       [ 8.],\n",
       "       [ 4.],\n",
       "       [ 8.],\n",
       "       [ 4.],\n",
       "       [ 7.],\n",
       "       [ 9.],\n",
       "       [ 3.],\n",
       "       [12.],\n",
       "       [ 5.],\n",
       "       [ 9.],\n",
       "       [ 4.],\n",
       "       [12.],\n",
       "       [ 7.],\n",
       "       [ 1.],\n",
       "       [10.],\n",
       "       [ 4.],\n",
       "       [ 4.],\n",
       "       [ 4.],\n",
       "       [ 5.],\n",
       "       [ 8.],\n",
       "       [ 4.],\n",
       "       [12.],\n",
       "       [ 4.],\n",
       "       [ 3.],\n",
       "       [ 4.],\n",
       "       [ 9.],\n",
       "       [ 4.],\n",
       "       [ 4.],\n",
       "       [ 4.],\n",
       "       [ 4.],\n",
       "       [ 3.],\n",
       "       [ 4.],\n",
       "       [21.],\n",
       "       [ 7.],\n",
       "       [ 4.],\n",
       "       [21.],\n",
       "       [ 7.],\n",
       "       [ 3.],\n",
       "       [ 4.],\n",
       "       [ 9.],\n",
       "       [ 4.],\n",
       "       [ 4.],\n",
       "       [ 7.],\n",
       "       [16.],\n",
       "       [ 4.],\n",
       "       [10.],\n",
       "       [16.],\n",
       "       [21.],\n",
       "       [12.],\n",
       "       [ 4.],\n",
       "       [ 9.],\n",
       "       [17.],\n",
       "       [ 2.],\n",
       "       [ 7.],\n",
       "       [21.],\n",
       "       [ 8.],\n",
       "       [ 4.],\n",
       "       [ 4.],\n",
       "       [ 4.],\n",
       "       [ 4.],\n",
       "       [ 4.],\n",
       "       [ 4.],\n",
       "       [ 4.],\n",
       "       [ 4.],\n",
       "       [ 4.],\n",
       "       [ 4.],\n",
       "       [ 4.],\n",
       "       [ 4.],\n",
       "       [ 5.],\n",
       "       [ 4.],\n",
       "       [ 9.],\n",
       "       [21.],\n",
       "       [10.],\n",
       "       [ 8.],\n",
       "       [ 4.],\n",
       "       [ 4.],\n",
       "       [ 1.],\n",
       "       [ 7.],\n",
       "       [ 1.],\n",
       "       [16.],\n",
       "       [ 1.],\n",
       "       [ 7.],\n",
       "       [16.],\n",
       "       [ 3.],\n",
       "       [ 4.],\n",
       "       [ 4.],\n",
       "       [ 9.],\n",
       "       [ 4.],\n",
       "       [ 4.],\n",
       "       [ 8.],\n",
       "       [ 4.],\n",
       "       [21.],\n",
       "       [ 4.],\n",
       "       [ 4.],\n",
       "       [ 9.],\n",
       "       [ 4.],\n",
       "       [ 4.],\n",
       "       [ 4.],\n",
       "       [ 4.],\n",
       "       [ 4.],\n",
       "       [ 4.],\n",
       "       [14.],\n",
       "       [13.],\n",
       "       [ 4.],\n",
       "       [ 8.],\n",
       "       [ 4.],\n",
       "       [ 7.],\n",
       "       [ 4.],\n",
       "       [ 4.],\n",
       "       [21.],\n",
       "       [ 9.],\n",
       "       [ 4.],\n",
       "       [ 4.],\n",
       "       [ 7.],\n",
       "       [ 4.],\n",
       "       [ 4.],\n",
       "       [ 4.],\n",
       "       [ 4.],\n",
       "       [ 4.],\n",
       "       [ 4.],\n",
       "       [17.],\n",
       "       [ 7.],\n",
       "       [ 4.],\n",
       "       [ 4.],\n",
       "       [ 7.],\n",
       "       [ 7.],\n",
       "       [ 4.],\n",
       "       [ 7.],\n",
       "       [ 4.],\n",
       "       [18.],\n",
       "       [ 3.],\n",
       "       [ 4.],\n",
       "       [ 4.],\n",
       "       [ 4.],\n",
       "       [17.],\n",
       "       [ 4.],\n",
       "       [ 4.],\n",
       "       [ 3.],\n",
       "       [10.],\n",
       "       [10.],\n",
       "       [ 9.],\n",
       "       [ 2.],\n",
       "       [ 4.],\n",
       "       [14.],\n",
       "       [ 4.],\n",
       "       [ 4.],\n",
       "       [ 4.],\n",
       "       [ 4.],\n",
       "       [21.],\n",
       "       [ 4.],\n",
       "       [ 4.],\n",
       "       [ 4.],\n",
       "       [ 5.],\n",
       "       [10.],\n",
       "       [ 4.],\n",
       "       [ 4.],\n",
       "       [ 4.],\n",
       "       [ 4.],\n",
       "       [ 7.],\n",
       "       [ 4.],\n",
       "       [ 4.],\n",
       "       [ 4.],\n",
       "       [ 4.],\n",
       "       [ 8.],\n",
       "       [ 4.],\n",
       "       [ 4.],\n",
       "       [ 9.],\n",
       "       [ 4.],\n",
       "       [10.],\n",
       "       [ 1.],\n",
       "       [ 4.],\n",
       "       [ 4.],\n",
       "       [ 7.],\n",
       "       [ 4.],\n",
       "       [ 9.],\n",
       "       [ 4.],\n",
       "       [ 4.],\n",
       "       [ 4.],\n",
       "       [12.],\n",
       "       [ 4.],\n",
       "       [ 9.],\n",
       "       [ 4.],\n",
       "       [ 4.],\n",
       "       [ 4.],\n",
       "       [ 9.],\n",
       "       [ 4.],\n",
       "       [10.],\n",
       "       [ 4.],\n",
       "       [ 5.],\n",
       "       [ 4.],\n",
       "       [ 1.],\n",
       "       [ 8.],\n",
       "       [ 4.],\n",
       "       [ 4.],\n",
       "       [ 8.],\n",
       "       [ 4.],\n",
       "       [ 9.],\n",
       "       [ 4.],\n",
       "       [ 4.],\n",
       "       [ 4.],\n",
       "       [21.],\n",
       "       [ 8.],\n",
       "       [ 4.],\n",
       "       [11.],\n",
       "       [ 8.],\n",
       "       [ 6.],\n",
       "       [ 4.],\n",
       "       [ 4.],\n",
       "       [12.],\n",
       "       [ 4.],\n",
       "       [ 7.],\n",
       "       [ 4.],\n",
       "       [ 4.],\n",
       "       [ 4.],\n",
       "       [ 9.],\n",
       "       [ 4.],\n",
       "       [ 7.],\n",
       "       [ 8.],\n",
       "       [12.],\n",
       "       [ 9.],\n",
       "       [10.],\n",
       "       [ 4.],\n",
       "       [ 4.],\n",
       "       [ 4.],\n",
       "       [ 4.],\n",
       "       [14.],\n",
       "       [ 4.],\n",
       "       [ 7.],\n",
       "       [ 3.],\n",
       "       [ 4.],\n",
       "       [ 4.],\n",
       "       [ 7.],\n",
       "       [ 4.],\n",
       "       [ 4.],\n",
       "       [14.],\n",
       "       [ 4.],\n",
       "       [ 1.],\n",
       "       [21.],\n",
       "       [ 4.],\n",
       "       [ 7.],\n",
       "       [ 1.],\n",
       "       [ 4.],\n",
       "       [ 8.],\n",
       "       [ 8.],\n",
       "       [ 4.],\n",
       "       [ 4.],\n",
       "       [ 9.],\n",
       "       [ 4.],\n",
       "       [10.],\n",
       "       [ 4.],\n",
       "       [10.],\n",
       "       [ 7.],\n",
       "       [16.],\n",
       "       [ 4.],\n",
       "       [ 4.],\n",
       "       [ 4.],\n",
       "       [ 7.],\n",
       "       [ 3.],\n",
       "       [ 7.],\n",
       "       [ 9.],\n",
       "       [ 4.],\n",
       "       [ 4.],\n",
       "       [13.],\n",
       "       [ 4.],\n",
       "       [21.],\n",
       "       [ 7.],\n",
       "       [ 4.],\n",
       "       [ 8.],\n",
       "       [ 4.],\n",
       "       [ 4.],\n",
       "       [ 3.],\n",
       "       [ 9.],\n",
       "       [ 1.],\n",
       "       [ 7.],\n",
       "       [ 8.],\n",
       "       [ 9.],\n",
       "       [ 8.],\n",
       "       [ 4.],\n",
       "       [28.],\n",
       "       [ 4.],\n",
       "       [ 4.],\n",
       "       [ 9.],\n",
       "       [ 2.],\n",
       "       [ 9.],\n",
       "       [ 4.],\n",
       "       [ 4.],\n",
       "       [ 4.],\n",
       "       [ 4.],\n",
       "       [ 4.],\n",
       "       [ 4.],\n",
       "       [ 4.],\n",
       "       [ 4.],\n",
       "       [10.],\n",
       "       [ 4.],\n",
       "       [ 8.],\n",
       "       [ 8.],\n",
       "       [ 4.],\n",
       "       [ 7.],\n",
       "       [13.],\n",
       "       [ 4.],\n",
       "       [ 4.],\n",
       "       [ 3.],\n",
       "       [ 8.],\n",
       "       [ 3.],\n",
       "       [ 7.],\n",
       "       [16.],\n",
       "       [ 4.],\n",
       "       [ 4.],\n",
       "       [21.],\n",
       "       [16.],\n",
       "       [ 2.],\n",
       "       [ 7.],\n",
       "       [ 5.],\n",
       "       [ 7.],\n",
       "       [ 4.],\n",
       "       [ 4.],\n",
       "       [11.],\n",
       "       [ 4.],\n",
       "       [ 9.],\n",
       "       [ 4.],\n",
       "       [ 4.],\n",
       "       [ 4.],\n",
       "       [ 8.],\n",
       "       [ 3.],\n",
       "       [ 3.],\n",
       "       [ 4.],\n",
       "       [ 7.],\n",
       "       [ 4.],\n",
       "       [ 4.],\n",
       "       [16.],\n",
       "       [ 4.],\n",
       "       [ 9.],\n",
       "       [ 4.],\n",
       "       [ 4.],\n",
       "       [ 4.],\n",
       "       [ 4.],\n",
       "       [ 4.],\n",
       "       [ 7.],\n",
       "       [ 4.],\n",
       "       [ 4.],\n",
       "       [ 4.],\n",
       "       [ 7.],\n",
       "       [ 4.],\n",
       "       [ 4.],\n",
       "       [ 3.],\n",
       "       [ 2.],\n",
       "       [13.],\n",
       "       [ 4.],\n",
       "       [ 4.],\n",
       "       [12.],\n",
       "       [14.],\n",
       "       [16.],\n",
       "       [ 4.],\n",
       "       [ 3.],\n",
       "       [ 4.],\n",
       "       [ 7.],\n",
       "       [ 4.],\n",
       "       [ 4.],\n",
       "       [ 4.],\n",
       "       [ 4.],\n",
       "       [16.],\n",
       "       [ 4.],\n",
       "       [ 4.],\n",
       "       [ 3.],\n",
       "       [21.],\n",
       "       [ 4.],\n",
       "       [ 4.],\n",
       "       [ 8.],\n",
       "       [ 4.],\n",
       "       [ 4.],\n",
       "       [ 4.],\n",
       "       [21.],\n",
       "       [ 9.],\n",
       "       [14.],\n",
       "       [10.],\n",
       "       [ 2.],\n",
       "       [ 7.],\n",
       "       [ 9.],\n",
       "       [ 3.],\n",
       "       [ 7.],\n",
       "       [ 4.],\n",
       "       [ 4.],\n",
       "       [ 4.],\n",
       "       [ 7.],\n",
       "       [ 9.],\n",
       "       [10.],\n",
       "       [ 7.],\n",
       "       [ 3.],\n",
       "       [ 4.],\n",
       "       [10.],\n",
       "       [13.],\n",
       "       [12.],\n",
       "       [ 4.],\n",
       "       [ 4.],\n",
       "       [ 4.],\n",
       "       [11.],\n",
       "       [ 4.],\n",
       "       [ 4.],\n",
       "       [ 7.],\n",
       "       [ 4.],\n",
       "       [ 3.],\n",
       "       [ 4.],\n",
       "       [ 8.],\n",
       "       [ 4.],\n",
       "       [ 9.],\n",
       "       [ 2.],\n",
       "       [ 4.],\n",
       "       [21.],\n",
       "       [ 4.],\n",
       "       [ 4.],\n",
       "       [ 9.],\n",
       "       [ 4.],\n",
       "       [ 4.],\n",
       "       [ 7.],\n",
       "       [ 4.],\n",
       "       [ 2.],\n",
       "       [12.],\n",
       "       [11.],\n",
       "       [21.],\n",
       "       [ 8.],\n",
       "       [ 8.],\n",
       "       [ 7.],\n",
       "       [10.],\n",
       "       [ 7.],\n",
       "       [ 7.],\n",
       "       [12.],\n",
       "       [ 4.]])"
      ]
     },
     "execution_count": 45,
     "metadata": {},
     "output_type": "execute_result"
    }
   ],
   "source": []
  },
  {
   "cell_type": "code",
   "execution_count": null,
   "metadata": {},
   "outputs": [],
   "source": []
  }
 ],
 "metadata": {
  "kernelspec": {
   "display_name": "Python 3",
   "language": "python",
   "name": "python3"
  },
  "language_info": {
   "codemirror_mode": {
    "name": "ipython",
    "version": 3
   },
   "file_extension": ".py",
   "mimetype": "text/x-python",
   "name": "python",
   "nbconvert_exporter": "python",
   "pygments_lexer": "ipython3",
   "version": "3.7.6"
  }
 },
 "nbformat": 4,
 "nbformat_minor": 4
}
