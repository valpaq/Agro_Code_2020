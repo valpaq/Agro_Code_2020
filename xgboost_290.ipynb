{
  "nbformat": 4,
  "nbformat_minor": 0,
  "metadata": {
    "kernelspec": {
      "display_name": "Python 3",
      "language": "python",
      "name": "python3"
    },
    "language_info": {
      "codemirror_mode": {
        "name": "ipython",
        "version": 3
      },
      "file_extension": ".py",
      "mimetype": "text/x-python",
      "name": "python",
      "nbconvert_exporter": "python",
      "pygments_lexer": "ipython3",
      "version": "3.7.6"
    },
    "colab": {
      "name": "xgboost_290.ipynb",
      "provenance": [],
      "collapsed_sections": []
    }
  },
  "cells": [
    {
      "cell_type": "code",
      "metadata": {
        "id": "OxI9h_kzkUwB"
      },
      "source": [
        "import pandas as pd\n",
        "from sklearn.impute import KNNImputer\n",
        "from sklearn.model_selection import train_test_split\n",
        "from sklearn.ensemble import RandomForestClassifier\n",
        "from sklearn.metrics import f1_score, classification_report\n",
        "import seaborn as sns\n",
        "import matplotlib.pyplot as plt\n",
        "from xgboost import XGBClassifier\n",
        "from sklearn.model_selection import StratifiedKFold\n",
        "from sklearn.model_selection import RandomizedSearchCV, GridSearchCV\n",
        "from datetime import datetime"
      ],
      "execution_count": 1,
      "outputs": []
    },
    {
      "cell_type": "code",
      "metadata": {
        "id": "xTA48mj1kUwG",
        "outputId": "b6e34337-2e48-4023-801c-bf05ebf1cf62"
      },
      "source": [
        "train = pd.read_csv('data/train_dropped_290_without_nans.csv')\n",
        "test = pd.read_csv('data/test_dropped_290_without_nans.csv')\n",
        "y_train=pd.read_csv('data/y_train.csv')['Culture']\n",
        "print(train.shape, test.shape)"
      ],
      "execution_count": null,
      "outputs": [
        {
          "output_type": "stream",
          "text": [
            "(2838, 293) (939, 293)\n"
          ],
          "name": "stdout"
        }
      ]
    },
    {
      "cell_type": "code",
      "metadata": {
        "id": "foAItnP3kUwP"
      },
      "source": [
        "params = {\n",
        "        'min_child_weight': [1, 5, 10],\n",
        "        'gamma': [0.5, 1, 1.5, 2, 5],\n",
        "        'subsample': [0.6, 0.8, 1.0],\n",
        "        'colsample_bytree': [0.6, 0.8, 1.0],\n",
        "        'max_depth': [3, 4, 5]\n",
        "        }"
      ],
      "execution_count": null,
      "outputs": []
    },
    {
      "cell_type": "code",
      "metadata": {
        "id": "A0cl2ivEkUwP"
      },
      "source": [
        "xgb = XGBClassifier(learning_rate=0.01, n_estimators=800, nthread=-1)"
      ],
      "execution_count": null,
      "outputs": []
    },
    {
      "cell_type": "code",
      "metadata": {
        "id": "b81KHJ1AkUwQ",
        "outputId": "3a9ab199-9f52-44a4-8b54-c7f63ef6dbba"
      },
      "source": [
        "%%time\n",
        "folds = 5\n",
        "param_comb = 5\n",
        "\n",
        "skf = StratifiedKFold(n_splits=folds, shuffle = True, random_state = 0)\n",
        "\n",
        "random_search = RandomizedSearchCV(xgb, param_distributions=params, n_iter=param_comb, scoring='f1_weighted', n_jobs=-1, cv=skf.split(train,y_train), verbose=3, random_state=42 )\n",
        "\n",
        "# Here we go # timing starts from this point for \"start_time\" variable\n",
        "random_search.fit(train,y_train)"
      ],
      "execution_count": null,
      "outputs": [
        {
          "output_type": "stream",
          "text": [
            "c:\\users\\adm\\appdata\\local\\programs\\python\\python37\\lib\\site-packages\\sklearn\\model_selection\\_split.py:672: UserWarning: The least populated class in y has only 1 members, which is less than n_splits=3.\n",
            "  % (min_groups, self.n_splits)), UserWarning)\n",
            "[Parallel(n_jobs=-1)]: Using backend LokyBackend with 8 concurrent workers.\n"
          ],
          "name": "stderr"
        },
        {
          "output_type": "stream",
          "text": [
            "Fitting 3 folds for each of 5 candidates, totalling 15 fits\n"
          ],
          "name": "stdout"
        },
        {
          "output_type": "stream",
          "text": [
            "[Parallel(n_jobs=-1)]: Done   6 out of  15 | elapsed: 12.1min remaining: 18.2min\n",
            "[Parallel(n_jobs=-1)]: Done  12 out of  15 | elapsed: 16.5min remaining:  4.1min\n",
            "[Parallel(n_jobs=-1)]: Done  15 out of  15 | elapsed: 17.3min finished\n"
          ],
          "name": "stderr"
        },
        {
          "output_type": "stream",
          "text": [
            "Wall time: 20min 32s\n"
          ],
          "name": "stdout"
        },
        {
          "output_type": "execute_result",
          "data": {
            "text/plain": [
              "RandomizedSearchCV(cv=<generator object _BaseKFold.split at 0x000001DDDB685EC8>,\n",
              "                   estimator=XGBClassifier(base_score=None, booster=None,\n",
              "                                           colsample_bylevel=None,\n",
              "                                           colsample_bynode=None,\n",
              "                                           colsample_bytree=None, gamma=None,\n",
              "                                           gpu_id=None, importance_type='gain',\n",
              "                                           interaction_constraints=None,\n",
              "                                           learning_rate=0.01,\n",
              "                                           max_delta_step=None, max_depth=None,\n",
              "                                           min_child_weight=None, mis...\n",
              "                                           random_state=None, reg_alpha=None,\n",
              "                                           reg_lambda=None,\n",
              "                                           scale_pos_weight=None,\n",
              "                                           subsample=None, tree_method=None,\n",
              "                                           validate_parameters=None,\n",
              "                                           verbosity=None),\n",
              "                   n_iter=5, n_jobs=-1,\n",
              "                   param_distributions={'colsample_bytree': [0.6, 0.8, 1.0],\n",
              "                                        'gamma': [0.5, 1, 1.5, 2, 5],\n",
              "                                        'max_depth': [3, 4, 5],\n",
              "                                        'min_child_weight': [1, 5, 10],\n",
              "                                        'subsample': [0.6, 0.8, 1.0]},\n",
              "                   random_state=42, scoring='f1_weighted', verbose=3)"
            ]
          },
          "metadata": {
            "tags": []
          },
          "execution_count": 6
        }
      ]
    },
    {
      "cell_type": "code",
      "metadata": {
        "id": "C_kpr2PpkUwR"
      },
      "source": [
        "preds = random_search.predict(test)\n",
        "pd.Series(preds).to_csv('preds/submission-random-grid-search-xgb-01.csv', index=False, header=['Culture'])"
      ],
      "execution_count": null,
      "outputs": []
    },
    {
      "cell_type": "code",
      "metadata": {
        "id": "seD11W9RkUwS"
      },
      "source": [
        "train.drop(['0','1','2'],axis=1,inplace=True)\n",
        "test.drop(['0','1','2'],axis=1,inplace=True)"
      ],
      "execution_count": null,
      "outputs": []
    },
    {
      "cell_type": "code",
      "metadata": {
        "id": "Hiny8ofdkUwS",
        "outputId": "fcf22b61-7ba3-4391-9e5a-f2562107ba2b"
      },
      "source": [
        "%%time\n",
        "folds = 5\n",
        "param_comb = 5\n",
        "\n",
        "skf = StratifiedKFold(n_splits=folds, shuffle = True, random_state = 42)\n",
        "\n",
        "random_search = RandomizedSearchCV(xgb, param_distributions=params, n_iter=param_comb, scoring='f1_weighted', n_jobs=-1, cv=skf.split(train,y_train), verbose=3, random_state=42 )\n",
        "\n",
        "# Here we go # timing starts from this point for \"start_time\" variable\n",
        "random_search.fit(train,y_train)\n",
        "preds = random_search.predict(test)\n",
        "pd.Series(preds).to_csv('preds/submission-random-grid-search-xgb-290.csv', index=False, header=['Culture'])"
      ],
      "execution_count": null,
      "outputs": [
        {
          "output_type": "stream",
          "text": [
            "c:\\users\\adm\\appdata\\local\\programs\\python\\python37\\lib\\site-packages\\sklearn\\model_selection\\_split.py:672: UserWarning: The least populated class in y has only 1 members, which is less than n_splits=5.\n",
            "  % (min_groups, self.n_splits)), UserWarning)\n",
            "[Parallel(n_jobs=-1)]: Using backend LokyBackend with 8 concurrent workers.\n"
          ],
          "name": "stderr"
        },
        {
          "output_type": "stream",
          "text": [
            "Fitting 5 folds for each of 5 candidates, totalling 25 fits\n"
          ],
          "name": "stdout"
        },
        {
          "output_type": "stream",
          "text": [
            "[Parallel(n_jobs=-1)]: Done  19 out of  25 | elapsed: 32.5min remaining: 10.2min\n",
            "[Parallel(n_jobs=-1)]: Done  25 out of  25 | elapsed: 35.0min finished\n"
          ],
          "name": "stderr"
        },
        {
          "output_type": "stream",
          "text": [
            "Wall time: 36min 34s\n"
          ],
          "name": "stdout"
        }
      ]
    },
    {
      "cell_type": "code",
      "metadata": {
        "id": "vvrquvG9kUwT",
        "outputId": "b57d4e10-14dd-43a4-fd70-2f2238de4f6b"
      },
      "source": [
        "random_search.best_params_"
      ],
      "execution_count": null,
      "outputs": [
        {
          "output_type": "execute_result",
          "data": {
            "text/plain": [
              "{'subsample': 0.8,\n",
              " 'min_child_weight': 10,\n",
              " 'max_depth': 4,\n",
              " 'gamma': 1.5,\n",
              " 'colsample_bytree': 0.6}"
            ]
          },
          "metadata": {
            "tags": []
          },
          "execution_count": 7
        }
      ]
    },
    {
      "cell_type": "code",
      "metadata": {
        "id": "vz-ikTFKkUwT",
        "outputId": "6e5d1d78-8368-47fb-9315-bb9a400250c4"
      },
      "source": [
        "%%time\n",
        "params = {\n",
        "        'min_child_weight': [10],\n",
        "        'gamma': [1.5],\n",
        "        'subsample': [0.8],\n",
        "        'colsample_bytree': [0.6],\n",
        "        'max_depth': [6]\n",
        "        }\n",
        "xgb = XGBClassifier(learning_rate=0.01, n_estimators=1200, nthread=-1)\n",
        "folds = 5\n",
        "param_comb = 5\n",
        "\n",
        "skf = StratifiedKFold(n_splits=folds, shuffle = True, random_state = 256)\n",
        "\n",
        "random_search = RandomizedSearchCV(xgb, param_distributions=params, n_iter=param_comb, scoring='f1_weighted', n_jobs=-1, cv=skf.split(train,y_train), verbose=3, random_state=42 )\n",
        "\n",
        "# Here we go # timing starts from this point for \"start_time\" variable\n",
        "random_search.fit(train,y_train)\n",
        "preds = random_search.predict(test)\n",
        "pd.Series(preds).to_csv('preds/submission-random-grid-search-xgb-290.csv', index=False, header=['Culture'])"
      ],
      "execution_count": null,
      "outputs": [
        {
          "output_type": "stream",
          "text": [
            "c:\\users\\adm\\appdata\\local\\programs\\python\\python37\\lib\\site-packages\\sklearn\\model_selection\\_split.py:672: UserWarning: The least populated class in y has only 1 members, which is less than n_splits=5.\n",
            "  % (min_groups, self.n_splits)), UserWarning)\n",
            "c:\\users\\adm\\appdata\\local\\programs\\python\\python37\\lib\\site-packages\\sklearn\\model_selection\\_search.py:282: UserWarning: The total space of parameters 1 is smaller than n_iter=5. Running 1 iterations. For exhaustive searches, use GridSearchCV.\n",
            "  % (grid_size, self.n_iter, grid_size), UserWarning)\n",
            "[Parallel(n_jobs=-1)]: Using backend LokyBackend with 8 concurrent workers.\n"
          ],
          "name": "stderr"
        },
        {
          "output_type": "stream",
          "text": [
            "Fitting 5 folds for each of 1 candidates, totalling 5 fits\n"
          ],
          "name": "stdout"
        },
        {
          "output_type": "stream",
          "text": [
            "[Parallel(n_jobs=-1)]: Done   2 out of   5 | elapsed:  9.0min remaining: 13.5min\n",
            "[Parallel(n_jobs=-1)]: Done   5 out of   5 | elapsed:  9.1min finished\n"
          ],
          "name": "stderr"
        },
        {
          "output_type": "stream",
          "text": [
            "Wall time: 11min 26s\n"
          ],
          "name": "stdout"
        }
      ]
    },
    {
      "cell_type": "code",
      "metadata": {
        "colab": {
          "base_uri": "https://localhost:8080/"
        },
        "id": "cK9FAw66kUwU",
        "outputId": "e71a2c18-c1cf-41c3-f062-622fb06541b1"
      },
      "source": [
        "train = pd.read_csv('train_290_without_low1.csv')\n",
        "test = pd.read_csv('test_dropped_290_without_nans.csv')\n",
        "print(train.shape, test.shape)"
      ],
      "execution_count": 3,
      "outputs": [
        {
          "output_type": "stream",
          "text": [
            "(2828, 294) (939, 293)\n"
          ],
          "name": "stdout"
        }
      ]
    },
    {
      "cell_type": "code",
      "metadata": {
        "colab": {
          "base_uri": "https://localhost:8080/"
        },
        "id": "NU2ms-otkiTF",
        "outputId": "460d3fee-428c-4bf9-ef06-b51ee1f8cd1c"
      },
      "source": [
        "%%time\n",
        "params = {\n",
        "        'min_child_weight': [10],\n",
        "        'gamma': [1.5],\n",
        "        'subsample': [0.8],\n",
        "        'colsample_bytree': [0.6],\n",
        "        'max_depth': [6]\n",
        "        }\n",
        "xgb = XGBClassifier(learning_rate=0.01, n_estimators=1200, nthread=-1)\n",
        "folds = 5\n",
        "param_comb = 5\n",
        "\n",
        "skf = StratifiedKFold(n_splits=folds, shuffle = True, random_state = 256)\n",
        "\n",
        "random_search = RandomizedSearchCV(xgb, param_distributions=params, n_iter=param_comb, scoring='f1_weighted', n_jobs=-1, cv=skf.split(train.drop('Culture',axis=1),train['Culture']), verbose=3, random_state=42 )\n",
        "\n",
        "# Here we go # timing starts from this point for \"start_time\" variable\n",
        "random_search.fit(train.drop('Culture',axis=1),train['Culture'])\n",
        "preds = random_search.predict(test)\n",
        "pd.Series(preds).to_csv('xgb_51.csv', index=False, header=['Culture'])"
      ],
      "execution_count": 4,
      "outputs": [
        {
          "output_type": "stream",
          "text": [
            "Fitting 5 folds for each of 1 candidates, totalling 5 fits\n"
          ],
          "name": "stdout"
        },
        {
          "output_type": "stream",
          "text": [
            "/usr/local/lib/python3.6/dist-packages/sklearn/model_selection/_search.py:281: UserWarning: The total space of parameters 1 is smaller than n_iter=5. Running 1 iterations. For exhaustive searches, use GridSearchCV.\n",
            "  % (grid_size, self.n_iter, grid_size), UserWarning)\n",
            "[Parallel(n_jobs=-1)]: Using backend LokyBackend with 2 concurrent workers.\n",
            "[Parallel(n_jobs=-1)]: Done   5 out of   5 | elapsed: 29.4min finished\n"
          ],
          "name": "stderr"
        },
        {
          "output_type": "stream",
          "text": [
            "CPU times: user 15min 22s, sys: 1.49 s, total: 15min 24s\n",
            "Wall time: 37min 14s\n"
          ],
          "name": "stdout"
        }
      ]
    },
    {
      "cell_type": "code",
      "metadata": {
        "colab": {
          "base_uri": "https://localhost:8080/"
        },
        "id": "_HcCgM5Qk1CL",
        "outputId": "543f2edc-f444-4425-9662-6b659d624881"
      },
      "source": [
        "train = pd.read_csv('train_290_without_low2.csv')\n",
        "test = pd.read_csv('test_dropped_290_without_nans.csv')\n",
        "print(train.shape, test.shape)"
      ],
      "execution_count": 5,
      "outputs": [
        {
          "output_type": "stream",
          "text": [
            "(2794, 294) (939, 293)\n"
          ],
          "name": "stdout"
        }
      ]
    },
    {
      "cell_type": "code",
      "metadata": {
        "colab": {
          "base_uri": "https://localhost:8080/"
        },
        "id": "-vlLLu_Ak286",
        "outputId": "c320ed9a-12bf-4c82-f88d-0197b49932bc"
      },
      "source": [
        "%%time\n",
        "params = {\n",
        "        'min_child_weight': [10],\n",
        "        'gamma': [1.5],\n",
        "        'subsample': [0.8],\n",
        "        'colsample_bytree': [0.6],\n",
        "        'max_depth': [6]\n",
        "        }\n",
        "xgb = XGBClassifier(learning_rate=0.01, n_estimators=1200, nthread=-1)\n",
        "folds = 5\n",
        "param_comb = 5\n",
        "\n",
        "skf = StratifiedKFold(n_splits=folds, shuffle = True, random_state = 256)\n",
        "\n",
        "random_search = RandomizedSearchCV(xgb, param_distributions=params, n_iter=param_comb, scoring='f1_weighted', n_jobs=-1, cv=skf.split(train.drop('Culture',axis=1),train['Culture']), verbose=3, random_state=42 )\n",
        "\n",
        "# Here we go # timing starts from this point for \"start_time\" variable\n",
        "random_search.fit(train.drop('Culture',axis=1),train['Culture'])\n",
        "preds = random_search.predict(test)\n",
        "pd.Series(preds).to_csv('xgb_52.csv', index=False, header=['Culture'])"
      ],
      "execution_count": 6,
      "outputs": [
        {
          "output_type": "stream",
          "text": [
            "Fitting 5 folds for each of 1 candidates, totalling 5 fits\n"
          ],
          "name": "stdout"
        },
        {
          "output_type": "stream",
          "text": [
            "/usr/local/lib/python3.6/dist-packages/sklearn/model_selection/_search.py:281: UserWarning: The total space of parameters 1 is smaller than n_iter=5. Running 1 iterations. For exhaustive searches, use GridSearchCV.\n",
            "  % (grid_size, self.n_iter, grid_size), UserWarning)\n",
            "[Parallel(n_jobs=-1)]: Using backend LokyBackend with 2 concurrent workers.\n",
            "[Parallel(n_jobs=-1)]: Done   5 out of   5 | elapsed: 25.8min finished\n"
          ],
          "name": "stderr"
        },
        {
          "output_type": "stream",
          "text": [
            "CPU times: user 13min 34s, sys: 1.31 s, total: 13min 36s\n",
            "Wall time: 32min 43s\n"
          ],
          "name": "stdout"
        }
      ]
    },
    {
      "cell_type": "code",
      "metadata": {
        "id": "IWzVqz0Lk581"
      },
      "source": [
        ""
      ],
      "execution_count": null,
      "outputs": []
    }
  ]
}